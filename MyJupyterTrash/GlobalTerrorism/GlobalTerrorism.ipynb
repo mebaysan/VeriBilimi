{
 "cells": [
  {
   "cell_type": "code",
   "execution_count": 1,
   "metadata": {},
   "outputs": [],
   "source": [
    "import pandas as pd\n",
    "import numpy as np"
   ]
  },
  {
   "cell_type": "code",
   "execution_count": 2,
   "metadata": {},
   "outputs": [],
   "source": [
    "df = pd.read_csv('Filtered_Global_Terror_Data.csv',index_col='Unnamed: 0')"
   ]
  },
  {
   "cell_type": "code",
   "execution_count": 79,
   "metadata": {},
   "outputs": [
    {
     "data": {
      "text/plain": [
       "['iyear',\n",
       " 'imonth',\n",
       " 'iday',\n",
       " 'country_txt',\n",
       " 'city',\n",
       " 'COUNTRY_LATITUDE',\n",
       " 'COUNTRY_LONGITUDE',\n",
       " 'CITY_LATITUDE',\n",
       " 'CITY_LONGITUDE',\n",
       " 'success',\n",
       " 'nkill',\n",
       " 'nwound',\n",
       " 'nreleased',\n",
       " 'location',\n",
       " 'summary',\n",
       " 'addnotes',\n",
       " 'claimmode_txt',\n",
       " 'attacktype1_txt',\n",
       " 'weapdetail',\n",
       " 'target1',\n",
       " 'targtype1_txt',\n",
       " 'corp1',\n",
       " 'date']"
      ]
     },
     "execution_count": 79,
     "metadata": {},
     "output_type": "execute_result"
    }
   ],
   "source": [
    "df.columns.to_list() # asıl verisetinden çektiğim kolonlar"
   ]
  },
  {
   "cell_type": "code",
   "execution_count": 3,
   "metadata": {},
   "outputs": [],
   "source": [
    "# df['date'] = df.apply(lambda x: f\"{x['iyear']}-{x['iday']}-{x['imonth']}\",axis=1) # ayrı ayrı olan 3 kolonu birleştirdik"
   ]
  },
  {
   "cell_type": "code",
   "execution_count": null,
   "metadata": {},
   "outputs": [],
   "source": [
    "\"\"\"\n",
    "# tarih formatını düzenlemek için kendimize bir fonksiyon yazıyoruz\n",
    "def tarih_birlestir(cols):\n",
    "    gun = cols['iday']\n",
    "    ay = cols['imonth']\n",
    "    yil = cols['iyear']\n",
    "    if int(gun) < 10:\n",
    "        if int(gun) == 0:\n",
    "            gun = 1\n",
    "        gun = f\"0{gun}\"\n",
    "    if int(ay) < 10:\n",
    "        if int(ay) == 0:\n",
    "            ay = 1\n",
    "        ay = f\"0{ay}\"\n",
    "    tarih = f\"{gun}-{ay}-{yil}\"\n",
    "    return tarih\n",
    "\"\"\""
   ]
  },
  {
   "cell_type": "code",
   "execution_count": null,
   "metadata": {},
   "outputs": [],
   "source": [
    "#df['date'] = df[['iday','imonth','iyear']].apply(tarih_birlestir,axis=1)"
   ]
  },
  {
   "cell_type": "code",
   "execution_count": null,
   "metadata": {},
   "outputs": [],
   "source": [
    "#pd.to_datetime(df['date'],format='%d-%m-%Y') # tarih formatına göre date kolonu ekliyoruz"
   ]
  },
  {
   "cell_type": "code",
   "execution_count": 14,
   "metadata": {},
   "outputs": [],
   "source": [
    "# Bu satır bir kere çalışmıştır. Boş veriler dolduruldu ve daha sonra csv olarak dosya dışarı aktarıldı. Bir daha bu satır çalışmadı\n",
    "\"\"\"\n",
    "#df['nreleased'].replace(-1,np.nan,inplace=True)\n",
    "#df['nkill'].replace(-1,np.nan,inplace=True)\n",
    "#df['nwound'].replace(-1,np.nan,inplace=True)\n",
    "#df['success'].replace(-1,np.nan,inplace=True)\n",
    "df['location'].replace(np.nan,'Bilinmiyor',inplace=True)\n",
    "df['summary'].replace(np.nan,'Bilinmiyor',inplace=True)\n",
    "df['addnotes'].replace(np.nan,'Bilinmiyor',inplace=True)\n",
    "df['claimmode_txt'].replace(np.nan,'Bilinmiyor',inplace=True)\n",
    "df['attacktype1_txt'].replace(np.nan,'Bilinmiyor',inplace=True)\n",
    "df['weapdetail'].replace(np.nan,'Bilinmiyor',inplace=True)\n",
    "df['target1'].replace(np.nan,'Bilinmiyor',inplace=True)\n",
    "df['targtype1_txt'].replace(np.nan,'Bilinmiyor',inplace=True)\n",
    "df['corp1'].replace(np.nan,'Bilinmiyor',inplace=True)\n",
    "df.to_csv('Filtered_Global_Terror_Data.csv')\n",
    "\"\"\""
   ]
  },
  {
   "cell_type": "code",
   "execution_count": 4,
   "metadata": {},
   "outputs": [],
   "source": [
    "df['date'] = pd.to_datetime(df['date']) # date kolonunu datetime tipine çeviriyoruz"
   ]
  },
  {
   "cell_type": "code",
   "execution_count": 5,
   "metadata": {},
   "outputs": [],
   "source": [
    "import plotly.express as px\n",
    "# mapbox styles -> mapbox tokenimiz yoksa update_layout ile bu stilleri set etmemiz gerek\n",
    "#open-street-map\n",
    "#stamen-terrain"
   ]
  },
  {
   "cell_type": "code",
   "execution_count": 6,
   "metadata": {},
   "outputs": [],
   "source": [
    "# ÜLKE ENLEM, BOYLAM VE ADINA GÖRE FİLTRELİYORUZ. Mantıken 3ü'de aynı olan veriler aynı yerde gerçekleşmiştir\n",
    "# as_index=False gruplanan verilerin indexlenmesini istemiyoruz\n",
    "earth_df = df.groupby(by=['COUNTRY_LATITUDE','COUNTRY_LONGITUDE','country_txt'],as_index=False)"
   ]
  },
  {
   "cell_type": "code",
   "execution_count": 7,
   "metadata": {},
   "outputs": [],
   "source": [
    "fig = px.scatter_geo(earth_df.sum(), color=\"country_txt\",\n",
    "                     hover_name=\"country_txt\", size=\"nkill\",\n",
    "                     lat=\"COUNTRY_LATITUDE\", lon=\"COUNTRY_LONGITUDE\",\n",
    "                     projection=\"natural earth\",labels={'country_txt':'Ülke Adı',\n",
    "                                                        'nkill':'Toplam Ölen',\n",
    "                                                        'COUNTRY_LATITUDE':'Ülke Enlem',\n",
    "                                                       'COUNTRY_LONGITUDE':'Ülke Boylam'},\n",
    "                    )\n",
    "\n",
    "fig.update_layout(title='Dünya Çapında Terör Saldırıları',\n",
    "                 )\n",
    "fig.write_html('earth-map.html')"
   ]
  },
  {
   "cell_type": "code",
   "execution_count": 8,
   "metadata": {},
   "outputs": [],
   "source": [
    "# GRUPLANDIRIRKEN YILLARI DA DAHİL EDİYORUZ. BU SAYEDE ANIMATED'I YILLARA GÖRE YAPABİLECEĞİZ\n",
    "animated_earth_df = df.groupby(by=['COUNTRY_LATITUDE','COUNTRY_LONGITUDE','country_txt','iyear'],as_index=False)"
   ]
  },
  {
   "cell_type": "code",
   "execution_count": 9,
   "metadata": {},
   "outputs": [],
   "source": [
    "fig = px.scatter_geo(animated_earth_df.sum(), color=\"country_txt\",\n",
    "                     hover_name=\"country_txt\", size=\"nkill\",\n",
    "                     lat=\"COUNTRY_LATITUDE\", lon=\"COUNTRY_LONGITUDE\",\n",
    "                     projection=\"natural earth\",labels={'country_txt':'Ülke Adı',\n",
    "                                                        'nkill':'Toplam Ölen',\n",
    "                                                        'COUNTRY_LATITUDE':'Ülke Enlem',\n",
    "                                                       'COUNTRY_LONGITUDE':'Ülke Boylam',\n",
    "                                                       'iyear':'Yıl'},\n",
    "                     animation_frame=\"iyear\"\n",
    "                    )\n",
    "\n",
    "fig.update_layout(title='Yıl YIl Dünya Çapında Terör Saldırıları',\n",
    "                 )\n",
    "\n",
    "fig.write_html('animated-earth-map.html')"
   ]
  },
  {
   "cell_type": "code",
   "execution_count": 10,
   "metadata": {
    "collapsed": true,
    "jupyter": {
     "outputs_hidden": true
    }
   },
   "outputs": [
    {
     "name": "stderr",
     "output_type": "stream",
     "text": [
      "/home/baysan/anaconda3/lib/python3.7/site-packages/pandas/core/generic.py:6746: SettingWithCopyWarning:\n",
      "\n",
      "\n",
      "A value is trying to be set on a copy of a slice from a DataFrame\n",
      "\n",
      "See the caveats in the documentation: https://pandas.pydata.org/pandas-docs/stable/user_guide/indexing.html#returning-a-view-versus-a-copy\n",
      "\n"
     ]
    }
   ],
   "source": [
    "# ülke filtrelenince ülkeye göre bu harita çalışacak\n",
    "scatter_df = df.query(f\"country_txt == 'Turkey'\")\n",
    "scatter_df['nkill'].replace(np.nan,0.000001,inplace=True)"
   ]
  },
  {
   "cell_type": "code",
   "execution_count": 11,
   "metadata": {},
   "outputs": [],
   "source": [
    "# filtreli bir durumda ülkelere özel olarak bu haritayı kullanacağız\n",
    "\n",
    "\n",
    "fig = px.scatter_mapbox(scatter_df, lat=\"CITY_LATITUDE\", lon=\"CITY_LONGITUDE\",     \n",
    "                        color=\"city\", size='nkill',\n",
    "                        hover_data=['summary'],\n",
    "                  color_continuous_scale=px.colors.cyclical.IceFire, zoom=5)\n",
    "fig.update_layout(mapbox_style='open-street-map')\n",
    "fig.write_html('scatter_map.html')"
   ]
  },
  {
   "cell_type": "code",
   "execution_count": 15,
   "metadata": {},
   "outputs": [
    {
     "data": {
      "text/plain": [
       "0        1996-03-28\n",
       "1        1974-12-15\n",
       "2        1998-07-03\n",
       "3        2014-05-28\n",
       "4        1987-10-04\n",
       "            ...    \n",
       "170303   2013-11-23\n",
       "170304   2013-11-23\n",
       "170305   2013-11-23\n",
       "170306   2013-11-23\n",
       "170307   2013-11-23\n",
       "Name: date, Length: 170308, dtype: datetime64[ns]"
      ]
     },
     "execution_count": 15,
     "metadata": {},
     "output_type": "execute_result"
    }
   ],
   "source": [
    "df['date']"
   ]
  },
  {
   "cell_type": "code",
   "execution_count": 16,
   "metadata": {},
   "outputs": [
    {
     "data": {
      "text/plain": [
       "Index(['iyear', 'imonth', 'iday', 'country_txt', 'city', 'COUNTRY_LATITUDE',\n",
       "       'COUNTRY_LONGITUDE', 'CITY_LATITUDE', 'CITY_LONGITUDE', 'success',\n",
       "       'nkill', 'nwound', 'nreleased', 'location', 'summary', 'addnotes',\n",
       "       'claimmode_txt', 'attacktype1_txt', 'weapdetail', 'target1',\n",
       "       'targtype1_txt', 'corp1', 'date'],\n",
       "      dtype='object')"
      ]
     },
     "execution_count": 16,
     "metadata": {},
     "output_type": "execute_result"
    }
   ],
   "source": [
    "df.columns"
   ]
  },
  {
   "cell_type": "code",
   "execution_count": 32,
   "metadata": {},
   "outputs": [
    {
     "data": {
      "text/plain": [
       "0                                                Patlayıcı\n",
       "1                                                Patlayıcı\n",
       "2                                               Bilinmiyor\n",
       "3                                               Bilinmiyor\n",
       "4                                    Otomatik ateşli silah\n",
       "                                ...                       \n",
       "170303                                          Bilinmiyor\n",
       "170304      Saldırıda bilinmeyen bir patlayıcı kullanıldı.\n",
       "170305                                          Bilinmiyor\n",
       "170306             Saldırıda bir araba bombası kullanıldı.\n",
       "170307    Saldırıda bilinmeyen ateşli silahlar kullanıldı.\n",
       "Name: weapdetail, Length: 170308, dtype: object"
      ]
     },
     "execution_count": 32,
     "metadata": {},
     "output_type": "execute_result"
    }
   ],
   "source": [
    "df['weapdetail']"
   ]
  },
  {
   "cell_type": "code",
   "execution_count": 62,
   "metadata": {},
   "outputs": [],
   "source": [
    "grouped = df.groupby(['weapdetail'],as_index=False).sum().sort_values('nkill',ascending=False) # nkill'e göre sıralıyoruz"
   ]
  },
  {
   "cell_type": "code",
   "execution_count": 64,
   "metadata": {},
   "outputs": [],
   "source": [
    "grouped.set_index('weapdetail',inplace=True)# index'i weapdetail kolonu olarak değiştiriyoruz"
   ]
  },
  {
   "cell_type": "code",
   "execution_count": 65,
   "metadata": {},
   "outputs": [],
   "source": [
    "grouped.drop(index='Bilinmiyor',inplace=True) # Bilimiyor olan index'i kaldırıyoruz"
   ]
  },
  {
   "cell_type": "code",
   "execution_count": 66,
   "metadata": {},
   "outputs": [],
   "source": [
    "grouped.reset_index(inplace=True) # index'leri sıfırlıyoruz"
   ]
  },
  {
   "cell_type": "code",
   "execution_count": 67,
   "metadata": {
    "collapsed": true,
    "jupyter": {
     "outputs_hidden": true
    }
   },
   "outputs": [
    {
     "data": {
      "text/html": [
       "<div>\n",
       "<style scoped>\n",
       "    .dataframe tbody tr th:only-of-type {\n",
       "        vertical-align: middle;\n",
       "    }\n",
       "\n",
       "    .dataframe tbody tr th {\n",
       "        vertical-align: top;\n",
       "    }\n",
       "\n",
       "    .dataframe thead th {\n",
       "        text-align: right;\n",
       "    }\n",
       "</style>\n",
       "<table border=\"1\" class=\"dataframe\">\n",
       "  <thead>\n",
       "    <tr style=\"text-align: right;\">\n",
       "      <th></th>\n",
       "      <th>weapdetail</th>\n",
       "      <th>iyear</th>\n",
       "      <th>imonth</th>\n",
       "      <th>iday</th>\n",
       "      <th>COUNTRY_LATITUDE</th>\n",
       "      <th>COUNTRY_LONGITUDE</th>\n",
       "      <th>CITY_LATITUDE</th>\n",
       "      <th>CITY_LONGITUDE</th>\n",
       "      <th>success</th>\n",
       "      <th>nkill</th>\n",
       "      <th>nwound</th>\n",
       "      <th>nreleased</th>\n",
       "    </tr>\n",
       "  </thead>\n",
       "  <tbody>\n",
       "    <tr>\n",
       "      <th>0</th>\n",
       "      <td>Otomatik ateşli silah</td>\n",
       "      <td>26801505</td>\n",
       "      <td>86921</td>\n",
       "      <td>205724</td>\n",
       "      <td>164261.855669</td>\n",
       "      <td>-381828.956907</td>\n",
       "      <td>163811.847880</td>\n",
       "      <td>-298047.413293</td>\n",
       "      <td>13093.0</td>\n",
       "      <td>58391.0</td>\n",
       "      <td>17558.0</td>\n",
       "      <td>311.0</td>\n",
       "    </tr>\n",
       "    <tr>\n",
       "      <th>1</th>\n",
       "      <td>Patlayıcı</td>\n",
       "      <td>42576613</td>\n",
       "      <td>137916</td>\n",
       "      <td>331739</td>\n",
       "      <td>344170.071548</td>\n",
       "      <td>-423569.068556</td>\n",
       "      <td>346545.687790</td>\n",
       "      <td>-344278.636007</td>\n",
       "      <td>19491.0</td>\n",
       "      <td>12145.0</td>\n",
       "      <td>42168.0</td>\n",
       "      <td>310.0</td>\n",
       "    </tr>\n",
       "    <tr>\n",
       "      <th>2</th>\n",
       "      <td>ateşli silâh</td>\n",
       "      <td>8293902</td>\n",
       "      <td>27709</td>\n",
       "      <td>65779</td>\n",
       "      <td>117524.244650</td>\n",
       "      <td>36555.112739</td>\n",
       "      <td>116434.988928</td>\n",
       "      <td>32818.531706</td>\n",
       "      <td>3886.0</td>\n",
       "      <td>9255.0</td>\n",
       "      <td>3465.0</td>\n",
       "      <td>113.0</td>\n",
       "    </tr>\n",
       "    <tr>\n",
       "      <th>3</th>\n",
       "      <td>Saldırıda bilinmeyen ateşli silahlar kullanıldı.</td>\n",
       "      <td>7809852</td>\n",
       "      <td>25980</td>\n",
       "      <td>61055</td>\n",
       "      <td>96833.396301</td>\n",
       "      <td>245448.990711</td>\n",
       "      <td>93559.018942</td>\n",
       "      <td>230818.135830</td>\n",
       "      <td>3689.0</td>\n",
       "      <td>6318.0</td>\n",
       "      <td>3561.0</td>\n",
       "      <td>-10292.0</td>\n",
       "    </tr>\n",
       "    <tr>\n",
       "      <th>4</th>\n",
       "      <td>Tabanca</td>\n",
       "      <td>9193524</td>\n",
       "      <td>28669</td>\n",
       "      <td>69986</td>\n",
       "      <td>78635.402552</td>\n",
       "      <td>-28110.267653</td>\n",
       "      <td>82105.516140</td>\n",
       "      <td>-30606.457565</td>\n",
       "      <td>4142.0</td>\n",
       "      <td>4853.0</td>\n",
       "      <td>1700.0</td>\n",
       "      <td>935.0</td>\n",
       "    </tr>\n",
       "    <tr>\n",
       "      <th>5</th>\n",
       "      <td>Saldırıda doğaçlama patlayıcı bir cihaz kullan...</td>\n",
       "      <td>5922581</td>\n",
       "      <td>19803</td>\n",
       "      <td>46776</td>\n",
       "      <td>91255.590161</td>\n",
       "      <td>155443.943004</td>\n",
       "      <td>90103.827227</td>\n",
       "      <td>152386.263794</td>\n",
       "      <td>2609.0</td>\n",
       "      <td>3714.0</td>\n",
       "      <td>11959.0</td>\n",
       "      <td>-393.0</td>\n",
       "    </tr>\n",
       "    <tr>\n",
       "      <th>6</th>\n",
       "      <td>Bıçak</td>\n",
       "      <td>1474329</td>\n",
       "      <td>5178</td>\n",
       "      <td>11799</td>\n",
       "      <td>19156.677458</td>\n",
       "      <td>17498.929268</td>\n",
       "      <td>17882.245853</td>\n",
       "      <td>15680.116309</td>\n",
       "      <td>604.0</td>\n",
       "      <td>3573.0</td>\n",
       "      <td>879.0</td>\n",
       "      <td>544.0</td>\n",
       "    </tr>\n",
       "    <tr>\n",
       "      <th>7</th>\n",
       "      <td>Saldırıda bir yol kenarı bombası kullanıldı.</td>\n",
       "      <td>5024486</td>\n",
       "      <td>15584</td>\n",
       "      <td>38683</td>\n",
       "      <td>78934.829100</td>\n",
       "      <td>131852.514268</td>\n",
       "      <td>77743.290811</td>\n",
       "      <td>127217.964274</td>\n",
       "      <td>2319.0</td>\n",
       "      <td>3101.0</td>\n",
       "      <td>6706.0</td>\n",
       "      <td>0.0</td>\n",
       "    </tr>\n",
       "    <tr>\n",
       "      <th>8</th>\n",
       "      <td>Saldırıda bilinmeyen silahlar kullanıldı.</td>\n",
       "      <td>1466989</td>\n",
       "      <td>4741</td>\n",
       "      <td>10840</td>\n",
       "      <td>16408.379589</td>\n",
       "      <td>43014.788948</td>\n",
       "      <td>15643.213130</td>\n",
       "      <td>40611.950194</td>\n",
       "      <td>693.0</td>\n",
       "      <td>2188.0</td>\n",
       "      <td>1137.0</td>\n",
       "      <td>-8007.0</td>\n",
       "    </tr>\n",
       "    <tr>\n",
       "      <th>9</th>\n",
       "      <td>Araba bombası</td>\n",
       "      <td>891228</td>\n",
       "      <td>3015</td>\n",
       "      <td>7506</td>\n",
       "      <td>13593.105472</td>\n",
       "      <td>494.746303</td>\n",
       "      <td>13457.022139</td>\n",
       "      <td>-134.789931</td>\n",
       "      <td>385.0</td>\n",
       "      <td>1504.0</td>\n",
       "      <td>5956.0</td>\n",
       "      <td>0.0</td>\n",
       "    </tr>\n",
       "  </tbody>\n",
       "</table>\n",
       "</div>"
      ],
      "text/plain": [
       "                                          weapdetail     iyear  imonth  \\\n",
       "0                              Otomatik ateşli silah  26801505   86921   \n",
       "1                                          Patlayıcı  42576613  137916   \n",
       "2                                       ateşli silâh   8293902   27709   \n",
       "3   Saldırıda bilinmeyen ateşli silahlar kullanıldı.   7809852   25980   \n",
       "4                                            Tabanca   9193524   28669   \n",
       "5  Saldırıda doğaçlama patlayıcı bir cihaz kullan...   5922581   19803   \n",
       "6                                              Bıçak   1474329    5178   \n",
       "7       Saldırıda bir yol kenarı bombası kullanıldı.   5024486   15584   \n",
       "8          Saldırıda bilinmeyen silahlar kullanıldı.   1466989    4741   \n",
       "9                                      Araba bombası    891228    3015   \n",
       "\n",
       "     iday  COUNTRY_LATITUDE  COUNTRY_LONGITUDE  CITY_LATITUDE  CITY_LONGITUDE  \\\n",
       "0  205724     164261.855669     -381828.956907  163811.847880  -298047.413293   \n",
       "1  331739     344170.071548     -423569.068556  346545.687790  -344278.636007   \n",
       "2   65779     117524.244650       36555.112739  116434.988928    32818.531706   \n",
       "3   61055      96833.396301      245448.990711   93559.018942   230818.135830   \n",
       "4   69986      78635.402552      -28110.267653   82105.516140   -30606.457565   \n",
       "5   46776      91255.590161      155443.943004   90103.827227   152386.263794   \n",
       "6   11799      19156.677458       17498.929268   17882.245853    15680.116309   \n",
       "7   38683      78934.829100      131852.514268   77743.290811   127217.964274   \n",
       "8   10840      16408.379589       43014.788948   15643.213130    40611.950194   \n",
       "9    7506      13593.105472         494.746303   13457.022139     -134.789931   \n",
       "\n",
       "   success    nkill   nwound  nreleased  \n",
       "0  13093.0  58391.0  17558.0      311.0  \n",
       "1  19491.0  12145.0  42168.0      310.0  \n",
       "2   3886.0   9255.0   3465.0      113.0  \n",
       "3   3689.0   6318.0   3561.0   -10292.0  \n",
       "4   4142.0   4853.0   1700.0      935.0  \n",
       "5   2609.0   3714.0  11959.0     -393.0  \n",
       "6    604.0   3573.0    879.0      544.0  \n",
       "7   2319.0   3101.0   6706.0        0.0  \n",
       "8    693.0   2188.0   1137.0    -8007.0  \n",
       "9    385.0   1504.0   5956.0        0.0  "
      ]
     },
     "execution_count": 67,
     "metadata": {},
     "output_type": "execute_result"
    }
   ],
   "source": [
    "grouped.iloc[0:10,:] # en yüksek nkill'i olan 10 satırı alıyoruz"
   ]
  },
  {
   "cell_type": "code",
   "execution_count": 100,
   "metadata": {},
   "outputs": [],
   "source": [
    "grouped = df.groupby(['attacktype1_txt','country_txt'],as_index=False).sum().sort_values('nkill',ascending=False) # nkill'e göre sıralıyoruz"
   ]
  },
  {
   "cell_type": "code",
   "execution_count": 122,
   "metadata": {},
   "outputs": [],
   "source": [
    "grouped = df.groupby(by=['iyear','attacktype1_txt'], as_index=False).sum()"
   ]
  },
  {
   "cell_type": "code",
   "execution_count": 126,
   "metadata": {},
   "outputs": [
    {
     "data": {
      "text/html": [
       "<div>\n",
       "<style scoped>\n",
       "    .dataframe tbody tr th:only-of-type {\n",
       "        vertical-align: middle;\n",
       "    }\n",
       "\n",
       "    .dataframe tbody tr th {\n",
       "        vertical-align: top;\n",
       "    }\n",
       "\n",
       "    .dataframe thead th {\n",
       "        text-align: right;\n",
       "    }\n",
       "</style>\n",
       "<table border=\"1\" class=\"dataframe\">\n",
       "  <thead>\n",
       "    <tr style=\"text-align: right;\">\n",
       "      <th></th>\n",
       "      <th>iyear</th>\n",
       "      <th>attacktype1_txt</th>\n",
       "      <th>imonth</th>\n",
       "      <th>iday</th>\n",
       "      <th>COUNTRY_LATITUDE</th>\n",
       "      <th>COUNTRY_LONGITUDE</th>\n",
       "      <th>CITY_LATITUDE</th>\n",
       "      <th>CITY_LONGITUDE</th>\n",
       "      <th>success</th>\n",
       "      <th>nkill</th>\n",
       "      <th>nwound</th>\n",
       "      <th>nreleased</th>\n",
       "    </tr>\n",
       "  </thead>\n",
       "  <tbody>\n",
       "    <tr>\n",
       "      <th>0</th>\n",
       "      <td>1970</td>\n",
       "      <td>Bilinmeyen</td>\n",
       "      <td>21</td>\n",
       "      <td>87</td>\n",
       "      <td>36.189351</td>\n",
       "      <td>388.766790</td>\n",
       "      <td>65.595856</td>\n",
       "      <td>366.549339</td>\n",
       "      <td>4.0</td>\n",
       "      <td>4.0</td>\n",
       "      <td>2.0</td>\n",
       "      <td>0.0</td>\n",
       "    </tr>\n",
       "    <tr>\n",
       "      <th>1</th>\n",
       "      <td>1970</td>\n",
       "      <td>Bilinmiyor</td>\n",
       "      <td>4</td>\n",
       "      <td>16</td>\n",
       "      <td>73.370026</td>\n",
       "      <td>-183.690155</td>\n",
       "      <td>81.463769</td>\n",
       "      <td>-147.959330</td>\n",
       "      <td>0.0</td>\n",
       "      <td>0.0</td>\n",
       "      <td>0.0</td>\n",
       "      <td>0.0</td>\n",
       "    </tr>\n",
       "    <tr>\n",
       "      <th>2</th>\n",
       "      <td>1970</td>\n",
       "      <td>Bombalama / Patlama</td>\n",
       "      <td>2006</td>\n",
       "      <td>4918</td>\n",
       "      <td>11416.074449</td>\n",
       "      <td>-24347.230855</td>\n",
       "      <td>11691.888557</td>\n",
       "      <td>-24023.572936</td>\n",
       "      <td>266.0</td>\n",
       "      <td>96.0</td>\n",
       "      <td>124.0</td>\n",
       "      <td>0.0</td>\n",
       "    </tr>\n",
       "    <tr>\n",
       "      <th>3</th>\n",
       "      <td>1970</td>\n",
       "      <td>Rehin Alma (Kaçırma)</td>\n",
       "      <td>243</td>\n",
       "      <td>570</td>\n",
       "      <td>94.949156</td>\n",
       "      <td>-1757.952344</td>\n",
       "      <td>125.148902</td>\n",
       "      <td>-1473.954236</td>\n",
       "      <td>33.0</td>\n",
       "      <td>6.0</td>\n",
       "      <td>1.0</td>\n",
       "      <td>40.0</td>\n",
       "    </tr>\n",
       "    <tr>\n",
       "      <th>4</th>\n",
       "      <td>1970</td>\n",
       "      <td>Rehine Alma (Barikat Olayı)</td>\n",
       "      <td>20</td>\n",
       "      <td>39</td>\n",
       "      <td>28.744742</td>\n",
       "      <td>15.789491</td>\n",
       "      <td>29.008687</td>\n",
       "      <td>15.677974</td>\n",
       "      <td>3.0</td>\n",
       "      <td>0.0</td>\n",
       "      <td>0.0</td>\n",
       "      <td>120.0</td>\n",
       "    </tr>\n",
       "    <tr>\n",
       "      <th>...</th>\n",
       "      <td>...</td>\n",
       "      <td>...</td>\n",
       "      <td>...</td>\n",
       "      <td>...</td>\n",
       "      <td>...</td>\n",
       "      <td>...</td>\n",
       "      <td>...</td>\n",
       "      <td>...</td>\n",
       "      <td>...</td>\n",
       "      <td>...</td>\n",
       "      <td>...</td>\n",
       "      <td>...</td>\n",
       "    </tr>\n",
       "    <tr>\n",
       "      <th>445</th>\n",
       "      <td>2016</td>\n",
       "      <td>Silahlı saldırı</td>\n",
       "      <td>9470</td>\n",
       "      <td>23037</td>\n",
       "      <td>36952.807651</td>\n",
       "      <td>83239.665165</td>\n",
       "      <td>37273.780947</td>\n",
       "      <td>81227.373255</td>\n",
       "      <td>1310.0</td>\n",
       "      <td>3741.0</td>\n",
       "      <td>2693.0</td>\n",
       "      <td>0.0</td>\n",
       "    </tr>\n",
       "    <tr>\n",
       "      <th>446</th>\n",
       "      <td>2016</td>\n",
       "      <td>Silahsız Assault</td>\n",
       "      <td>266</td>\n",
       "      <td>581</td>\n",
       "      <td>1204.661682</td>\n",
       "      <td>1915.085371</td>\n",
       "      <td>1263.410686</td>\n",
       "      <td>1864.887831</td>\n",
       "      <td>38.0</td>\n",
       "      <td>5.0</td>\n",
       "      <td>405.0</td>\n",
       "      <td>0.0</td>\n",
       "    </tr>\n",
       "    <tr>\n",
       "      <th>447</th>\n",
       "      <td>2016</td>\n",
       "      <td>Suikast</td>\n",
       "      <td>4064</td>\n",
       "      <td>9610</td>\n",
       "      <td>11158.203940</td>\n",
       "      <td>41099.931325</td>\n",
       "      <td>11357.403193</td>\n",
       "      <td>37586.191404</td>\n",
       "      <td>395.0</td>\n",
       "      <td>574.0</td>\n",
       "      <td>448.0</td>\n",
       "      <td>5.0</td>\n",
       "    </tr>\n",
       "    <tr>\n",
       "      <th>448</th>\n",
       "      <td>2016</td>\n",
       "      <td>Tesis / Altyapı Saldırısı</td>\n",
       "      <td>2619</td>\n",
       "      <td>5964</td>\n",
       "      <td>10670.111295</td>\n",
       "      <td>15601.204650</td>\n",
       "      <td>10958.116164</td>\n",
       "      <td>14784.274652</td>\n",
       "      <td>364.0</td>\n",
       "      <td>92.0</td>\n",
       "      <td>3.0</td>\n",
       "      <td>-99.0</td>\n",
       "    </tr>\n",
       "    <tr>\n",
       "      <th>449</th>\n",
       "      <td>2016</td>\n",
       "      <td>uçak kaçırma</td>\n",
       "      <td>164</td>\n",
       "      <td>403</td>\n",
       "      <td>338.569787</td>\n",
       "      <td>1223.865673</td>\n",
       "      <td>348.294859</td>\n",
       "      <td>1116.513774</td>\n",
       "      <td>23.0</td>\n",
       "      <td>11.0</td>\n",
       "      <td>7.0</td>\n",
       "      <td>-463.0</td>\n",
       "    </tr>\n",
       "  </tbody>\n",
       "</table>\n",
       "<p>450 rows × 12 columns</p>\n",
       "</div>"
      ],
      "text/plain": [
       "     iyear              attacktype1_txt  imonth   iday  COUNTRY_LATITUDE  \\\n",
       "0     1970                   Bilinmeyen      21     87         36.189351   \n",
       "1     1970                   Bilinmiyor       4     16         73.370026   \n",
       "2     1970          Bombalama / Patlama    2006   4918      11416.074449   \n",
       "3     1970         Rehin Alma (Kaçırma)     243    570         94.949156   \n",
       "4     1970  Rehine Alma (Barikat Olayı)      20     39         28.744742   \n",
       "..     ...                          ...     ...    ...               ...   \n",
       "445   2016              Silahlı saldırı    9470  23037      36952.807651   \n",
       "446   2016             Silahsız Assault     266    581       1204.661682   \n",
       "447   2016                      Suikast    4064   9610      11158.203940   \n",
       "448   2016    Tesis / Altyapı Saldırısı    2619   5964      10670.111295   \n",
       "449   2016                 uçak kaçırma     164    403        338.569787   \n",
       "\n",
       "     COUNTRY_LONGITUDE  CITY_LATITUDE  CITY_LONGITUDE  success   nkill  \\\n",
       "0           388.766790      65.595856      366.549339      4.0     4.0   \n",
       "1          -183.690155      81.463769     -147.959330      0.0     0.0   \n",
       "2        -24347.230855   11691.888557   -24023.572936    266.0    96.0   \n",
       "3         -1757.952344     125.148902    -1473.954236     33.0     6.0   \n",
       "4            15.789491      29.008687       15.677974      3.0     0.0   \n",
       "..                 ...            ...             ...      ...     ...   \n",
       "445       83239.665165   37273.780947    81227.373255   1310.0  3741.0   \n",
       "446        1915.085371    1263.410686     1864.887831     38.0     5.0   \n",
       "447       41099.931325   11357.403193    37586.191404    395.0   574.0   \n",
       "448       15601.204650   10958.116164    14784.274652    364.0    92.0   \n",
       "449        1223.865673     348.294859     1116.513774     23.0    11.0   \n",
       "\n",
       "     nwound  nreleased  \n",
       "0       2.0        0.0  \n",
       "1       0.0        0.0  \n",
       "2     124.0        0.0  \n",
       "3       1.0       40.0  \n",
       "4       0.0      120.0  \n",
       "..      ...        ...  \n",
       "445  2693.0        0.0  \n",
       "446   405.0        0.0  \n",
       "447   448.0        5.0  \n",
       "448     3.0      -99.0  \n",
       "449     7.0     -463.0  \n",
       "\n",
       "[450 rows x 12 columns]"
      ]
     },
     "execution_count": 126,
     "metadata": {},
     "output_type": "execute_result"
    }
   ],
   "source": [
    "grouped"
   ]
  },
  {
   "cell_type": "code",
   "execution_count": 249,
   "metadata": {},
   "outputs": [],
   "source": [
    "test = df[['iyear','attacktype1_txt']].copy() # asıl df'in belirli bir kesitinin kopyasını değişkene atıyoruz"
   ]
  },
  {
   "cell_type": "code",
   "execution_count": 250,
   "metadata": {},
   "outputs": [],
   "source": [
    "test['count'] = 1 # yeni kolon ekliyoruz"
   ]
  },
  {
   "cell_type": "code",
   "execution_count": 263,
   "metadata": {},
   "outputs": [],
   "source": [
    "grpd = test.groupby(['iyear','attacktype1_txt'],as_index=False).sum() # grupluyoruz"
   ]
  },
  {
   "cell_type": "code",
   "execution_count": 275,
   "metadata": {},
   "outputs": [],
   "source": [
    "grpd.sort_values(by='count',ascending=False,inplace=True) # count değişkenine göre sıralıyoruz"
   ]
  },
  {
   "cell_type": "code",
   "execution_count": null,
   "metadata": {},
   "outputs": [],
   "source": []
  }
 ],
 "metadata": {
  "kernelspec": {
   "display_name": "Python 3",
   "language": "python",
   "name": "python3"
  },
  "language_info": {
   "codemirror_mode": {
    "name": "ipython",
    "version": 3
   },
   "file_extension": ".py",
   "mimetype": "text/x-python",
   "name": "python",
   "nbconvert_exporter": "python",
   "pygments_lexer": "ipython3",
   "version": "3.7.6"
  }
 },
 "nbformat": 4,
 "nbformat_minor": 4
}
