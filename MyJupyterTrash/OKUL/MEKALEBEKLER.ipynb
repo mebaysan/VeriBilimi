{
 "cells": [
  {
   "cell_type": "code",
   "execution_count": 37,
   "metadata": {},
   "outputs": [],
   "source": [
    "import pandas as pd"
   ]
  },
  {
   "cell_type": "markdown",
   "metadata": {},
   "source": [
    "# GELİŞTİRME GİDERLERİ"
   ]
  },
  {
   "cell_type": "markdown",
   "metadata": {},
   "source": [
    "## Maaşlar Tablosu"
   ]
  },
  {
   "cell_type": "code",
   "execution_count": 38,
   "metadata": {},
   "outputs": [],
   "source": [
    "maas = pd.DataFrame(columns=['Personel','Brüt Maaş','Ay','Toplam']) # tablo oluşturuyoruz"
   ]
  },
  {
   "cell_type": "code",
   "execution_count": 39,
   "metadata": {},
   "outputs": [],
   "source": [
    "maas = maas.append({'Personel':'Yazılımcı','Brüt Maaş':5000,'Ay':12,'Toplam':''},ignore_index=True)\n",
    "maas = maas.append({'Personel':'Tekniker','Brüt Maaş':3000,'Ay':24,'Toplam':''},ignore_index=True)"
   ]
  },
  {
   "cell_type": "code",
   "execution_count": 40,
   "metadata": {},
   "outputs": [
    {
     "data": {
      "text/html": [
       "<div>\n",
       "<style scoped>\n",
       "    .dataframe tbody tr th:only-of-type {\n",
       "        vertical-align: middle;\n",
       "    }\n",
       "\n",
       "    .dataframe tbody tr th {\n",
       "        vertical-align: top;\n",
       "    }\n",
       "\n",
       "    .dataframe thead th {\n",
       "        text-align: right;\n",
       "    }\n",
       "</style>\n",
       "<table border=\"1\" class=\"dataframe\">\n",
       "  <thead>\n",
       "    <tr style=\"text-align: right;\">\n",
       "      <th></th>\n",
       "      <th>Personel</th>\n",
       "      <th>Brüt Maaş</th>\n",
       "      <th>Ay</th>\n",
       "      <th>Toplam</th>\n",
       "    </tr>\n",
       "  </thead>\n",
       "  <tbody>\n",
       "    <tr>\n",
       "      <th>0</th>\n",
       "      <td>Yazılımcı</td>\n",
       "      <td>5000</td>\n",
       "      <td>12</td>\n",
       "      <td></td>\n",
       "    </tr>\n",
       "    <tr>\n",
       "      <th>1</th>\n",
       "      <td>Tekniker</td>\n",
       "      <td>3000</td>\n",
       "      <td>24</td>\n",
       "      <td></td>\n",
       "    </tr>\n",
       "  </tbody>\n",
       "</table>\n",
       "</div>"
      ],
      "text/plain": [
       "    Personel Brüt Maaş  Ay Toplam\n",
       "0  Yazılımcı      5000  12       \n",
       "1   Tekniker      3000  24       "
      ]
     },
     "execution_count": 40,
     "metadata": {},
     "output_type": "execute_result"
    }
   ],
   "source": [
    "maas"
   ]
  },
  {
   "cell_type": "code",
   "execution_count": 41,
   "metadata": {},
   "outputs": [],
   "source": [
    "maas['Toplam'] = maas[['Brüt Maaş','Ay']].apply(lambda x: x['Brüt Maaş']*x['Ay'], axis=1) # Brüt Maaş kolonu ile Ay kolonunu çarpıp toplam kolonuna atıyoruz (her satır için)"
   ]
  },
  {
   "cell_type": "code",
   "execution_count": 42,
   "metadata": {},
   "outputs": [],
   "source": [
    "maas_toplam = maas['Toplam'].sum() # toplam kolonunu topluyoruz"
   ]
  },
  {
   "cell_type": "code",
   "execution_count": 43,
   "metadata": {},
   "outputs": [
    {
     "data": {
      "text/plain": [
       "132000"
      ]
     },
     "execution_count": 43,
     "metadata": {},
     "output_type": "execute_result"
    }
   ],
   "source": [
    "maas_toplam"
   ]
  },
  {
   "cell_type": "markdown",
   "metadata": {},
   "source": [
    "## Donanım Tablosu"
   ]
  },
  {
   "cell_type": "code",
   "execution_count": 44,
   "metadata": {},
   "outputs": [],
   "source": [
    "donanim = pd.DataFrame(columns=['Madde','Birim','Fiyat','Toplam'])"
   ]
  },
  {
   "cell_type": "code",
   "execution_count": 45,
   "metadata": {},
   "outputs": [],
   "source": [
    "# donanımlar eklenecek"
   ]
  },
  {
   "cell_type": "code",
   "execution_count": 46,
   "metadata": {},
   "outputs": [],
   "source": [
    "donanim['Toplam'] = donanim[['Birim','Fiyat']].apply(lambda x: x['Birim']*x['Fiyat'], axis=1)"
   ]
  },
  {
   "cell_type": "code",
   "execution_count": 47,
   "metadata": {},
   "outputs": [],
   "source": [
    "donanim_toplam = donanim['Toplam'].sum()"
   ]
  },
  {
   "cell_type": "markdown",
   "metadata": {},
   "source": [
    "## Lisanslar Tablosu"
   ]
  },
  {
   "cell_type": "code",
   "execution_count": 48,
   "metadata": {},
   "outputs": [],
   "source": [
    "lisans = pd.DataFrame(columns=['Yazılım Adı','Miktar','Ay','Fiyat','Toplam','Açıklama'])"
   ]
  },
  {
   "cell_type": "code",
   "execution_count": 49,
   "metadata": {},
   "outputs": [],
   "source": [
    "# lisanslar eklenecek"
   ]
  },
  {
   "cell_type": "code",
   "execution_count": 50,
   "metadata": {},
   "outputs": [],
   "source": [
    "lisans['Toplam'] = lisans[['Miktar','Ay','Fiyat']].apply(lambda x: x['Birim']*x['Fiyat']*x['Ay'], axis=1)"
   ]
  },
  {
   "cell_type": "code",
   "execution_count": 51,
   "metadata": {},
   "outputs": [],
   "source": [
    "lisans_toplam = lisans['Toplam'].sum()"
   ]
  },
  {
   "cell_type": "markdown",
   "metadata": {},
   "source": [
    "## Geliştirme Giderleri Tablosu"
   ]
  },
  {
   "cell_type": "code",
   "execution_count": 52,
   "metadata": {},
   "outputs": [],
   "source": [
    "gelistirme_giderleri = pd.DataFrame(columns=['Gider Maddesi','Miktar','Açıklama']) # tablo oluşturuyoruz"
   ]
  },
  {
   "cell_type": "code",
   "execution_count": 53,
   "metadata": {},
   "outputs": [],
   "source": [
    "gelistirme_giderleri = gelistirme_giderleri.append({'Gider Maddesi':'Maaşlar','Miktar':maas_toplam,'Açıklama':'Maaşlar Tablosuna Bakınız'},ignore_index=True) # Maaşlar Tablosunun toplamını gelir tablosuna ekliyoruz\n",
    "gelistirme_giderleri = gelistirme_giderleri.append({'Gider Maddesi':'Donanım','Miktar':donanim_toplam,'Açıklama':'Donanım Tablosuna Bakınız'},ignore_index=True)\n",
    "gelistirme_giderleri = gelistirme_giderleri.append({'Gider Maddesi':'Lisanslar','Miktar':lisans_toplam,'Açıklama':'Lisans Tablosuna Bakınız'},ignore_index=True)"
   ]
  },
  {
   "cell_type": "code",
   "execution_count": 55,
   "metadata": {},
   "outputs": [],
   "source": [
    "gelistirme_giderleri\n",
    "gelistirme_giderleri.to_csv('gelistirme-giderleri.csv')"
   ]
  },
  {
   "cell_type": "code",
   "execution_count": 18,
   "metadata": {},
   "outputs": [],
   "source": [
    "gelistirme_giderleri_toplam = gelistirme_giderleri['Miktar'].sum()"
   ]
  },
  {
   "cell_type": "markdown",
   "metadata": {},
   "source": [
    "# SÜREKLİ GİDERLER"
   ]
  },
  {
   "cell_type": "markdown",
   "metadata": {},
   "source": [
    "## Sürekli Giderler Tablosu"
   ]
  },
  {
   "cell_type": "code",
   "execution_count": 19,
   "metadata": {},
   "outputs": [],
   "source": [
    "surekli_giderler = pd.DataFrame(columns=['Gider Maddesi','Miktar','Açıklama'])"
   ]
  },
  {
   "cell_type": "code",
   "execution_count": 20,
   "metadata": {},
   "outputs": [],
   "source": [
    "surekli_giderler_toplam = surekli_giderler['Miktar'].sum()"
   ]
  },
  {
   "cell_type": "markdown",
   "metadata": {},
   "source": [
    "# SÜREKLİ GELİRLER"
   ]
  },
  {
   "cell_type": "markdown",
   "metadata": {},
   "source": [
    "## Sürekli Gelirler Tablosu"
   ]
  },
  {
   "cell_type": "code",
   "execution_count": 21,
   "metadata": {},
   "outputs": [],
   "source": [
    "surekli_gelirler = pd.DataFrame(columns=['Gelir Maddesi','Miktar','Açıklama'])"
   ]
  },
  {
   "cell_type": "code",
   "execution_count": 22,
   "metadata": {},
   "outputs": [],
   "source": [
    "surekli_gelirler_toplam = surekli_gelirler['Miktar'].sum()"
   ]
  },
  {
   "cell_type": "markdown",
   "metadata": {},
   "source": [
    "# 5 YILLIK PLANLAMA"
   ]
  },
  {
   "cell_type": "markdown",
   "metadata": {},
   "source": [
    "## Gelir Gider Sabitleri"
   ]
  },
  {
   "cell_type": "code",
   "execution_count": 23,
   "metadata": {},
   "outputs": [],
   "source": [
    "GELISTIRME_GIDERLERI = gelistirme_giderleri_toplam\n",
    "SUREKLI_GIDERLER = surekli_giderler_toplam\n",
    "SUREKLI_GELIRLER = surekli_gelirler_toplam"
   ]
  },
  {
   "cell_type": "markdown",
   "metadata": {},
   "source": [
    "## İndirim Oranı Sabitleri"
   ]
  },
  {
   "cell_type": "code",
   "execution_count": 48,
   "metadata": {},
   "outputs": [],
   "source": [
    "GELIR_INDIRIM_ORANI = (10 / 100, '10%')\n",
    "GIDER_INDIRIM_ORANI = (10 / 100, '10%')"
   ]
  },
  {
   "cell_type": "markdown",
   "metadata": {},
   "source": [
    "## 5 Yıllık Planlama Tablosu"
   ]
  },
  {
   "cell_type": "code",
   "execution_count": 49,
   "metadata": {},
   "outputs": [],
   "source": [
    "bes_yillik_tablo = pd.DataFrame()\n",
    "\n",
    "gelir_gider_analizi = pd.Series(['Gelirler',f'Gelir İndirim Faktörü ({GELIR_INDIRIM_ORANI[1]})','Gelirlerin Bugünkü Değeri',\n",
    "                                'Geliştirme Giderleri','Sürekli Giderler',f'Gider İndirim Faktörü ({GIDER_INDIRIM_ORANI[1]})','Giderlerin Bugünkü Değeri',\n",
    "                                'Bugünkü Gelir Gider Farkı',\n",
    "                                'Toplam Net Bugünkü Değer','Geri Ödeme Dönemi',\n",
    "                                'ROI'])\n",
    "\n",
    "bes_yillik_tablo['Gelir Gider Analizi'] = gelir_gider_analizi\n",
    "bes_yillik_tablo.set_index('Gelir Gider Analizi',inplace=True)"
   ]
  },
  {
   "cell_type": "markdown",
   "metadata": {},
   "source": [
    "### 0. Yıl (Geliştirme)"
   ]
  },
  {
   "cell_type": "code",
   "execution_count": 50,
   "metadata": {},
   "outputs": [
    {
     "data": {
      "text/html": [
       "<div>\n",
       "<style scoped>\n",
       "    .dataframe tbody tr th:only-of-type {\n",
       "        vertical-align: middle;\n",
       "    }\n",
       "\n",
       "    .dataframe tbody tr th {\n",
       "        vertical-align: top;\n",
       "    }\n",
       "\n",
       "    .dataframe thead th {\n",
       "        text-align: right;\n",
       "    }\n",
       "</style>\n",
       "<table border=\"1\" class=\"dataframe\">\n",
       "  <thead>\n",
       "    <tr style=\"text-align: right;\">\n",
       "      <th></th>\n",
       "    </tr>\n",
       "    <tr>\n",
       "      <th>Gelir Gider Analizi</th>\n",
       "    </tr>\n",
       "  </thead>\n",
       "  <tbody>\n",
       "    <tr>\n",
       "      <th>Gelirler</th>\n",
       "    </tr>\n",
       "    <tr>\n",
       "      <th>Gelir İndirim Faktörü (10%)</th>\n",
       "    </tr>\n",
       "    <tr>\n",
       "      <th>Gelirlerin Bugünkü Değeri</th>\n",
       "    </tr>\n",
       "    <tr>\n",
       "      <th>Geliştirme Giderleri</th>\n",
       "    </tr>\n",
       "    <tr>\n",
       "      <th>Sürekli Giderler</th>\n",
       "    </tr>\n",
       "    <tr>\n",
       "      <th>Gider İndirim Faktörü (10%)</th>\n",
       "    </tr>\n",
       "    <tr>\n",
       "      <th>Giderlerin Bugünkü Değeri</th>\n",
       "    </tr>\n",
       "    <tr>\n",
       "      <th>Bugünkü Gelir Gider Farkı</th>\n",
       "    </tr>\n",
       "    <tr>\n",
       "      <th>Toplam Net Bugünkü Değer</th>\n",
       "    </tr>\n",
       "    <tr>\n",
       "      <th>Geri Ödeme Dönemi</th>\n",
       "    </tr>\n",
       "    <tr>\n",
       "      <th>ROI</th>\n",
       "    </tr>\n",
       "  </tbody>\n",
       "</table>\n",
       "</div>"
      ],
      "text/plain": [
       "Empty DataFrame\n",
       "Columns: []\n",
       "Index: [Gelirler, Gelir İndirim Faktörü (10%), Gelirlerin Bugünkü Değeri, Geliştirme Giderleri, Sürekli Giderler, Gider İndirim Faktörü (10%), Giderlerin Bugünkü Değeri, Bugünkü Gelir Gider Farkı, Toplam Net Bugünkü Değer, Geri Ödeme Dönemi, ROI]"
      ]
     },
     "execution_count": 50,
     "metadata": {},
     "output_type": "execute_result"
    }
   ],
   "source": [
    "bes_yillik_tablo"
   ]
  },
  {
   "cell_type": "code",
   "execution_count": 54,
   "metadata": {},
   "outputs": [
    {
     "data": {
      "text/plain": [
       "0.1"
      ]
     },
     "execution_count": 54,
     "metadata": {},
     "output_type": "execute_result"
    }
   ],
   "source": [
    "GELIR_INDIRIM_ORANI[0]"
   ]
  },
  {
   "cell_type": "code",
   "execution_count": 61,
   "metadata": {},
   "outputs": [],
   "source": [
    "bes_yillik_tablo['Yıl 0'] = [surekli_gelirler_toplam,1,0,\n",
    "                             gelistirme_giderleri_toplam,\n",
    "                             surekli_giderler_toplam,1,surekli_giderler_toplam+gelistirme_giderleri_toplam,\n",
    "                             surekli_gelirler_toplam - (surekli_giderler_toplam + gelistirme_giderleri_toplam),'Toplam Net Bugünkü Değer',\n",
    "                             'geri ödeme','ROI']"
   ]
  },
  {
   "cell_type": "code",
   "execution_count": 62,
   "metadata": {},
   "outputs": [
    {
     "data": {
      "text/html": [
       "<div>\n",
       "<style scoped>\n",
       "    .dataframe tbody tr th:only-of-type {\n",
       "        vertical-align: middle;\n",
       "    }\n",
       "\n",
       "    .dataframe tbody tr th {\n",
       "        vertical-align: top;\n",
       "    }\n",
       "\n",
       "    .dataframe thead th {\n",
       "        text-align: right;\n",
       "    }\n",
       "</style>\n",
       "<table border=\"1\" class=\"dataframe\">\n",
       "  <thead>\n",
       "    <tr style=\"text-align: right;\">\n",
       "      <th></th>\n",
       "      <th>Yıl 0</th>\n",
       "    </tr>\n",
       "    <tr>\n",
       "      <th>Gelir Gider Analizi</th>\n",
       "      <th></th>\n",
       "    </tr>\n",
       "  </thead>\n",
       "  <tbody>\n",
       "    <tr>\n",
       "      <th>Gelirler</th>\n",
       "      <td>0</td>\n",
       "    </tr>\n",
       "    <tr>\n",
       "      <th>Gelir İndirim Faktörü (10%)</th>\n",
       "      <td>1</td>\n",
       "    </tr>\n",
       "    <tr>\n",
       "      <th>Gelirlerin Bugünkü Değeri</th>\n",
       "      <td>0</td>\n",
       "    </tr>\n",
       "    <tr>\n",
       "      <th>Geliştirme Giderleri</th>\n",
       "      <td>0</td>\n",
       "    </tr>\n",
       "    <tr>\n",
       "      <th>Sürekli Giderler</th>\n",
       "      <td>0</td>\n",
       "    </tr>\n",
       "    <tr>\n",
       "      <th>Gider İndirim Faktörü (10%)</th>\n",
       "      <td>1</td>\n",
       "    </tr>\n",
       "    <tr>\n",
       "      <th>Giderlerin Bugünkü Değeri</th>\n",
       "      <td>0</td>\n",
       "    </tr>\n",
       "    <tr>\n",
       "      <th>Bugünkü Gelir Gider Farkı</th>\n",
       "      <td>0</td>\n",
       "    </tr>\n",
       "    <tr>\n",
       "      <th>Toplam Net Bugünkü Değer</th>\n",
       "      <td>Toplam Net Bugünkü Değer</td>\n",
       "    </tr>\n",
       "    <tr>\n",
       "      <th>Geri Ödeme Dönemi</th>\n",
       "      <td>geri ödeme</td>\n",
       "    </tr>\n",
       "    <tr>\n",
       "      <th>ROI</th>\n",
       "      <td>ROI</td>\n",
       "    </tr>\n",
       "  </tbody>\n",
       "</table>\n",
       "</div>"
      ],
      "text/plain": [
       "                                                Yıl 0\n",
       "Gelir Gider Analizi                                  \n",
       "Gelirler                                            0\n",
       "Gelir İndirim Faktörü (10%)                         1\n",
       "Gelirlerin Bugünkü Değeri                           0\n",
       "Geliştirme Giderleri                                0\n",
       "Sürekli Giderler                                    0\n",
       "Gider İndirim Faktörü (10%)                         1\n",
       "Giderlerin Bugünkü Değeri                           0\n",
       "Bugünkü Gelir Gider Farkı                           0\n",
       "Toplam Net Bugünkü Değer     Toplam Net Bugünkü Değer\n",
       "Geri Ödeme Dönemi                          geri ödeme\n",
       "ROI                                               ROI"
      ]
     },
     "execution_count": 62,
     "metadata": {},
     "output_type": "execute_result"
    }
   ],
   "source": [
    "bes_yillik_tablo"
   ]
  }
 ],
 "metadata": {
  "kernelspec": {
   "display_name": "Python 3",
   "language": "python",
   "name": "python3"
  },
  "language_info": {
   "codemirror_mode": {
    "name": "ipython",
    "version": 3
   },
   "file_extension": ".py",
   "mimetype": "text/x-python",
   "name": "python",
   "nbconvert_exporter": "python",
   "pygments_lexer": "ipython3",
   "version": "3.7.6"
  }
 },
 "nbformat": 4,
 "nbformat_minor": 4
}
