{
 "cells": [
  {
   "cell_type": "code",
   "execution_count": 1,
   "metadata": {},
   "outputs": [],
   "source": [
    "import plotly.express as px\n",
    "import pandas as pd"
   ]
  },
  {
   "cell_type": "code",
   "execution_count": 46,
   "metadata": {},
   "outputs": [],
   "source": [
    "df = pd.DataFrame([\n",
    "    {'Görev':'Problemin Tanımlanması', 'Başlangıç':'2020-10-07', 'Bitiş':'2020-10-22'},\n",
    "    {'Görev':'Proje Planlanması', 'Başlangıç':'2020-10-23', 'Bitiş':'2020-11-08'},\n",
    "    {'Görev':'Fizibilite Raporlarının Hazırlanması', 'Başlangıç':'2020-11-09', 'Bitiş':'2020-12-15'},\n",
    "    {'Görev':'Personel Belirlenmesi', 'Başlangıç':'2020-12-10', 'Bitiş':'2021-01-15'},\n",
    "    {'Görev':'Teknik Malzemelerin Alımı', 'Başlangıç':'2021-01-01', 'Bitiş':'2021-02-01'},\n",
    "    {'Görev':'Çalışma Ortamının Hazırlanması', 'Başlangıç':'2021-01-01', 'Bitiş':'2021-02-15'},\n",
    "    {'Görev':'Anket', 'Başlangıç':'2021-01-16', 'Bitiş':'2021-01-23'},\n",
    "    {'Görev':'Görüşme', 'Başlangıç':'2021-01-24', 'Bitiş':'2021-02-10'},\n",
    "    {'Görev':'Veri Akış Diyagramları', 'Başlangıç':'2021-02-17', 'Bitiş':'2021-02-25'},\n",
    "    {'Görev':'Arayüzler', 'Başlangıç':'2021-03-01', 'Bitiş':'2021-04-01'},\n",
    "    {'Görev':'Tasarım', 'Başlangıç':'2021-04-01', 'Bitiş':'2021-04-15'},    \n",
    "    {'Görev':'Yazılım', 'Başlangıç':'2021-04-15', 'Bitiş':'2021-07-15'},\n",
    "    {'Görev':'Veri Tabanı Kurulumu', 'Başlangıç':'2021-06-15', 'Bitiş':'2021-08-15'},\n",
    "    {'Görev':'Test', 'Başlangıç':'2021-08-16', 'Bitiş':'2021-09-01'},\n",
    "    {'Görev':'Eğitim Uygulama', 'Başlangıç':'2021-09-02', 'Bitiş':'2021-10-15'},\n",
    "])"
   ]
  },
  {
   "cell_type": "code",
   "execution_count": 49,
   "metadata": {},
   "outputs": [],
   "source": [
    "fig = px.timeline(df, x_start=\"Başlangıç\", x_end=\"Bitiş\", y=\"Görev\")\n",
    "fig.update_xaxes(title='Tarih')\n",
    "fig.update_yaxes(autorange=\"reversed\",title='İşler')\n",
    "fig.update_layout(template='simple_white',title='Mekalebekler İBB Gantt Şeması')\n",
    "fig.write_html('gantt_schema.html')"
   ]
  },
  {
   "cell_type": "code",
   "execution_count": null,
   "metadata": {},
   "outputs": [],
   "source": []
  }
 ],
 "metadata": {
  "kernelspec": {
   "display_name": "Python 3",
   "language": "python",
   "name": "python3"
  },
  "language_info": {
   "codemirror_mode": {
    "name": "ipython",
    "version": 3
   },
   "file_extension": ".py",
   "mimetype": "text/x-python",
   "name": "python",
   "nbconvert_exporter": "python",
   "pygments_lexer": "ipython3",
   "version": "3.7.6"
  }
 },
 "nbformat": 4,
 "nbformat_minor": 4
}
