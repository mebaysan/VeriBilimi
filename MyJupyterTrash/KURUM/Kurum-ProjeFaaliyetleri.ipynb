{
 "cells": [
  {
   "cell_type": "code",
   "execution_count": null,
   "metadata": {},
   "outputs": [],
   "source": [
    "import pandas as pd\n",
    "import seaborn as sns\n",
    "import matplotlib.pyplot as plt"
   ]
  },
  {
   "cell_type": "code",
   "execution_count": null,
   "metadata": {},
   "outputs": [],
   "source": [
    "excel = pd.read_excel('rapor.xlsx')\n",
    "csv = pd.read_csv('rapor.csv')\n",
    "# fitreleme 'Yıl' sütununa göre yapılacak\n",
    "# döviz cinsine göre fiyat belirlenecek, ilgili yıldaki ortalama DOLAR kuruna göre toplam harcamalar set edilecek"
   ]
  },
  {
   "cell_type": "code",
   "execution_count": null,
   "metadata": {},
   "outputs": [],
   "source": [
    "df = excel.copy(deep=True)"
   ]
  },
  {
   "cell_type": "code",
   "execution_count": null,
   "metadata": {},
   "outputs": [],
   "source": [
    "df['Sektör Adı'] = csv['Sektör Adı']"
   ]
  },
  {
   "cell_type": "code",
   "execution_count": null,
   "metadata": {},
   "outputs": [],
   "source": [
    "df['Dolar Cinsinden Toplam Harcama'] = 0\n",
    "df['Dolar Cinsinden Toplam Harcama'] = df['Dolar Cinsinden Toplam Harcama'].astype('float64')"
   ]
  },
  {
   "cell_type": "code",
   "execution_count": null,
   "metadata": {},
   "outputs": [],
   "source": [
    "DOVIZ_KURLAR = {\n",
    "    '2015':{\n",
    "        'USD_TO_TL':2.71,\n",
    "        'EUR_TO_TL':3.01,\n",
    "        'GBP_TO_TL':4.15,\n",
    "        'TL_TO_USD':2.72,\n",
    "        'TL_TO_EUR':3.02,\n",
    "    },\n",
    "    '2016':{\n",
    "        'USD_TO_TL':3.01,\n",
    "        'EUR_TO_TL':3.33,\n",
    "        'GBP_TO_TL':4.07,\n",
    "        'TL_TO_USD':3.02,\n",
    "        'TL_TO_EUR':3.34,\n",
    "    },\n",
    "    '2017':{\n",
    "        'USD_TO_TL':3.64,\n",
    "        'EUR_TO_TL':4.11,\n",
    "        'GBP_TO_TL':4.68,\n",
    "        'TL_TO_USD':3.65,\n",
    "        'TL_TO_EUR':4.12,\n",
    "    },\n",
    "    '2018':{\n",
    "        'USD_TO_TL':4.83,\n",
    "        'EUR_TO_TL':5.67,\n",
    "        'GBP_TO_TL':6.40,\n",
    "        'TL_TO_USD':4.83,\n",
    "        'TL_TO_EUR':5.67,\n",
    "    },\n",
    "    '2019':{\n",
    "        'USD_TO_TL':5.67,\n",
    "        'EUR_TO_TL':6.34,\n",
    "        'GBP_TO_TL':7.22,\n",
    "        'TL_TO_USD':5.68,\n",
    "        'TL_TO_EUR':6.36,\n",
    "    }\n",
    "}"
   ]
  },
  {
   "cell_type": "code",
   "execution_count": null,
   "metadata": {},
   "outputs": [],
   "source": [
    "def ara_fonksiyon(deger,yil,islem_adi):\n",
    "    flag = 1 if '_TO_TL' in islem_adi else -1\n",
    "    return deger * (DOVIZ_KURLAR[yil][islem_adi] ** flag)"
   ]
  },
  {
   "cell_type": "code",
   "execution_count": null,
   "metadata": {},
   "outputs": [],
   "source": [
    "def doviz_to_usd(cols):\n",
    "    sonuc = 0\n",
    "    doviz_cinsi = cols['Döviz Cinsi']\n",
    "    toplam_harcama = cols['Toplam Harcama']\n",
    "    yil = cols['Yıl']\n",
    "    if doviz_cinsi == 'ABD Doları':\n",
    "        sonuc = toplam_harcama\n",
    "    elif doviz_cinsi == 'Euro':\n",
    "        tl = ara_fonksiyon(toplam_harcama,str(yil.year),'EUR_TO_TL')\n",
    "        sonuc = ara_fonksiyon(tl,str(yil.year),'TL_TO_USD')\n",
    "    elif doviz_cinsi == 'İngiliz Sterlini':\n",
    "        tl = ara_fonksiyon(toplam_harcama,str(yil.year),'GBP_TO_TL')\n",
    "        sonuc = ara_fonksiyon(tl,str(yil.year),'TL_TO_USD')\n",
    "    elif doviz_cinsi == 'Türk Lirası':\n",
    "        sonuc = ara_fonksiyon(toplam_harcama,str(yil.year),'TL_TO_USD')\n",
    "    return sonuc"
   ]
  },
  {
   "cell_type": "code",
   "execution_count": null,
   "metadata": {},
   "outputs": [],
   "source": [
    "df['Dolar Cinsinden Toplam Harcama'] = df[['Yıl','Toplam Harcama','Döviz Cinsi']].apply(doviz_to_usd,axis=1)"
   ]
  },
  {
   "cell_type": "code",
   "execution_count": null,
   "metadata": {},
   "outputs": [],
   "source": [
    "df['TL Cinsinden Toplam Harcama'] = 0\n",
    "df['TL Cinsinden Toplam Harcama'] = df['TL Cinsinden Toplam Harcama'].astype('float64')"
   ]
  },
  {
   "cell_type": "code",
   "execution_count": null,
   "metadata": {},
   "outputs": [],
   "source": [
    "def doviz_to_euro(cols):\n",
    "    sonuc = 0\n",
    "    doviz_cinsi = cols['Döviz Cinsi']\n",
    "    toplam_harcama = cols['Toplam Harcama']\n",
    "    yil = cols['Yıl']\n",
    "    if doviz_cinsi == 'ABD Doları':\n",
    "        tl = ara_fonksiyon(toplam_harcama,str(yil.year),'TL_TO_USD')\n",
    "        sonuc = ara_fonksiyon(tl,str(yil.year),'TL_TO_EUR')\n",
    "    elif doviz_cinsi == 'Euro':\n",
    "        sonuc = toplam_harcama\n",
    "    elif doviz_cinsi == 'İngiliz Sterlini':\n",
    "        tl = ara_fonksiyon(toplam_harcama,str(yil.year),'GBP_TO_TL')\n",
    "        sonuc = ara_fonksiyon(tl,str(yil.year),'TL_TO_EUR')\n",
    "    elif doviz_cinsi == 'Türk Lirası':\n",
    "        sonuc = ara_fonksiyon(toplam_harcama,str(yil.year),'TL_TO_EUR')\n",
    "    return sonuc"
   ]
  },
  {
   "cell_type": "code",
   "execution_count": null,
   "metadata": {},
   "outputs": [],
   "source": [
    "df['Euro Cinsinden Toplam Harcama'] = df[['Yıl','Toplam Harcama','Döviz Cinsi']].apply(doviz_to_euro,axis=1)"
   ]
  },
  {
   "cell_type": "code",
   "execution_count": null,
   "metadata": {},
   "outputs": [],
   "source": [
    "def doviz_to_tl(cols):\n",
    "    sonuc = 0\n",
    "    doviz_cinsi = cols['Döviz Cinsi']\n",
    "    toplam_harcama = cols['Toplam Harcama']\n",
    "    yil = cols['Yıl']\n",
    "    if doviz_cinsi == 'ABD Doları':\n",
    "        sonuc = ara_fonksiyon(toplam_harcama,str(yil.year),'USD_TO_TL')\n",
    "    elif doviz_cinsi == 'Euro':\n",
    "        sonuc = ara_fonksiyon(toplam_harcama,str(yil.year),'EUR_TO_TL')\n",
    "    elif doviz_cinsi == 'İngiliz Sterlini':\n",
    "        sonuc = ara_fonksiyon(toplam_harcama,str(yil.year),'GBP_TO_TL')\n",
    "    elif doviz_cinsi == 'Türk Lirası':\n",
    "        sonuc = ara_fonksiyon(toplam_harcama,str(yil.year),'TL_TO_USD')\n",
    "    return sonuc"
   ]
  },
  {
   "cell_type": "code",
   "execution_count": null,
   "metadata": {},
   "outputs": [],
   "source": [
    "df['TL Cinsinden Toplam Harcama'] = df[['Yıl','Toplam Harcama','Döviz Cinsi']].apply(doviz_to_tl,axis=1)"
   ]
  },
  {
   "cell_type": "code",
   "execution_count": null,
   "metadata": {},
   "outputs": [],
   "source": [
    "df['Yıl'] = df['Yıl'].astype('string')"
   ]
  },
  {
   "cell_type": "code",
   "execution_count": null,
   "metadata": {},
   "outputs": [],
   "source": [
    "df['Yıl'] = df['Yıl'].apply(lambda x: x.split('-')[0])"
   ]
  },
  {
   "cell_type": "code",
   "execution_count": null,
   "metadata": {},
   "outputs": [],
   "source": [
    "df['Faliyet Adı']"
   ]
  },
  {
   "cell_type": "code",
   "execution_count": null,
   "metadata": {},
   "outputs": [],
   "source": [
    "df.columns"
   ]
  },
  {
   "cell_type": "code",
   "execution_count": null,
   "metadata": {},
   "outputs": [],
   "source": [
    "df['TL Cinsinden Toplam Harcama']"
   ]
  },
  {
   "cell_type": "code",
   "execution_count": null,
   "metadata": {},
   "outputs": [],
   "source": [
    "x = df.groupby('Yıl').sum()"
   ]
  },
  {
   "cell_type": "code",
   "execution_count": null,
   "metadata": {},
   "outputs": [],
   "source": [
    "x.reset_index(inplace=True)"
   ]
  },
  {
   "cell_type": "code",
   "execution_count": null,
   "metadata": {},
   "outputs": [],
   "source": [
    "x"
   ]
  },
  {
   "cell_type": "code",
   "execution_count": null,
   "metadata": {},
   "outputs": [],
   "source": [
    "df[df['Yıl'] == '2015']['TL Cinsinden Toplam Harcama'].sum()"
   ]
  },
  {
   "cell_type": "code",
   "execution_count": null,
   "metadata": {},
   "outputs": [],
   "source": [
    "x.sort_values(by='TL Cinsinden Toplam Harcama',ascending=False)"
   ]
  },
  {
   "cell_type": "code",
   "execution_count": null,
   "metadata": {},
   "outputs": [],
   "source": [
    "float(x[x['Yıl'] == '2015']['TL Cinsinden Toplam Harcama'])"
   ]
  },
  {
   "cell_type": "code",
   "execution_count": null,
   "metadata": {},
   "outputs": [],
   "source": [
    "sade = int(x[x['Yıl'] == '2015']['TL Cinsinden Toplam Harcama'])"
   ]
  },
  {
   "cell_type": "code",
   "execution_count": null,
   "metadata": {},
   "outputs": [],
   "source": [
    "human_readable_number = \"{:,}\".format(float(x[x['Yıl'] == '2015']['TL Cinsinden Toplam Harcama']))\n",
    "# milyonlar okunabilecek şekilde formatlanıyor"
   ]
  },
  {
   "cell_type": "code",
   "execution_count": null,
   "metadata": {},
   "outputs": [],
   "source": [
    "human_readable_number"
   ]
  },
  {
   "cell_type": "code",
   "execution_count": null,
   "metadata": {},
   "outputs": [],
   "source": [
    "x[x['Yıl'] == '2015']['TL Cinsinden Toplam Harcama']"
   ]
  },
  {
   "cell_type": "code",
   "execution_count": null,
   "metadata": {},
   "outputs": [],
   "source": [
    "\"{:,}\".format(sade)"
   ]
  },
  {
   "cell_type": "code",
   "execution_count": null,
   "metadata": {},
   "outputs": [],
   "source": []
  }
 ],
 "metadata": {
  "kernelspec": {
   "display_name": "Python 3",
   "language": "python",
   "name": "python3"
  },
  "language_info": {
   "codemirror_mode": {
    "name": "ipython",
    "version": 3
   },
   "file_extension": ".py",
   "mimetype": "text/x-python",
   "name": "python",
   "nbconvert_exporter": "python",
   "pygments_lexer": "ipython3",
   "version": "3.7.6"
  }
 },
 "nbformat": 4,
 "nbformat_minor": 4
}
