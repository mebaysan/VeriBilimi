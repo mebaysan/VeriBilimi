{
 "cells": [
  {
   "cell_type": "markdown",
   "metadata": {},
   "source": [
    "## Girdiler\n",
    "\n",
    "- D = {t1, t2, ... tn}\n",
    "- K // küme sayısı\n",
    "\n",
    "## Adımlar\n",
    "\n",
    "- K adet küme için rasgele küme merkezi ata\n",
    "- Her bir ti elemanını to en yakın küme merkezine ait kümeye ata\n",
    "- m1, m2, ... mK değerlerini yeni elemanlarla tekrar hesapla\n",
    "- Bir önceki küme merkezlerinden hiç biri değişmezse DUR\n",
    "- Else LOOP\n",
    "\n",
    "## Çıktı\n",
    "\n",
    "- K adet küme ve elemanları"
   ]
  },
  {
   "cell_type": "code",
   "execution_count": 45,
   "metadata": {
    "ExecuteTime": {
     "end_time": "2021-06-07T15:22:21.599443Z",
     "start_time": "2021-06-07T15:22:21.595315Z"
    }
   },
   "outputs": [],
   "source": [
    "import numpy as np\n",
    "import pandas as pd\n",
    "from matplotlib import pyplot as plt\n",
    "from sklearn.cluster import KMeans"
   ]
  },
  {
   "cell_type": "code",
   "execution_count": 46,
   "metadata": {
    "ExecuteTime": {
     "end_time": "2021-06-07T15:22:21.821173Z",
     "start_time": "2021-06-07T15:22:21.813057Z"
    }
   },
   "outputs": [],
   "source": [
    "df = pd.read_csv('data.csv')"
   ]
  },
  {
   "cell_type": "code",
   "execution_count": 47,
   "metadata": {
    "ExecuteTime": {
     "end_time": "2021-06-07T15:22:21.997609Z",
     "start_time": "2021-06-07T15:22:21.988684Z"
    }
   },
   "outputs": [
    {
     "data": {
      "text/html": [
       "<div>\n",
       "<style scoped>\n",
       "    .dataframe tbody tr th:only-of-type {\n",
       "        vertical-align: middle;\n",
       "    }\n",
       "\n",
       "    .dataframe tbody tr th {\n",
       "        vertical-align: top;\n",
       "    }\n",
       "\n",
       "    .dataframe thead th {\n",
       "        text-align: right;\n",
       "    }\n",
       "</style>\n",
       "<table border=\"1\" class=\"dataframe\">\n",
       "  <thead>\n",
       "    <tr style=\"text-align: right;\">\n",
       "      <th></th>\n",
       "      <th>eruptions</th>\n",
       "      <th>waiting</th>\n",
       "    </tr>\n",
       "  </thead>\n",
       "  <tbody>\n",
       "    <tr>\n",
       "      <th>0</th>\n",
       "      <td>3.600</td>\n",
       "      <td>79</td>\n",
       "    </tr>\n",
       "    <tr>\n",
       "      <th>1</th>\n",
       "      <td>1.800</td>\n",
       "      <td>54</td>\n",
       "    </tr>\n",
       "    <tr>\n",
       "      <th>2</th>\n",
       "      <td>3.333</td>\n",
       "      <td>74</td>\n",
       "    </tr>\n",
       "    <tr>\n",
       "      <th>3</th>\n",
       "      <td>2.283</td>\n",
       "      <td>62</td>\n",
       "    </tr>\n",
       "    <tr>\n",
       "      <th>4</th>\n",
       "      <td>4.533</td>\n",
       "      <td>85</td>\n",
       "    </tr>\n",
       "  </tbody>\n",
       "</table>\n",
       "</div>"
      ],
      "text/plain": [
       "   eruptions  waiting\n",
       "0      3.600       79\n",
       "1      1.800       54\n",
       "2      3.333       74\n",
       "3      2.283       62\n",
       "4      4.533       85"
      ]
     },
     "execution_count": 47,
     "metadata": {},
     "output_type": "execute_result"
    }
   ],
   "source": [
    "df.head()"
   ]
  },
  {
   "cell_type": "code",
   "execution_count": 48,
   "metadata": {
    "ExecuteTime": {
     "end_time": "2021-06-07T15:22:22.142647Z",
     "start_time": "2021-06-07T15:22:22.138856Z"
    }
   },
   "outputs": [],
   "source": [
    "k = 2\n",
    "kmeans = KMeans(n_clusters=k)  # kaç kümeye ayıracağımızı veriyoruz"
   ]
  },
  {
   "cell_type": "code",
   "execution_count": 49,
   "metadata": {
    "ExecuteTime": {
     "end_time": "2021-06-07T15:22:22.345012Z",
     "start_time": "2021-06-07T15:22:22.294061Z"
    }
   },
   "outputs": [
    {
     "data": {
      "text/plain": [
       "KMeans(n_clusters=2)"
      ]
     },
     "execution_count": 49,
     "metadata": {},
     "output_type": "execute_result"
    }
   ],
   "source": [
    "kmeans.fit(df)  # modeli eğitiyoruz"
   ]
  },
  {
   "cell_type": "code",
   "execution_count": 50,
   "metadata": {
    "ExecuteTime": {
     "end_time": "2021-06-07T15:22:22.445489Z",
     "start_time": "2021-06-07T15:22:22.441260Z"
    }
   },
   "outputs": [],
   "source": [
    "labels = kmeans.labels_  # label'ları alıyoruz"
   ]
  },
  {
   "cell_type": "code",
   "execution_count": 51,
   "metadata": {
    "ExecuteTime": {
     "end_time": "2021-06-07T15:22:22.611817Z",
     "start_time": "2021-06-07T15:22:22.608234Z"
    }
   },
   "outputs": [],
   "source": [
    "centroids = kmeans.cluster_centers_  # küme merkezlerini alıyoruz"
   ]
  },
  {
   "cell_type": "code",
   "execution_count": 52,
   "metadata": {
    "ExecuteTime": {
     "end_time": "2021-06-07T15:22:22.763508Z",
     "start_time": "2021-06-07T15:22:22.758731Z"
    }
   },
   "outputs": [],
   "source": [
    "x_test = [[4.671, 67], [2.885, 61], [1.666, 90],\n",
    "          [5.623, 54], [2.678, 80], [1.875, 60]]\n",
    "# tahmin edeceğimiz veriyi hazırlıyoruz"
   ]
  },
  {
   "cell_type": "code",
   "execution_count": 53,
   "metadata": {
    "ExecuteTime": {
     "end_time": "2021-06-07T15:22:22.961785Z",
     "start_time": "2021-06-07T15:22:22.953452Z"
    }
   },
   "outputs": [],
   "source": [
    "prediction = kmeans.predict(x_test)"
   ]
  },
  {
   "cell_type": "code",
   "execution_count": 54,
   "metadata": {
    "ExecuteTime": {
     "end_time": "2021-06-07T15:22:23.296710Z",
     "start_time": "2021-06-07T15:22:23.289798Z"
    }
   },
   "outputs": [
    {
     "data": {
      "text/plain": [
       "array([0, 0, 1, 0, 1, 0], dtype=int32)"
      ]
     },
     "execution_count": 54,
     "metadata": {},
     "output_type": "execute_result"
    }
   ],
   "source": [
    "# 1 çıkanlar aynı kümede, 0 çıkanlar aynı kümede (çünkü 2 kümeye ayırdık algoritmayı)\n",
    "prediction"
   ]
  },
  {
   "cell_type": "code",
   "execution_count": 56,
   "metadata": {
    "ExecuteTime": {
     "end_time": "2021-06-07T15:24:36.912231Z",
     "start_time": "2021-06-07T15:24:35.934964Z"
    }
   },
   "outputs": [
    {
     "data": {
      "image/png": "[encoded data removed]",
      "text/plain": [
       "<Figure size 432x288 with 1 Axes>"
      ]
     },
     "metadata": {
      "needs_background": "light"
     },
     "output_type": "display_data"
    }
   ],
   "source": [
    "colors = ['blue',\n",
    "          'red',\n",
    "          'green',\n",
    "          'black',\n",
    "          'brown']  # her küme için renk oluşturuyoruz (bizde 2 küme olduğundan sadece ilk 2 indextekini kullanacak)\n",
    "\n",
    "y = 0  #  sayaç oluşturuyoruz\n",
    "for x in labels:  # her label'i dönüyoruz (labels değişkeninde)\n",
    "    plt.scatter(df.iloc[y, 0],  # ilk değişkenin ilk elemanı gibi (df.iloc[0,0])\n",
    "                df.iloc[y, 1],\n",
    "                # her kümenin karşılık geldiği numarayı renk listesinden ata\n",
    "                color=colors[x]\n",
    "                )\n",
    "    y += 1\n",
    "\n",
    "for x in range(k):  #  küme sayısı (bu örnek için 2) kadar dön (0,1)\n",
    "    lines = plt.plot(centroids[x, 0],\n",
    "                     centroids[x, 1],\n",
    "                     'kx')\n",
    "    plt.setp(lines, ms=15.0)\n",
    "    plt.setp(lines, mew=2.0)\n",
    "\n",
    "title = (f'No of clusters = {k}')\n",
    "plt.title(title) # plot'un başlığı\n",
    "plt.xlabel('eruptions (mins)') # x ekseni için label\n",
    "plt.ylabel('waiting (mins)') # y ekseni için label\n",
    "plt.show() # plot'u göster"
   ]
  },
  {
   "cell_type": "code",
   "execution_count": null,
   "metadata": {},
   "outputs": [],
   "source": []
  }
 ],
 "metadata": {
  "kernelspec": {
   "display_name": "Python 3",
   "language": "python",
   "name": "python3"
  },
  "language_info": {
   "codemirror_mode": {
    "name": "ipython",
    "version": 3
   },
   "file_extension": ".py",
   "mimetype": "text/x-python",
   "name": "python",
   "nbconvert_exporter": "python",
   "pygments_lexer": "ipython3",
   "version": "3.8.3"
  },
  "toc": {
   "base_numbering": 1,
   "nav_menu": {},
   "number_sections": true,
   "sideBar": true,
   "skip_h1_title": false,
   "title_cell": "Table of Contents",
   "title_sidebar": "Contents",
   "toc_cell": false,
   "toc_position": {},
   "toc_section_display": true,
   "toc_window_display": false
  }
 },
 "nbformat": 4,
 "nbformat_minor": 4
}
