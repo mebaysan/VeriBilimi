{
 "cells": [
  {
   "cell_type": "markdown",
   "metadata": {},
   "source": [
    "### Muhammed Enes Baysan - 95180012 / YBS3\n",
    "### Asrın İrem Meral - 95180057 / YBS3"
   ]
  },
  {
   "cell_type": "code",
   "execution_count": 373,
   "metadata": {},
   "outputs": [],
   "source": [
    "import pandas as pd\n",
    "import numpy as np"
   ]
  },
  {
   "cell_type": "code",
   "execution_count": 374,
   "metadata": {},
   "outputs": [],
   "source": [
    "#dataset = {\n",
    "#    'Gender':['F','F','F','F','M','F','F','M','M','F','F','M','M','M','M'],\n",
    "#    'Weight':[1,1,1,2,2,2,2,2,3,3,3,3,4,4,5],\n",
    "#    'Height':[2,1,1,2,1,1,2,3,2,3,2,2,3,4,4],\n",
    "#    'Size':['M','S','M','M','S','M','S','M','M','L','M','S','M','L','L']\n",
    "#}"
   ]
  },
  {
   "cell_type": "code",
   "execution_count": 375,
   "metadata": {},
   "outputs": [],
   "source": [
    "#df = pd.DataFrame(dataset)"
   ]
  },
  {
   "cell_type": "code",
   "execution_count": 376,
   "metadata": {},
   "outputs": [],
   "source": [
    "#df.to_csv('data.csv')"
   ]
  },
  {
   "cell_type": "markdown",
   "metadata": {},
   "source": [
    "# Veri setini okuma"
   ]
  },
  {
   "cell_type": "code",
   "execution_count": 377,
   "metadata": {},
   "outputs": [],
   "source": [
    "df = pd.read_csv('data.csv')\n",
    "df.drop('Unnamed: 0',axis=1,inplace=True)"
   ]
  },
  {
   "cell_type": "code",
   "execution_count": 378,
   "metadata": {},
   "outputs": [
    {
     "data": {
      "text/html": [
       "<div>\n",
       "<style scoped>\n",
       "    .dataframe tbody tr th:only-of-type {\n",
       "        vertical-align: middle;\n",
       "    }\n",
       "\n",
       "    .dataframe tbody tr th {\n",
       "        vertical-align: top;\n",
       "    }\n",
       "\n",
       "    .dataframe thead th {\n",
       "        text-align: right;\n",
       "    }\n",
       "</style>\n",
       "<table border=\"1\" class=\"dataframe\">\n",
       "  <thead>\n",
       "    <tr style=\"text-align: right;\">\n",
       "      <th></th>\n",
       "      <th>Gender</th>\n",
       "      <th>Weight</th>\n",
       "      <th>Height</th>\n",
       "      <th>Size</th>\n",
       "    </tr>\n",
       "  </thead>\n",
       "  <tbody>\n",
       "    <tr>\n",
       "      <th>0</th>\n",
       "      <td>F</td>\n",
       "      <td>1</td>\n",
       "      <td>2</td>\n",
       "      <td>M</td>\n",
       "    </tr>\n",
       "    <tr>\n",
       "      <th>1</th>\n",
       "      <td>F</td>\n",
       "      <td>1</td>\n",
       "      <td>1</td>\n",
       "      <td>S</td>\n",
       "    </tr>\n",
       "    <tr>\n",
       "      <th>2</th>\n",
       "      <td>F</td>\n",
       "      <td>1</td>\n",
       "      <td>1</td>\n",
       "      <td>M</td>\n",
       "    </tr>\n",
       "    <tr>\n",
       "      <th>3</th>\n",
       "      <td>F</td>\n",
       "      <td>2</td>\n",
       "      <td>2</td>\n",
       "      <td>M</td>\n",
       "    </tr>\n",
       "    <tr>\n",
       "      <th>4</th>\n",
       "      <td>M</td>\n",
       "      <td>2</td>\n",
       "      <td>1</td>\n",
       "      <td>S</td>\n",
       "    </tr>\n",
       "  </tbody>\n",
       "</table>\n",
       "</div>"
      ],
      "text/plain": [
       "  Gender  Weight  Height Size\n",
       "0      F       1       2    M\n",
       "1      F       1       1    S\n",
       "2      F       1       1    M\n",
       "3      F       2       2    M\n",
       "4      M       2       1    S"
      ]
     },
     "execution_count": 378,
     "metadata": {},
     "output_type": "execute_result"
    }
   ],
   "source": [
    "df.head()"
   ]
  },
  {
   "cell_type": "markdown",
   "metadata": {},
   "source": [
    "# Bayes Fonksiyonu"
   ]
  },
  {
   "cell_type": "code",
   "execution_count": 379,
   "metadata": {},
   "outputs": [],
   "source": [
    "def bayes(df,target_feature,x,result_type):\n",
    "    ################# Bayes Formulü #################\n",
    "    # P(Cj \\ xi) = (P(xi \\ Cj) * P(Cj)) / P(xi)\n",
    "    ##################################\n",
    "    ################# Bağımlı ve Bağımsız değişkenleri ayırıyoruz #################\n",
    "    independent_variables = [] # bağımsız değişkenlerimizin adını saklayacağımız liste\n",
    "    for col in df.columns:\n",
    "        if col != target_feature: # eğer gelen veri setindeki kolonun adı bağımlı değişken ile aynı değilse listeye at\n",
    "            independent_variables.append(col)\n",
    "    X = df.loc[:,independent_variables] # hedef feature'ı tahmin etmek için kullanacağımız değişkenler (bağımsız) (df olarak seçer)\n",
    "    y = df.loc[:,[target_feature]] # target feature değişkenimiz (bağımlı) (df olarak seçer)\n",
    "    ##################################\n",
    "    ################# Hedef değişkenimizdeki her sınıfın olasılığını hesaplıyoruz (P(Cj)) #################\n",
    "    feature_probabilities = {}\n",
    "    for feature in y[target_feature].unique():\n",
    "        feature_probabilities[feature] = y[y[target_feature] == feature].shape[0] / y.shape[0] # Her sınıfın olma olasılığını buluyoruz (P(Cj))\n",
    "    ##################################\n",
    "    ################# Gelen x değerinin her sınıfta olma olasılıklarını buluyoruz (P(xi \\ Cj)) #################\n",
    "    x_probabilities = {}\n",
    "    for feature in y[target_feature].unique(): # hedef değişkenimizdeki (bağımlı) tüm sınıfları dönüyoruz\n",
    "        counter = 0 # bağımsız değişkenleri tuttuğumuz listedeki elemanlara index ile erişmek istediğimiz için bir counter oluşturuyoruz\n",
    "        query = f\"({target_feature} == '{feature}') & \" # df'i filtrelemek için bir sorgu oluşturuyoruz\n",
    "        for iv in independent_variables: # her bir bağımsız değişkeni her bir bağımlı değişken sınıfı için dönüyoruz\n",
    "            if independent_variables.index(iv) + 1 != len(independent_variables): # eğer döndüğümüz bağımsız değişken listenin son elemanı değilse sorgunun sonuna & (and) ekliyoruz\n",
    "                query += f\"({iv} == '{x[counter]}') & \"\n",
    "            else: # eğer son eleman ise sorgunun sonuna & (and) eklemiyoruz\n",
    "                query += f\"({iv} == '{x[counter]}')\"\n",
    "            counter+=1 # her döndüğümüzde bir sonraki bağımsız değişkene ulaşmak için counter'ı 1 artırıyoruz\n",
    "        x_prob = df.query(f\"{query}\").shape[0] / y[y[target_feature] == feature].shape[0]\n",
    "        x_probabilities[feature] = x_prob\n",
    "    ##################################\n",
    "    ################# Gelen x değerinin olma olasılığını buluyoruz (xi) #################\n",
    "    xi_probabilities = {}\n",
    "    xi_probability = 0\n",
    "    for i in feature_probabilities:\n",
    "        xi_probabilities[i] = feature_probabilities[i] * x_probabilities[i] # her bir hedef değişken sınıfının olma olasılığı ile o sınıf varken gelen x değerlerinin olma olasılıklarını buluyoruz\n",
    "    for i in xi_probabilities:\n",
    "        xi_probability+= xi_probabilities[i] # her bir olasılığı toplayıp xi'nin olma olasılığını buluyoruz\n",
    "    ##################################\n",
    "    if result_type == 'probability':\n",
    "        return xi_probability\n",
    "    elif result_type == 'probabilities':\n",
    "        return xi_probabilities\n",
    "    else:\n",
    "        ex = f'Lütfen result_type parametresini geçerli bir değer olarak gönderin:\\n*x* değerinin olma olasılığı için probability\\n*x* değerinin hangi {target_feature} içerisinde olabileceğini görmek için probabilities'\n",
    "        raise Exception(ex)"
   ]
  },
  {
   "cell_type": "code",
   "execution_count": 380,
   "metadata": {},
   "outputs": [],
   "source": [
    "a1 = bayes(df,'Size',['M',3,2],'probabilities')"
   ]
  },
  {
   "cell_type": "code",
   "execution_count": 381,
   "metadata": {},
   "outputs": [
    {
     "data": {
      "text/plain": [
       "{'M': 0.06666666666666667, 'S': 0.06666666666666667, 'L': 0.0}"
      ]
     },
     "execution_count": 381,
     "metadata": {},
     "output_type": "execute_result"
    }
   ],
   "source": [
    "a1"
   ]
  },
  {
   "cell_type": "code",
   "execution_count": null,
   "metadata": {},
   "outputs": [],
   "source": []
  }
 ],
 "metadata": {
  "kernelspec": {
   "display_name": "Python 3",
   "language": "python",
   "name": "python3"
  },
  "language_info": {
   "codemirror_mode": {
    "name": "ipython",
    "version": 3
   },
   "file_extension": ".py",
   "mimetype": "text/x-python",
   "name": "python",
   "nbconvert_exporter": "python",
   "pygments_lexer": "ipython3",
   "version": "3.8.3"
  }
 },
 "nbformat": 4,
 "nbformat_minor": 4
}
