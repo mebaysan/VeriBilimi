{
 "cells": [
  {
   "cell_type": "markdown",
   "metadata": {},
   "source": [
    "# Decision Trees (Karar Ağaçları)\n",
    "\n",
    "- Kural üretirler\n",
    "- Veri katlama prensibi üzerine çalışırlar\n",
    "- Ağaç şeklinde bir yapı üretirler, aslında üretilen şey iç içe IF bloklarıdır\n",
    "- Ağacın her bir yaprağı sınıfı verir\n",
    "\n",
    "\n",
    "## Budama (Pruning)\n",
    "- Zayıf dalların (içerideki if'lerin) kaldırılması\n",
    "- Gereksiz kuralların çıkartılması\n",
    "- Algoritmalar genelde bu opsiyonu kullanıcıya bırakır\n",
    "\n",
    "\n",
    "## Durma Kriteri\n",
    "- Yazılımlarda saflık (purity) olarak da karşımıza çıkabilir\n",
    "- Ağacın kurulumundan önce istenen saflık (purity) değeri ön budama için kullanılan bir değerdir\n",
    "- Ağaç kurulurken verilen saflık değeri göz önüne alınarak ağacın yaprakları belirli bir yüzde değerdeki örneğin %70, %95 gibi saflık değerine ulaşınca ağaca yaprak atanarak, diğer dallar için işleme geçilir.\n",
    "\n",
    "\n",
    "## Bagging / Bootstrap Averaging\n",
    "- Birkaç karar ağacının aynı anda çalıştırılarak ortalama değerinin kullanılmasıdır\n",
    "- Karar ağacının kalitesini belirgin şekilde artırır\n",
    "- Gürültünün önlenmesinde kullanılır\n",
    "\n",
    "\n",
    "## Aşırı Öğrenme (Overlearning / Overfitting)\n",
    "- Eldeki verilere aşırı bağlı sonuçlar elde edilmesine aşırı öğrenme denir\n",
    "- Gürültüyü öğrenmedir\n",
    "- Aşırı öğrenme durumunda elde edilen sonuçlar öğrenme için kullanılan verilere uygulandığında çok iyi sonuçlar verirken başka veriler için düşük performans gösterebilir\n",
    "\n",
    "\n",
    "\n",
    "## Kaldıraç (Lift)\n",
    "- Herhangi bir düğümdeki kayıtların, tüm ağaca kıyasla ne kadarının hedef sınıfa ait olduğunu gösteren değerdir\n",
    "- Ağaç oluşturma işleminin son aşamasıysa budama işlemidir\n",
    "- Yüksek lift iyidir\n",
    "- Örneğin 3.5 lift değeri, o kuralın kuralsızlığa göre %350 daha verimli olduğunu gösterir\n",
    "\n",
    "\n",
    "## ID3 Algoritması\n",
    "- Entropi kavramını kullanır\n",
    "- **Nominal değerler ile çalışır**\n",
    "- Entropi 0-1 arasında değer alır\n",
    "- Entropi yüksek ise sürpriz de yüksektir\n",
    "- Entropi aslında düzensizliktir, 1'e yaklaştıkça düzensizlik, 0'a yaklaştıkça düzen artar\n",
    "    - Entropi'de ise düşük değer isteriz\n",
    "    \n",
    "    \n",
    "\n",
    "## C 4.5 Algoritması\n",
    "- ID3 algoritmasının üzerine geliştirilmiştir\n",
    "- Hem nominal hem de numeric değişkenler ile çalışabiliriz\n",
    "- Karar ağacı oluşturulurken kayıp veriler hesaba katılmaz. Kazanım oranı hesaplanırken sadece verileri eksik olmayan diğer kayıtlar kullanılır\n",
    "- Kayıp verileri diğer veri ve değişkenler yardımıyla öngörerek kazanım oranının hesaplanmasında kullanılır. Böylece daha anlamlı kurallar çıkartabilen bir ağaç üretebilir."
   ]
  },
  {
   "cell_type": "markdown",
   "metadata": {},
   "source": [
    "# Decision Trees in Python"
   ]
  },
  {
   "cell_type": "code",
   "execution_count": 13,
   "metadata": {
    "ExecuteTime": {
     "end_time": "2021-05-31T19:31:22.975243Z",
     "start_time": "2021-05-31T19:31:22.970775Z"
    }
   },
   "outputs": [],
   "source": [
    "import seaborn as sns  # veri setini yüklemek için kullanıyoruz\n",
    "import pandas as pd\n",
    "import numpy as np\n",
    "# veriyi bölmek, model seçimi için kullanıyoruz\n",
    "from sklearn.model_selection import train_test_split\n",
    "from sklearn.tree import DecisionTreeClassifier  # ağaç için\n",
    "# accuracy'i hesaplamak, modelin doğruluğunu kontrol etmek için kullanacağız\n",
    "from sklearn.metrics import accuracy_score"
   ]
  },
  {
   "cell_type": "code",
   "execution_count": 14,
   "metadata": {
    "ExecuteTime": {
     "end_time": "2021-05-31T19:31:23.708324Z",
     "start_time": "2021-05-31T19:31:23.697715Z"
    }
   },
   "outputs": [],
   "source": [
    "balance_data = sns.load_dataset('iris')"
   ]
  },
  {
   "cell_type": "code",
   "execution_count": 15,
   "metadata": {
    "ExecuteTime": {
     "end_time": "2021-05-31T19:31:23.990311Z",
     "start_time": "2021-05-31T19:31:23.972291Z"
    }
   },
   "outputs": [
    {
     "data": {
      "text/html": [
       "<div>\n",
       "<style scoped>\n",
       "    .dataframe tbody tr th:only-of-type {\n",
       "        vertical-align: middle;\n",
       "    }\n",
       "\n",
       "    .dataframe tbody tr th {\n",
       "        vertical-align: top;\n",
       "    }\n",
       "\n",
       "    .dataframe thead th {\n",
       "        text-align: right;\n",
       "    }\n",
       "</style>\n",
       "<table border=\"1\" class=\"dataframe\">\n",
       "  <thead>\n",
       "    <tr style=\"text-align: right;\">\n",
       "      <th></th>\n",
       "      <th>sepal_length</th>\n",
       "      <th>sepal_width</th>\n",
       "      <th>petal_length</th>\n",
       "      <th>petal_width</th>\n",
       "      <th>species</th>\n",
       "    </tr>\n",
       "  </thead>\n",
       "  <tbody>\n",
       "    <tr>\n",
       "      <th>0</th>\n",
       "      <td>5.1</td>\n",
       "      <td>3.5</td>\n",
       "      <td>1.4</td>\n",
       "      <td>0.2</td>\n",
       "      <td>setosa</td>\n",
       "    </tr>\n",
       "    <tr>\n",
       "      <th>1</th>\n",
       "      <td>4.9</td>\n",
       "      <td>3.0</td>\n",
       "      <td>1.4</td>\n",
       "      <td>0.2</td>\n",
       "      <td>setosa</td>\n",
       "    </tr>\n",
       "    <tr>\n",
       "      <th>2</th>\n",
       "      <td>4.7</td>\n",
       "      <td>3.2</td>\n",
       "      <td>1.3</td>\n",
       "      <td>0.2</td>\n",
       "      <td>setosa</td>\n",
       "    </tr>\n",
       "    <tr>\n",
       "      <th>3</th>\n",
       "      <td>4.6</td>\n",
       "      <td>3.1</td>\n",
       "      <td>1.5</td>\n",
       "      <td>0.2</td>\n",
       "      <td>setosa</td>\n",
       "    </tr>\n",
       "    <tr>\n",
       "      <th>4</th>\n",
       "      <td>5.0</td>\n",
       "      <td>3.6</td>\n",
       "      <td>1.4</td>\n",
       "      <td>0.2</td>\n",
       "      <td>setosa</td>\n",
       "    </tr>\n",
       "  </tbody>\n",
       "</table>\n",
       "</div>"
      ],
      "text/plain": [
       "   sepal_length  sepal_width  petal_length  petal_width species\n",
       "0           5.1          3.5           1.4          0.2  setosa\n",
       "1           4.9          3.0           1.4          0.2  setosa\n",
       "2           4.7          3.2           1.3          0.2  setosa\n",
       "3           4.6          3.1           1.5          0.2  setosa\n",
       "4           5.0          3.6           1.4          0.2  setosa"
      ]
     },
     "execution_count": 15,
     "metadata": {},
     "output_type": "execute_result"
    }
   ],
   "source": [
    "balance_data.head()"
   ]
  },
  {
   "cell_type": "code",
   "execution_count": 21,
   "metadata": {
    "ExecuteTime": {
     "end_time": "2021-05-31T19:32:19.779336Z",
     "start_time": "2021-05-31T19:32:19.775460Z"
    }
   },
   "outputs": [],
   "source": [
    "# target feature dışındaki tüm değişkenleri aldık\n",
    "X = balance_data.iloc[:, 0:4]"
   ]
  },
  {
   "cell_type": "code",
   "execution_count": 22,
   "metadata": {
    "ExecuteTime": {
     "end_time": "2021-05-31T19:32:20.132665Z",
     "start_time": "2021-05-31T19:32:20.118425Z"
    }
   },
   "outputs": [
    {
     "data": {
      "text/html": [
       "<div>\n",
       "<style scoped>\n",
       "    .dataframe tbody tr th:only-of-type {\n",
       "        vertical-align: middle;\n",
       "    }\n",
       "\n",
       "    .dataframe tbody tr th {\n",
       "        vertical-align: top;\n",
       "    }\n",
       "\n",
       "    .dataframe thead th {\n",
       "        text-align: right;\n",
       "    }\n",
       "</style>\n",
       "<table border=\"1\" class=\"dataframe\">\n",
       "  <thead>\n",
       "    <tr style=\"text-align: right;\">\n",
       "      <th></th>\n",
       "      <th>sepal_length</th>\n",
       "      <th>sepal_width</th>\n",
       "      <th>petal_length</th>\n",
       "      <th>petal_width</th>\n",
       "    </tr>\n",
       "  </thead>\n",
       "  <tbody>\n",
       "    <tr>\n",
       "      <th>0</th>\n",
       "      <td>5.1</td>\n",
       "      <td>3.5</td>\n",
       "      <td>1.4</td>\n",
       "      <td>0.2</td>\n",
       "    </tr>\n",
       "    <tr>\n",
       "      <th>1</th>\n",
       "      <td>4.9</td>\n",
       "      <td>3.0</td>\n",
       "      <td>1.4</td>\n",
       "      <td>0.2</td>\n",
       "    </tr>\n",
       "    <tr>\n",
       "      <th>2</th>\n",
       "      <td>4.7</td>\n",
       "      <td>3.2</td>\n",
       "      <td>1.3</td>\n",
       "      <td>0.2</td>\n",
       "    </tr>\n",
       "    <tr>\n",
       "      <th>3</th>\n",
       "      <td>4.6</td>\n",
       "      <td>3.1</td>\n",
       "      <td>1.5</td>\n",
       "      <td>0.2</td>\n",
       "    </tr>\n",
       "    <tr>\n",
       "      <th>4</th>\n",
       "      <td>5.0</td>\n",
       "      <td>3.6</td>\n",
       "      <td>1.4</td>\n",
       "      <td>0.2</td>\n",
       "    </tr>\n",
       "  </tbody>\n",
       "</table>\n",
       "</div>"
      ],
      "text/plain": [
       "   sepal_length  sepal_width  petal_length  petal_width\n",
       "0           5.1          3.5           1.4          0.2\n",
       "1           4.9          3.0           1.4          0.2\n",
       "2           4.7          3.2           1.3          0.2\n",
       "3           4.6          3.1           1.5          0.2\n",
       "4           5.0          3.6           1.4          0.2"
      ]
     },
     "execution_count": 22,
     "metadata": {},
     "output_type": "execute_result"
    }
   ],
   "source": [
    "X.head()"
   ]
  },
  {
   "cell_type": "code",
   "execution_count": 29,
   "metadata": {
    "ExecuteTime": {
     "end_time": "2021-05-31T19:32:49.043923Z",
     "start_time": "2021-05-31T19:32:49.038587Z"
    }
   },
   "outputs": [],
   "source": [
    "y = balance_data.iloc[:, -1:]  # target feature'ı bir değişkene atadık"
   ]
  },
  {
   "cell_type": "code",
   "execution_count": 31,
   "metadata": {
    "ExecuteTime": {
     "end_time": "2021-05-31T19:33:02.836125Z",
     "start_time": "2021-05-31T19:33:02.826212Z"
    }
   },
   "outputs": [
    {
     "data": {
      "text/html": [
       "<div>\n",
       "<style scoped>\n",
       "    .dataframe tbody tr th:only-of-type {\n",
       "        vertical-align: middle;\n",
       "    }\n",
       "\n",
       "    .dataframe tbody tr th {\n",
       "        vertical-align: top;\n",
       "    }\n",
       "\n",
       "    .dataframe thead th {\n",
       "        text-align: right;\n",
       "    }\n",
       "</style>\n",
       "<table border=\"1\" class=\"dataframe\">\n",
       "  <thead>\n",
       "    <tr style=\"text-align: right;\">\n",
       "      <th></th>\n",
       "      <th>species</th>\n",
       "    </tr>\n",
       "  </thead>\n",
       "  <tbody>\n",
       "    <tr>\n",
       "      <th>0</th>\n",
       "      <td>setosa</td>\n",
       "    </tr>\n",
       "    <tr>\n",
       "      <th>1</th>\n",
       "      <td>setosa</td>\n",
       "    </tr>\n",
       "    <tr>\n",
       "      <th>2</th>\n",
       "      <td>setosa</td>\n",
       "    </tr>\n",
       "    <tr>\n",
       "      <th>3</th>\n",
       "      <td>setosa</td>\n",
       "    </tr>\n",
       "    <tr>\n",
       "      <th>4</th>\n",
       "      <td>setosa</td>\n",
       "    </tr>\n",
       "  </tbody>\n",
       "</table>\n",
       "</div>"
      ],
      "text/plain": [
       "  species\n",
       "0  setosa\n",
       "1  setosa\n",
       "2  setosa\n",
       "3  setosa\n",
       "4  setosa"
      ]
     },
     "execution_count": 31,
     "metadata": {},
     "output_type": "execute_result"
    }
   ],
   "source": [
    "y.head()"
   ]
  },
  {
   "cell_type": "code",
   "execution_count": 33,
   "metadata": {
    "ExecuteTime": {
     "end_time": "2021-05-31T19:35:07.576962Z",
     "start_time": "2021-05-31T19:35:07.568972Z"
    }
   },
   "outputs": [],
   "source": [
    "X_train, X_test, y_train, y_test = train_test_split(X,  # hangi değerler ile tahmin edeceğiz\n",
    "                                                    #  hangi sınıfları tahmin edeceğiz (hedef feature)\n",
    "                                                    y,\n",
    "                                                    test_size=0.3,  # test büyüklüğü %30 olacak\n",
    "                                                    random_state=100  # random olarak makinaya bırakıyoruz\n",
    "                                                    )"
   ]
  },
  {
   "cell_type": "code",
   "execution_count": 35,
   "metadata": {
    "ExecuteTime": {
     "end_time": "2021-05-31T19:38:46.584688Z",
     "start_time": "2021-05-31T19:38:46.578541Z"
    }
   },
   "outputs": [],
   "source": [
    "clf_gini = DecisionTreeClassifier(\n",
    "    criterion='gini',  # hangi kritere göre classifier edelim (gini || entropy)\n",
    "    random_state=100,\n",
    "    max_depth=3,  # max derinlik 3 olsun, ağacın max derinliği 3 olacak\n",
    "    min_samples_leaf=5  # yaprakta min bulunacak eleman sayısı 5 olacak\n",
    ")"
   ]
  },
  {
   "cell_type": "code",
   "execution_count": 36,
   "metadata": {
    "ExecuteTime": {
     "end_time": "2021-05-31T19:38:58.683842Z",
     "start_time": "2021-05-31T19:38:58.669808Z"
    }
   },
   "outputs": [
    {
     "data": {
      "text/plain": [
       "DecisionTreeClassifier(max_depth=3, min_samples_leaf=5, random_state=100)"
      ]
     },
     "execution_count": 36,
     "metadata": {},
     "output_type": "execute_result"
    }
   ],
   "source": [
    "# modeli fit ediyoruz (öğrenmenin yapıldığı yer)\n",
    "clf_gini.fit(X_train, y_train)"
   ]
  },
  {
   "cell_type": "code",
   "execution_count": 37,
   "metadata": {
    "ExecuteTime": {
     "end_time": "2021-05-31T19:39:03.902764Z",
     "start_time": "2021-05-31T19:39:03.897891Z"
    }
   },
   "outputs": [],
   "source": [
    "clf_entropy = DecisionTreeClassifier(\n",
    "    criterion='entropy',  # hangi kritere göre (gini || entropy)\n",
    "    random_state=100,\n",
    "    max_depth=3,\n",
    "    min_samples_leaf=5\n",
    ")"
   ]
  },
  {
   "cell_type": "code",
   "execution_count": 38,
   "metadata": {
    "ExecuteTime": {
     "end_time": "2021-05-31T19:39:15.325160Z",
     "start_time": "2021-05-31T19:39:15.311715Z"
    }
   },
   "outputs": [
    {
     "data": {
      "text/plain": [
       "DecisionTreeClassifier(criterion='entropy', max_depth=3, min_samples_leaf=5,\n",
       "                       random_state=100)"
      ]
     },
     "execution_count": 38,
     "metadata": {},
     "output_type": "execute_result"
    }
   ],
   "source": [
    "clf_entropy.fit(X_train, y_train)"
   ]
  },
  {
   "cell_type": "code",
   "execution_count": 41,
   "metadata": {
    "ExecuteTime": {
     "end_time": "2021-05-31T19:42:11.796605Z",
     "start_time": "2021-05-31T19:42:11.789589Z"
    }
   },
   "outputs": [
    {
     "name": "stdout",
     "output_type": "stream",
     "text": [
      "['virginica']\n"
     ]
    }
   ],
   "source": [
    "# bu değerlerde gelen bir örnek varsa bunun sınıfı nedir\n",
    "print(clf_gini.predict([[5, 2, 3, 3]]))"
   ]
  },
  {
   "cell_type": "code",
   "execution_count": 51,
   "metadata": {
    "ExecuteTime": {
     "end_time": "2021-05-31T19:45:57.552274Z",
     "start_time": "2021-05-31T19:45:57.544112Z"
    }
   },
   "outputs": [
    {
     "name": "stdout",
     "output_type": "stream",
     "text": [
      "gini accuracy is 0.9555555555555556\n"
     ]
    }
   ],
   "source": [
    "# oluşturduğumuz classifier ile X_test verilerini tahmin ediyoruz\n",
    "y_pred_gini = clf_gini.predict(X_test)\n",
    "# print(y_pred_gini)\n",
    "print(\"gini accuracy is {}\".format(\n",
    "    accuracy_score(y_test, y_pred_gini)  # yaptığımız tahmini karşılaştırıyoruz\n",
    "))"
   ]
  },
  {
   "cell_type": "code",
   "execution_count": 52,
   "metadata": {
    "ExecuteTime": {
     "end_time": "2021-05-31T19:45:58.139677Z",
     "start_time": "2021-05-31T19:45:58.131315Z"
    }
   },
   "outputs": [
    {
     "name": "stdout",
     "output_type": "stream",
     "text": [
      "entropy accuracy is 0.9555555555555556\n"
     ]
    }
   ],
   "source": [
    "y_pred_ent = clf_entropy.predict(X_test)\n",
    "# print(y_pred_ent)\n",
    "print(\"entropy accuracy is {}\".format(accuracy_score(y_test, y_pred_ent)))"
   ]
  },
  {
   "cell_type": "markdown",
   "metadata": {},
   "source": [
    "## Sigorta Kaza Verileri (Homework)"
   ]
  },
  {
   "cell_type": "code",
   "execution_count": 53,
   "metadata": {
    "ExecuteTime": {
     "end_time": "2021-05-31T20:07:50.669133Z",
     "start_time": "2021-05-31T20:07:50.663678Z"
    }
   },
   "outputs": [],
   "source": [
    "import pandas as pd\n",
    "from sklearn.model_selection import train_test_split\n",
    "from sklearn.tree import DecisionTreeClassifier\n",
    "from sklearn.metrics import accuracy_score"
   ]
  },
  {
   "cell_type": "code",
   "execution_count": 79,
   "metadata": {
    "ExecuteTime": {
     "end_time": "2021-05-31T20:19:46.346155Z",
     "start_time": "2021-05-31T20:19:46.336855Z"
    }
   },
   "outputs": [],
   "source": [
    "df = pd.read_csv('sigorta_kaza_training.csv')"
   ]
  },
  {
   "cell_type": "code",
   "execution_count": 82,
   "metadata": {
    "ExecuteTime": {
     "end_time": "2021-05-31T20:19:50.947374Z",
     "start_time": "2021-05-31T20:19:50.933232Z"
    }
   },
   "outputs": [
    {
     "data": {
      "text/html": [
       "<div>\n",
       "<style scoped>\n",
       "    .dataframe tbody tr th:only-of-type {\n",
       "        vertical-align: middle;\n",
       "    }\n",
       "\n",
       "    .dataframe tbody tr th {\n",
       "        vertical-align: top;\n",
       "    }\n",
       "\n",
       "    .dataframe thead th {\n",
       "        text-align: right;\n",
       "    }\n",
       "</style>\n",
       "<table border=\"1\" class=\"dataframe\">\n",
       "  <thead>\n",
       "    <tr style=\"text-align: right;\">\n",
       "      <th></th>\n",
       "      <th>yas</th>\n",
       "      <th>kac_yil_ehliyet</th>\n",
       "      <th>araba_km</th>\n",
       "      <th>kadin_erkek</th>\n",
       "      <th>kac_kere_kaza</th>\n",
       "    </tr>\n",
       "  </thead>\n",
       "  <tbody>\n",
       "    <tr>\n",
       "      <th>0</th>\n",
       "      <td>35.0</td>\n",
       "      <td>13.0</td>\n",
       "      <td>16000.0</td>\n",
       "      <td>1.0</td>\n",
       "      <td>1</td>\n",
       "    </tr>\n",
       "    <tr>\n",
       "      <th>1</th>\n",
       "      <td>45.0</td>\n",
       "      <td>2.0</td>\n",
       "      <td>11000.0</td>\n",
       "      <td>1.0</td>\n",
       "      <td>1</td>\n",
       "    </tr>\n",
       "    <tr>\n",
       "      <th>2</th>\n",
       "      <td>46.0</td>\n",
       "      <td>12.0</td>\n",
       "      <td>12000.0</td>\n",
       "      <td>0.0</td>\n",
       "      <td>1</td>\n",
       "    </tr>\n",
       "    <tr>\n",
       "      <th>3</th>\n",
       "      <td>44.0</td>\n",
       "      <td>23.0</td>\n",
       "      <td>6000.0</td>\n",
       "      <td>1.0</td>\n",
       "      <td>0</td>\n",
       "    </tr>\n",
       "    <tr>\n",
       "      <th>4</th>\n",
       "      <td>67.0</td>\n",
       "      <td>22.0</td>\n",
       "      <td>19000.0</td>\n",
       "      <td>0.0</td>\n",
       "      <td>1</td>\n",
       "    </tr>\n",
       "  </tbody>\n",
       "</table>\n",
       "</div>"
      ],
      "text/plain": [
       "    yas  kac_yil_ehliyet  araba_km  kadin_erkek  kac_kere_kaza\n",
       "0  35.0             13.0   16000.0          1.0              1\n",
       "1  45.0              2.0   11000.0          1.0              1\n",
       "2  46.0             12.0   12000.0          0.0              1\n",
       "3  44.0             23.0    6000.0          1.0              0\n",
       "4  67.0             22.0   19000.0          0.0              1"
      ]
     },
     "execution_count": 82,
     "metadata": {},
     "output_type": "execute_result"
    }
   ],
   "source": [
    "df.head()"
   ]
  },
  {
   "cell_type": "code",
   "execution_count": 81,
   "metadata": {
    "ExecuteTime": {
     "end_time": "2021-05-31T20:19:48.899069Z",
     "start_time": "2021-05-31T20:19:48.894611Z"
    }
   },
   "outputs": [],
   "source": [
    "df.columns=['yas','kac_yil_ehliyet','araba_km','kadin_erkek','kac_kere_kaza']"
   ]
  },
  {
   "cell_type": "code",
   "execution_count": 85,
   "metadata": {
    "ExecuteTime": {
     "end_time": "2021-05-31T20:20:28.037012Z",
     "start_time": "2021-05-31T20:20:28.031426Z"
    }
   },
   "outputs": [],
   "source": [
    "X = df.loc[:,'yas':'kadin_erkek'] # hedef feature tahmin etmek icin kullanacagımız degiskenler\n",
    "y = df.loc[:,'kac_kere_kaza':] # hedef feature"
   ]
  },
  {
   "cell_type": "code",
   "execution_count": 87,
   "metadata": {
    "ExecuteTime": {
     "end_time": "2021-05-31T20:21:37.892265Z",
     "start_time": "2021-05-31T20:21:37.879028Z"
    }
   },
   "outputs": [],
   "source": [
    "X_train,X_test,y_train,y_test = train_test_split(X,y,test_size=0.3,random_state=100)"
   ]
  },
  {
   "cell_type": "code",
   "execution_count": 88,
   "metadata": {
    "ExecuteTime": {
     "end_time": "2021-05-31T20:22:21.220769Z",
     "start_time": "2021-05-31T20:22:21.215075Z"
    }
   },
   "outputs": [],
   "source": [
    "clf_gini = DecisionTreeClassifier(\n",
    "    criterion='gini',\n",
    "    random_state=100,\n",
    "    max_depth=3,  \n",
    "    min_samples_leaf=5\n",
    ")"
   ]
  },
  {
   "cell_type": "code",
   "execution_count": 93,
   "metadata": {
    "ExecuteTime": {
     "end_time": "2021-05-31T20:24:09.795555Z",
     "start_time": "2021-05-31T20:24:09.783476Z"
    }
   },
   "outputs": [],
   "source": [
    "predict_gini = clf_gini.fit(X_train,y_train).predict(X_test)"
   ]
  },
  {
   "cell_type": "code",
   "execution_count": 94,
   "metadata": {
    "ExecuteTime": {
     "end_time": "2021-05-31T20:24:10.075507Z",
     "start_time": "2021-05-31T20:24:10.069396Z"
    }
   },
   "outputs": [
    {
     "data": {
      "text/plain": [
       "0.8543417366946778"
      ]
     },
     "execution_count": 94,
     "metadata": {},
     "output_type": "execute_result"
    }
   ],
   "source": [
    "accuracy_score(y_test,predict_gini)"
   ]
  },
  {
   "cell_type": "code",
   "execution_count": 96,
   "metadata": {
    "ExecuteTime": {
     "end_time": "2021-05-31T20:24:20.066504Z",
     "start_time": "2021-05-31T20:24:20.020012Z"
    }
   },
   "outputs": [
    {
     "data": {
      "text/html": [
       "<div>\n",
       "<style scoped>\n",
       "    .dataframe tbody tr th:only-of-type {\n",
       "        vertical-align: middle;\n",
       "    }\n",
       "\n",
       "    .dataframe tbody tr th {\n",
       "        vertical-align: top;\n",
       "    }\n",
       "\n",
       "    .dataframe thead th {\n",
       "        text-align: right;\n",
       "    }\n",
       "</style>\n",
       "<table border=\"1\" class=\"dataframe\">\n",
       "  <thead>\n",
       "    <tr style=\"text-align: right;\">\n",
       "      <th></th>\n",
       "      <th>yas</th>\n",
       "      <th>kac_yil_ehliyet</th>\n",
       "      <th>araba_km</th>\n",
       "      <th>kadin_erkek</th>\n",
       "      <th>kac_kere_kaza</th>\n",
       "    </tr>\n",
       "  </thead>\n",
       "  <tbody>\n",
       "    <tr>\n",
       "      <th>0</th>\n",
       "      <td>35.0</td>\n",
       "      <td>13.0</td>\n",
       "      <td>16000.0</td>\n",
       "      <td>1.0</td>\n",
       "      <td>1</td>\n",
       "    </tr>\n",
       "    <tr>\n",
       "      <th>1</th>\n",
       "      <td>45.0</td>\n",
       "      <td>2.0</td>\n",
       "      <td>11000.0</td>\n",
       "      <td>1.0</td>\n",
       "      <td>1</td>\n",
       "    </tr>\n",
       "    <tr>\n",
       "      <th>2</th>\n",
       "      <td>46.0</td>\n",
       "      <td>12.0</td>\n",
       "      <td>12000.0</td>\n",
       "      <td>0.0</td>\n",
       "      <td>1</td>\n",
       "    </tr>\n",
       "    <tr>\n",
       "      <th>3</th>\n",
       "      <td>44.0</td>\n",
       "      <td>23.0</td>\n",
       "      <td>6000.0</td>\n",
       "      <td>1.0</td>\n",
       "      <td>0</td>\n",
       "    </tr>\n",
       "    <tr>\n",
       "      <th>4</th>\n",
       "      <td>67.0</td>\n",
       "      <td>22.0</td>\n",
       "      <td>19000.0</td>\n",
       "      <td>0.0</td>\n",
       "      <td>1</td>\n",
       "    </tr>\n",
       "  </tbody>\n",
       "</table>\n",
       "</div>"
      ],
      "text/plain": [
       "    yas  kac_yil_ehliyet  araba_km  kadin_erkek  kac_kere_kaza\n",
       "0  35.0             13.0   16000.0          1.0              1\n",
       "1  45.0              2.0   11000.0          1.0              1\n",
       "2  46.0             12.0   12000.0          0.0              1\n",
       "3  44.0             23.0    6000.0          1.0              0\n",
       "4  67.0             22.0   19000.0          0.0              1"
      ]
     },
     "execution_count": 96,
     "metadata": {},
     "output_type": "execute_result"
    }
   ],
   "source": [
    "df.head()"
   ]
  },
  {
   "cell_type": "code",
   "execution_count": 97,
   "metadata": {
    "ExecuteTime": {
     "end_time": "2021-05-31T20:24:41.233780Z",
     "start_time": "2021-05-31T20:24:41.219081Z"
    }
   },
   "outputs": [
    {
     "data": {
      "text/plain": [
       "array([1])"
      ]
     },
     "execution_count": 97,
     "metadata": {},
     "output_type": "execute_result"
    }
   ],
   "source": [
    "clf_gini.fit(X_train,y_train).predict([[20,2,100000,1]])"
   ]
  },
  {
   "cell_type": "code",
   "execution_count": null,
   "metadata": {},
   "outputs": [],
   "source": []
  }
 ],
 "metadata": {
  "kernelspec": {
   "display_name": "Python 3",
   "language": "python",
   "name": "python3"
  },
  "language_info": {
   "codemirror_mode": {
    "name": "ipython",
    "version": 3
   },
   "file_extension": ".py",
   "mimetype": "text/x-python",
   "name": "python",
   "nbconvert_exporter": "python",
   "pygments_lexer": "ipython3",
   "version": "3.8.3"
  },
  "toc": {
   "base_numbering": 1,
   "nav_menu": {},
   "number_sections": true,
   "sideBar": true,
   "skip_h1_title": false,
   "title_cell": "Table of Contents",
   "title_sidebar": "Contents",
   "toc_cell": false,
   "toc_position": {},
   "toc_section_display": true,
   "toc_window_display": false
  }
 },
 "nbformat": 4,
 "nbformat_minor": 4
}
