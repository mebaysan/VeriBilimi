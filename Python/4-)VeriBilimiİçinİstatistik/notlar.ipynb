{
 "cells": [
  {
   "cell_type": "markdown",
   "metadata": {},
   "source": [
    "# Örneklem ve Merkezi Limit"
   ]
  },
  {
   "cell_type": "markdown",
   "metadata": {},
   "source": [
    "**Örneklem Nedir?**\n",
    "\n",
    "\n",
    "Popülasyon içerisinden, popülasyonu temsil ettiği düşünülen alt kümedir."
   ]
  },
  {
   "cell_type": "markdown",
   "metadata": {},
   "source": [
    "**Merkezi Limit Teoremi Nedir?**\n",
    "\n",
    "\n",
    "Bağımsız ve aynı dağılıma sahip rassal değişkenlerin toplamı ya da aritmetik ortalaması normal dağılır."
   ]
  },
  {
   "cell_type": "code",
   "execution_count": 1,
   "metadata": {},
   "outputs": [],
   "source": [
    "import numpy as np"
   ]
  },
  {
   "cell_type": "code",
   "execution_count": 21,
   "metadata": {},
   "outputs": [],
   "source": [
    "populasyon = np.random.randint(0,80,10000) # 0 ile 80 arasında 100 sayı"
   ]
  },
  {
   "cell_type": "code",
   "execution_count": 22,
   "metadata": {},
   "outputs": [
    {
     "data": {
      "text/plain": [
       "array([43, 29, 77, 60, 43, 23, 35, 60, 79, 79])"
      ]
     },
     "execution_count": 22,
     "metadata": {},
     "output_type": "execute_result"
    }
   ],
   "source": [
    "populasyon[:10]"
   ]
  },
  {
   "cell_type": "code",
   "execution_count": 23,
   "metadata": {},
   "outputs": [
    {
     "data": {
      "text/plain": [
       "array([28, 69, 39, 40, 70, 15, 24,  1, 59, 75])"
      ]
     },
     "execution_count": 23,
     "metadata": {},
     "output_type": "execute_result"
    }
   ],
   "source": [
    "np.random.seed(3) # içine verdiğimiz key sayesinde random işlemi hep aynı şekilde yapılır\n",
    "\n",
    "orneklem = np.random.choice(a=populasyon, size=100)\n",
    "\n",
    "orneklem[:10]"
   ]
  },
  {
   "cell_type": "code",
   "execution_count": 24,
   "metadata": {},
   "outputs": [
    {
     "data": {
      "text/plain": [
       "41.23"
      ]
     },
     "execution_count": 24,
     "metadata": {},
     "output_type": "execute_result"
    }
   ],
   "source": [
    "orneklem.mean() # örneklem ortalaması"
   ]
  },
  {
   "cell_type": "code",
   "execution_count": 26,
   "metadata": {},
   "outputs": [
    {
     "data": {
      "text/plain": [
       "39.6059"
      ]
     },
     "execution_count": 26,
     "metadata": {},
     "output_type": "execute_result"
    }
   ],
   "source": [
    "populasyon.mean() # popülasyon ortalaması"
   ]
  },
  {
   "cell_type": "code",
   "execution_count": 28,
   "metadata": {},
   "outputs": [],
   "source": [
    "orneklemler = []\n",
    "\n",
    "np.random.seed(5)\n",
    "\n",
    "for i in range(10):\n",
    "    orneklemler.append(np.random.choice(populasyon, size = 100)) # 10 adet örneklem oluşturduk"
   ]
  },
  {
   "cell_type": "code",
   "execution_count": 30,
   "metadata": {},
   "outputs": [
    {
     "data": {
      "text/plain": [
       "10"
      ]
     },
     "execution_count": 30,
     "metadata": {},
     "output_type": "execute_result"
    }
   ],
   "source": [
    "len(orneklemler) # örneklem sayımız"
   ]
  },
  {
   "cell_type": "code",
   "execution_count": 32,
   "metadata": {},
   "outputs": [
    {
     "data": {
      "text/plain": [
       "40.459999999999994"
      ]
     },
     "execution_count": 32,
     "metadata": {},
     "output_type": "execute_result"
    }
   ],
   "source": [
    "orneklem_ortalamasi = 0\n",
    "\n",
    "for i in orneklemler:\n",
    "    orneklem_ortalamasi += i.mean() # örneklemlerin ortalamasını topluyoruz\n",
    "\n",
    "orneklem_ortalamasi = orneklem_ortalamasi / len(orneklemler) # örneklemlerin ortalamasının ortalamasını alıyoruz\n",
    "\n",
    "orneklem_ortalamasi"
   ]
  },
  {
   "cell_type": "markdown",
   "metadata": {},
   "source": [
    "# Betimsel İstatistikler"
   ]
  },
  {
   "cell_type": "markdown",
   "metadata": {},
   "source": [
    "## Kovaryans\n",
    "\n",
    "İki değişken arasındaki ilişkinin değişkenlik ölçüsüdür."
   ]
  },
  {
   "cell_type": "markdown",
   "metadata": {},
   "source": [
    "## Korelasyon\n",
    "\n",
    "İki değişken arasındaki ilişkinin anlamlı olup olmadığını, ilişkinin şiddeetini ve yönünü ifade eden istatistiksel tekniktir."
   ]
  },
  {
   "cell_type": "code",
   "execution_count": 33,
   "metadata": {},
   "outputs": [],
   "source": [
    "import seaborn as sns"
   ]
  },
  {
   "cell_type": "code",
   "execution_count": 34,
   "metadata": {},
   "outputs": [
    {
     "data": {
      "text/html": [
       "<div>\n",
       "<style scoped>\n",
       "    .dataframe tbody tr th:only-of-type {\n",
       "        vertical-align: middle;\n",
       "    }\n",
       "\n",
       "    .dataframe tbody tr th {\n",
       "        vertical-align: top;\n",
       "    }\n",
       "\n",
       "    .dataframe thead th {\n",
       "        text-align: right;\n",
       "    }\n",
       "</style>\n",
       "<table border=\"1\" class=\"dataframe\">\n",
       "  <thead>\n",
       "    <tr style=\"text-align: right;\">\n",
       "      <th></th>\n",
       "      <th>total_bill</th>\n",
       "      <th>tip</th>\n",
       "      <th>sex</th>\n",
       "      <th>smoker</th>\n",
       "      <th>day</th>\n",
       "      <th>time</th>\n",
       "      <th>size</th>\n",
       "    </tr>\n",
       "  </thead>\n",
       "  <tbody>\n",
       "    <tr>\n",
       "      <th>0</th>\n",
       "      <td>16.99</td>\n",
       "      <td>1.01</td>\n",
       "      <td>Female</td>\n",
       "      <td>No</td>\n",
       "      <td>Sun</td>\n",
       "      <td>Dinner</td>\n",
       "      <td>2</td>\n",
       "    </tr>\n",
       "    <tr>\n",
       "      <th>1</th>\n",
       "      <td>10.34</td>\n",
       "      <td>1.66</td>\n",
       "      <td>Male</td>\n",
       "      <td>No</td>\n",
       "      <td>Sun</td>\n",
       "      <td>Dinner</td>\n",
       "      <td>3</td>\n",
       "    </tr>\n",
       "  </tbody>\n",
       "</table>\n",
       "</div>"
      ],
      "text/plain": [
       "   total_bill   tip     sex smoker  day    time  size\n",
       "0       16.99  1.01  Female     No  Sun  Dinner     2\n",
       "1       10.34  1.66    Male     No  Sun  Dinner     3"
      ]
     },
     "execution_count": 34,
     "metadata": {},
     "output_type": "execute_result"
    }
   ],
   "source": [
    "tips = sns.load_dataset('tips')\n",
    "df = tips.copy()\n",
    "df.head(2)"
   ]
  },
  {
   "cell_type": "code",
   "execution_count": 35,
   "metadata": {
    "collapsed": true,
    "jupyter": {
     "outputs_hidden": true
    }
   },
   "outputs": [
    {
     "name": "stdout",
     "output_type": "stream",
     "text": [
      "Collecting researchpy\n",
      "  Downloading researchpy-0.2.3-py3-none-any.whl (10 kB)\n",
      "Collecting as\n",
      "  Downloading as-0.1-py3-none-any.whl (2.2 kB)\n",
      "Collecting rp\n",
      "  Downloading rp-0.1.676.tar.gz (3.7 MB)\n",
      "\u001b[K     |████████████████████████████████| 3.7 MB 2.0 MB/s eta 0:00:01\n",
      "\u001b[?25hRequirement already satisfied: numpy in /Users/mebaysan/opt/anaconda3/lib/python3.8/site-packages (from researchpy) (1.18.5)\n",
      "Requirement already satisfied: pandas in /Users/mebaysan/opt/anaconda3/lib/python3.8/site-packages (from researchpy) (1.0.5)\n",
      "Requirement already satisfied: statsmodels in /Users/mebaysan/opt/anaconda3/lib/python3.8/site-packages (from researchpy) (0.11.1)\n",
      "Requirement already satisfied: scipy in /Users/mebaysan/opt/anaconda3/lib/python3.8/site-packages (from researchpy) (1.5.0)\n",
      "Requirement already satisfied: wcwidth in /Users/mebaysan/opt/anaconda3/lib/python3.8/site-packages (from rp) (0.2.5)\n",
      "Requirement already satisfied: pygments in /Users/mebaysan/opt/anaconda3/lib/python3.8/site-packages (from rp) (2.6.1)\n",
      "Requirement already satisfied: six in /Users/mebaysan/opt/anaconda3/lib/python3.8/site-packages (from rp) (1.15.0)\n",
      "Collecting stackprinter\n",
      "  Downloading stackprinter-0.2.5-py3-none-any.whl (27 kB)\n",
      "Collecting inflect\n",
      "  Downloading inflect-5.0.2-py3-none-any.whl (31 kB)\n",
      "Collecting doge\n",
      "  Downloading doge-3.5.0.tar.gz (16 kB)\n",
      "Requirement already satisfied: parso in /Users/mebaysan/opt/anaconda3/lib/python3.8/site-packages (from rp) (0.7.0)\n",
      "Collecting dill\n",
      "  Downloading dill-0.3.3-py2.py3-none-any.whl (81 kB)\n",
      "\u001b[K     |████████████████████████████████| 81 kB 10.5 MB/s eta 0:00:01\n",
      "\u001b[?25hRequirement already satisfied: python-dateutil>=2.6.1 in /Users/mebaysan/opt/anaconda3/lib/python3.8/site-packages (from pandas->researchpy) (2.8.1)\n",
      "Requirement already satisfied: pytz>=2017.2 in /Users/mebaysan/opt/anaconda3/lib/python3.8/site-packages (from pandas->researchpy) (2020.1)\n",
      "Requirement already satisfied: patsy>=0.5 in /Users/mebaysan/opt/anaconda3/lib/python3.8/site-packages (from statsmodels->researchpy) (0.5.1)\n",
      "Building wheels for collected packages: rp, doge\n",
      "  Building wheel for rp (setup.py) ... \u001b[?25ldone\n",
      "\u001b[?25h  Created wheel for rp: filename=rp-0.1.676-py3-none-any.whl size=2481255 sha256=764d99968798c5479eae529e76988437d4b9608b7332f51ada60bb3771977bc9\n",
      "  Stored in directory: /Users/mebaysan/Library/Caches/pip/wheels/f8/ba/97/3701f344904739f0c9cc79f5ed8f2ccf85ff14741e5207dd9a\n",
      "  Building wheel for doge (setup.py) ... \u001b[?25ldone\n",
      "\u001b[?25h  Created wheel for doge: filename=doge-3.5.0-py3-none-any.whl size=16562 sha256=71021853a2b1e97f3aa61be4974eb140e44b1bbfd47629ab7fbd184edcb80586\n",
      "  Stored in directory: /Users/mebaysan/Library/Caches/pip/wheels/ea/fc/5f/0d6b5816352c4beb582d6c29e76d3fb90fcd5d233b830b7b0d\n",
      "Successfully built rp doge\n",
      "Installing collected packages: researchpy, as, stackprinter, inflect, doge, dill, rp\n",
      "Successfully installed as-0.1 dill-0.3.3 doge-3.5.0 inflect-5.0.2 researchpy-0.2.3 rp-0.1.676 stackprinter-0.2.5\n"
     ]
    }
   ],
   "source": [
    "!pip install researchpy as rp"
   ]
  },
  {
   "cell_type": "code",
   "execution_count": 36,
   "metadata": {},
   "outputs": [],
   "source": [
    "import researchpy as rp"
   ]
  },
  {
   "cell_type": "code",
   "execution_count": 37,
   "metadata": {},
   "outputs": [
    {
     "name": "stdout",
     "output_type": "stream",
     "text": [
      "\n",
      "\n"
     ]
    },
    {
     "data": {
      "text/html": [
       "<div>\n",
       "<style scoped>\n",
       "    .dataframe tbody tr th:only-of-type {\n",
       "        vertical-align: middle;\n",
       "    }\n",
       "\n",
       "    .dataframe tbody tr th {\n",
       "        vertical-align: top;\n",
       "    }\n",
       "\n",
       "    .dataframe thead th {\n",
       "        text-align: right;\n",
       "    }\n",
       "</style>\n",
       "<table border=\"1\" class=\"dataframe\">\n",
       "  <thead>\n",
       "    <tr style=\"text-align: right;\">\n",
       "      <th></th>\n",
       "      <th>Variable</th>\n",
       "      <th>N</th>\n",
       "      <th>Mean</th>\n",
       "      <th>SD</th>\n",
       "      <th>SE</th>\n",
       "      <th>95% Conf.</th>\n",
       "      <th>Interval</th>\n",
       "    </tr>\n",
       "  </thead>\n",
       "  <tbody>\n",
       "    <tr>\n",
       "      <th>0</th>\n",
       "      <td>total_bill</td>\n",
       "      <td>244.0</td>\n",
       "      <td>19.7859</td>\n",
       "      <td>8.9024</td>\n",
       "      <td>0.5699</td>\n",
       "      <td>18.6633</td>\n",
       "      <td>20.9086</td>\n",
       "    </tr>\n",
       "    <tr>\n",
       "      <th>1</th>\n",
       "      <td>tip</td>\n",
       "      <td>244.0</td>\n",
       "      <td>2.9983</td>\n",
       "      <td>1.3836</td>\n",
       "      <td>0.0886</td>\n",
       "      <td>2.8238</td>\n",
       "      <td>3.1728</td>\n",
       "    </tr>\n",
       "    <tr>\n",
       "      <th>2</th>\n",
       "      <td>size</td>\n",
       "      <td>244.0</td>\n",
       "      <td>2.5697</td>\n",
       "      <td>0.9511</td>\n",
       "      <td>0.0609</td>\n",
       "      <td>2.4497</td>\n",
       "      <td>2.6896</td>\n",
       "    </tr>\n",
       "  </tbody>\n",
       "</table>\n",
       "</div>"
      ],
      "text/plain": [
       "     Variable      N     Mean      SD      SE  95% Conf.  Interval\n",
       "0  total_bill  244.0  19.7859  8.9024  0.5699    18.6633   20.9086\n",
       "1         tip  244.0   2.9983  1.3836  0.0886     2.8238    3.1728\n",
       "2        size  244.0   2.5697  0.9511  0.0609     2.4497    2.6896"
      ]
     },
     "execution_count": 37,
     "metadata": {},
     "output_type": "execute_result"
    }
   ],
   "source": [
    "rp.summary_cont((df[['total_bill','tip','size']])) # nicel değişkenler hakkında özet bilgi"
   ]
  },
  {
   "cell_type": "code",
   "execution_count": 39,
   "metadata": {},
   "outputs": [
    {
     "data": {
      "text/html": [
       "<div>\n",
       "<style scoped>\n",
       "    .dataframe tbody tr th:only-of-type {\n",
       "        vertical-align: middle;\n",
       "    }\n",
       "\n",
       "    .dataframe tbody tr th {\n",
       "        vertical-align: top;\n",
       "    }\n",
       "\n",
       "    .dataframe thead th {\n",
       "        text-align: right;\n",
       "    }\n",
       "</style>\n",
       "<table border=\"1\" class=\"dataframe\">\n",
       "  <thead>\n",
       "    <tr style=\"text-align: right;\">\n",
       "      <th></th>\n",
       "      <th>Variable</th>\n",
       "      <th>Outcome</th>\n",
       "      <th>Count</th>\n",
       "      <th>Percent</th>\n",
       "    </tr>\n",
       "  </thead>\n",
       "  <tbody>\n",
       "    <tr>\n",
       "      <th>0</th>\n",
       "      <td>sex</td>\n",
       "      <td>Male</td>\n",
       "      <td>157</td>\n",
       "      <td>64.34</td>\n",
       "    </tr>\n",
       "    <tr>\n",
       "      <th>1</th>\n",
       "      <td></td>\n",
       "      <td>Female</td>\n",
       "      <td>87</td>\n",
       "      <td>35.66</td>\n",
       "    </tr>\n",
       "    <tr>\n",
       "      <th>2</th>\n",
       "      <td>smoker</td>\n",
       "      <td>No</td>\n",
       "      <td>151</td>\n",
       "      <td>61.89</td>\n",
       "    </tr>\n",
       "    <tr>\n",
       "      <th>3</th>\n",
       "      <td></td>\n",
       "      <td>Yes</td>\n",
       "      <td>93</td>\n",
       "      <td>38.11</td>\n",
       "    </tr>\n",
       "    <tr>\n",
       "      <th>4</th>\n",
       "      <td>day</td>\n",
       "      <td>Sat</td>\n",
       "      <td>87</td>\n",
       "      <td>35.66</td>\n",
       "    </tr>\n",
       "    <tr>\n",
       "      <th>5</th>\n",
       "      <td></td>\n",
       "      <td>Sun</td>\n",
       "      <td>76</td>\n",
       "      <td>31.15</td>\n",
       "    </tr>\n",
       "    <tr>\n",
       "      <th>6</th>\n",
       "      <td></td>\n",
       "      <td>Thur</td>\n",
       "      <td>62</td>\n",
       "      <td>25.41</td>\n",
       "    </tr>\n",
       "    <tr>\n",
       "      <th>7</th>\n",
       "      <td></td>\n",
       "      <td>Fri</td>\n",
       "      <td>19</td>\n",
       "      <td>7.79</td>\n",
       "    </tr>\n",
       "  </tbody>\n",
       "</table>\n",
       "</div>"
      ],
      "text/plain": [
       "  Variable Outcome  Count  Percent\n",
       "0      sex    Male    157    64.34\n",
       "1           Female     87    35.66\n",
       "2   smoker      No    151    61.89\n",
       "3              Yes     93    38.11\n",
       "4      day     Sat     87    35.66\n",
       "5              Sun     76    31.15\n",
       "6             Thur     62    25.41\n",
       "7              Fri     19     7.79"
      ]
     },
     "execution_count": 39,
     "metadata": {},
     "output_type": "execute_result"
    }
   ],
   "source": [
    "rp.summary_cat((df[['sex','smoker','day']])) # nitel değişkenler hakkında özet bilgi"
   ]
  },
  {
   "cell_type": "code",
   "execution_count": 41,
   "metadata": {},
   "outputs": [
    {
     "data": {
      "text/html": [
       "<div>\n",
       "<style scoped>\n",
       "    .dataframe tbody tr th:only-of-type {\n",
       "        vertical-align: middle;\n",
       "    }\n",
       "\n",
       "    .dataframe tbody tr th {\n",
       "        vertical-align: top;\n",
       "    }\n",
       "\n",
       "    .dataframe thead th {\n",
       "        text-align: right;\n",
       "    }\n",
       "</style>\n",
       "<table border=\"1\" class=\"dataframe\">\n",
       "  <thead>\n",
       "    <tr style=\"text-align: right;\">\n",
       "      <th></th>\n",
       "      <th>tip</th>\n",
       "      <th>total_bill</th>\n",
       "    </tr>\n",
       "  </thead>\n",
       "  <tbody>\n",
       "    <tr>\n",
       "      <th>tip</th>\n",
       "      <td>1.914455</td>\n",
       "      <td>8.323502</td>\n",
       "    </tr>\n",
       "    <tr>\n",
       "      <th>total_bill</th>\n",
       "      <td>8.323502</td>\n",
       "      <td>79.252939</td>\n",
       "    </tr>\n",
       "  </tbody>\n",
       "</table>\n",
       "</div>"
      ],
      "text/plain": [
       "                 tip  total_bill\n",
       "tip         1.914455    8.323502\n",
       "total_bill  8.323502   79.252939"
      ]
     },
     "execution_count": 41,
     "metadata": {},
     "output_type": "execute_result"
    }
   ],
   "source": [
    "df[['tip','total_bill']].cov() # iki değişken arasındaki kovaryansı bize verir"
   ]
  },
  {
   "cell_type": "code",
   "execution_count": 43,
   "metadata": {},
   "outputs": [
    {
     "data": {
      "text/html": [
       "<div>\n",
       "<style scoped>\n",
       "    .dataframe tbody tr th:only-of-type {\n",
       "        vertical-align: middle;\n",
       "    }\n",
       "\n",
       "    .dataframe tbody tr th {\n",
       "        vertical-align: top;\n",
       "    }\n",
       "\n",
       "    .dataframe thead th {\n",
       "        text-align: right;\n",
       "    }\n",
       "</style>\n",
       "<table border=\"1\" class=\"dataframe\">\n",
       "  <thead>\n",
       "    <tr style=\"text-align: right;\">\n",
       "      <th></th>\n",
       "      <th>tip</th>\n",
       "      <th>total_bill</th>\n",
       "    </tr>\n",
       "  </thead>\n",
       "  <tbody>\n",
       "    <tr>\n",
       "      <th>tip</th>\n",
       "      <td>1.000000</td>\n",
       "      <td>0.675734</td>\n",
       "    </tr>\n",
       "    <tr>\n",
       "      <th>total_bill</th>\n",
       "      <td>0.675734</td>\n",
       "      <td>1.000000</td>\n",
       "    </tr>\n",
       "  </tbody>\n",
       "</table>\n",
       "</div>"
      ],
      "text/plain": [
       "                 tip  total_bill\n",
       "tip         1.000000    0.675734\n",
       "total_bill  0.675734    1.000000"
      ]
     },
     "execution_count": 43,
     "metadata": {},
     "output_type": "execute_result"
    }
   ],
   "source": [
    "df[['tip','total_bill']].corr() # iki değişken arasındaki korelasyonu bize verir"
   ]
  },
  {
   "cell_type": "markdown",
   "metadata": {},
   "source": [
    "# Güven Aralığı\n",
    "\n",
    "Ana kütle parametresinin tahmini değerini kapsayabilecek iki sayıdan oluşan bir aralıktır.\n",
    "\n",
    "Ölçümün hassasiyetinin göstergesidir.\n",
    "\n",
    "Tahminlerin doğruluğu hakkında bilgi verir\n",
    "\n",
    "### Güven Aralığının Hesaplanması\n",
    "\n",
    "- n, ortalama(x) ve standart sapmayı bul\n",
    "- Güven aralığına karar ver; 95 mi 99 mu?\n",
    "- Z tablo değerini hesapla (95 için 1.96)\n",
    "- Yukarıdaki değerler ile güven aralığını hesapla\n",
    "    - x +- z * (standart sapma / sqrt(n))"
   ]
  },
  {
   "cell_type": "markdown",
   "metadata": {},
   "source": [
    "#### Örnek Uygulama"
   ]
  },
  {
   "cell_type": "code",
   "execution_count": 48,
   "metadata": {},
   "outputs": [],
   "source": [
    "import numpy as np"
   ]
  },
  {
   "cell_type": "code",
   "execution_count": 55,
   "metadata": {},
   "outputs": [],
   "source": [
    "fiyatlar = np.random.randint(10,110,1000) \n",
    "# örnek olarak 1000 kişi ile konuştuk ve bize 10 ila 110 tl arasında ödeme yapabileceklerini söylediler"
   ]
  },
  {
   "cell_type": "code",
   "execution_count": 56,
   "metadata": {},
   "outputs": [
    {
     "data": {
      "text/plain": [
       "60.654"
      ]
     },
     "execution_count": 56,
     "metadata": {},
     "output_type": "execute_result"
    }
   ],
   "source": [
    "fiyatlar.mean()"
   ]
  },
  {
   "cell_type": "code",
   "execution_count": 57,
   "metadata": {},
   "outputs": [],
   "source": [
    "import statsmodels.stats.api as sms"
   ]
  },
  {
   "cell_type": "code",
   "execution_count": 58,
   "metadata": {},
   "outputs": [
    {
     "data": {
      "text/plain": [
       "(58.85157474398172, 62.456425256018285)"
      ]
     },
     "execution_count": 58,
     "metadata": {},
     "output_type": "execute_result"
    }
   ],
   "source": [
    "sms.DescrStatsW(fiyatlar).tconfint_mean() \n",
    "# istatistiksel olarak %95 güvenilirlik müşteriler bu iki fiyat aralığında ödeme yapmayı kabul ederler fakat %5'lik kısım buna dahil olmayabilir"
   ]
  },
  {
   "cell_type": "markdown",
   "metadata": {},
   "source": [
    "# Olasılığa Giriş ve Olasılık Dağılımları\n",
    "\n",
    "**Olasılık**; olayların olabilirliğinin sayısal ifadesidir\n",
    "\n",
    "Değerlerini bir deneyin sonuçlarından alan değişkene **rassal değişken** denir\n",
    "\n",
    "Olayların sayısal karşılıklarının ortaya çıkardığı yapıya **dağılım** denir\n",
    "\n",
    "Rassal olaya ait değerler ve bu değerlerin gerçekleşme olasılıklarının bir arada ifade edilmesine **olasılık dağılımı** denir\n",
    "\n",
    "Bir değişkenin herhangi bir değeri alması olasılığını hesaplayan fonksiyona **olasılık fonksiyonu** denir"
   ]
  },
  {
   "cell_type": "markdown",
   "metadata": {},
   "source": [
    "## Kesikli ve Sürekli Olasılık Dağılımları\n",
    "\n",
    "### Kesikli Olasılık Dağılımları\n",
    "- Bernoulli\n",
    "- Binom\n",
    "- Poisson\n",
    "\n",
    "### Sürekli Olasılık Dağılımları\n",
    "- Normal Dağılım\n",
    "- Üniform Dağılım\n",
    "- Üstel Dağılım"
   ]
  },
  {
   "cell_type": "markdown",
   "metadata": {},
   "source": [
    "#### Bernoulli Dağılımı\n",
    "\n",
    "başarılı-başarısız, olumlu-olumsuz şeklindeki iki sonuçlu olaylar ile ilgilenildiğinde kullanılan kesikli olasılık dağılımıdır."
   ]
  },
  {
   "cell_type": "code",
   "execution_count": 1,
   "metadata": {},
   "outputs": [],
   "source": [
    "from scipy.stats import bernoulli"
   ]
  },
  {
   "cell_type": "code",
   "execution_count": 4,
   "metadata": {},
   "outputs": [],
   "source": [
    "p = 0.6 # Tura gelmesi olasılığı"
   ]
  },
  {
   "cell_type": "code",
   "execution_count": 7,
   "metadata": {},
   "outputs": [
    {
     "data": {
      "text/plain": [
       "0.6"
      ]
     },
     "execution_count": 7,
     "metadata": {},
     "output_type": "execute_result"
    }
   ],
   "source": [
    "rv = bernoulli(p)\n",
    "\n",
    "# probability mass functions\n",
    "rv.pmf(k=1) # tura gelme olasılığı"
   ]
  },
  {
   "cell_type": "code",
   "execution_count": 9,
   "metadata": {},
   "outputs": [
    {
     "data": {
      "text/plain": [
       "0.4"
      ]
     },
     "execution_count": 9,
     "metadata": {},
     "output_type": "execute_result"
    }
   ],
   "source": [
    "rv.pmf(k=0) # yazı gelme olasılığı"
   ]
  },
  {
   "cell_type": "markdown",
   "metadata": {},
   "source": [
    "#### Büyük Sayılar Kanunu\n",
    "\n",
    "Bir rassal değişkenin uzun vadeli kararlılığını tanımlayan olasılık teoremidir"
   ]
  },
  {
   "cell_type": "code",
   "execution_count": 1,
   "metadata": {},
   "outputs": [],
   "source": [
    "import numpy as np"
   ]
  },
  {
   "cell_type": "code",
   "execution_count": 2,
   "metadata": {},
   "outputs": [],
   "source": [
    "para = ['Y','T']"
   ]
  },
  {
   "cell_type": "code",
   "execution_count": 15,
   "metadata": {},
   "outputs": [
    {
     "name": "stdout",
     "output_type": "stream",
     "text": [
      "Atış sayısı 2\tYazı Sayısı -> 1\tYazı Oranı -> 0.5\n",
      "Atış sayısı 4\tYazı Sayısı -> 1\tYazı Oranı -> 0.25\n",
      "Atış sayısı 8\tYazı Sayısı -> 5\tYazı Oranı -> 0.625\n",
      "Atış sayısı 16\tYazı Sayısı -> 6\tYazı Oranı -> 0.375\n",
      "Atış sayısı 32\tYazı Sayısı -> 13\tYazı Oranı -> 0.40625\n",
      "Atış sayısı 64\tYazı Sayısı -> 35\tYazı Oranı -> 0.546875\n",
      "Atış sayısı 128\tYazı Sayısı -> 67\tYazı Oranı -> 0.5234375\n",
      "Atış sayısı 256\tYazı Sayısı -> 137\tYazı Oranı -> 0.53515625\n",
      "Atış sayısı 512\tYazı Sayısı -> 250\tYazı Oranı -> 0.48828125\n",
      "Atış sayısı 1024\tYazı Sayısı -> 519\tYazı Oranı -> 0.5068359375\n",
      "Atış sayısı 2048\tYazı Sayısı -> 1011\tYazı Oranı -> 0.49365234375\n",
      "Atış sayısı 4096\tYazı Sayısı -> 2060\tYazı Oranı -> 0.5029296875\n",
      "Atış sayısı 8192\tYazı Sayısı -> 4074\tYazı Oranı -> 0.497314453125\n",
      "Atış sayısı 16384\tYazı Sayısı -> 8193\tYazı Oranı -> 0.50006103515625\n",
      "Atış sayısı 32768\tYazı Sayısı -> 16214\tYazı Oranı -> 0.49481201171875\n",
      "Atış sayısı 65536\tYazı Sayısı -> 32606\tYazı Oranı -> 0.497528076171875\n",
      "Atış sayısı 131072\tYazı Sayısı -> 65837\tYazı Oranı -> 0.5022964477539062\n",
      "Atış sayısı 262144\tYazı Sayısı -> 131087\tYazı Oranı -> 0.5000572204589844\n",
      "Atış sayısı 524288\tYazı Sayısı -> 261658\tYazı Oranı -> 0.4990730285644531\n"
     ]
    }
   ],
   "source": [
    "for i in range(1,20):\n",
    "    deney_sayisi = 2 ** i\n",
    "    atış = np.random.choice(para,size=deney_sayisi)\n",
    "    yazi_sayisi = list(atış).count('Y')\n",
    "    yazi_olasilik = yazi_sayisi / deney_sayisi\n",
    "    print(f'Atış sayısı {deney_sayisi}\\tYazı Sayısı -> {yazi_sayisi}\\tYazı Oranı -> {yazi_olasilik}')"
   ]
  },
  {
   "cell_type": "markdown",
   "metadata": {},
   "source": [
    "#### Binom Dağılımı\n",
    "\n",
    "Bağımsız n deneme sonucu k başarılı olma olasılığı ile ilgilenildiğinde kullanılan dağılımdır"
   ]
  },
  {
   "cell_type": "code",
   "execution_count": 16,
   "metadata": {},
   "outputs": [],
   "source": [
    "from scipy.stats import binom"
   ]
  },
  {
   "cell_type": "code",
   "execution_count": 19,
   "metadata": {},
   "outputs": [
    {
     "name": "stdout",
     "output_type": "stream",
     "text": [
      "0.36972963764971983\n",
      "0.0028977871237616114\n",
      "7.006035693977161e-08\n"
     ]
    }
   ],
   "source": [
    "# bir mecrada reklam verilecek, 100 kişi gördüğünde 1 5 10 kişi tıklama olasılıkları nedir\n",
    "p = 0.01 # bildiğimiz olasılık değeri (reklama tıklama olasılığı)\n",
    "n = 100 # 100 kişi görecek\n",
    "rv = binom(n,p)\n",
    "print(rv.pmf(1))\n",
    "print(rv.pmf(5))\n",
    "print(rv.pmf(10))"
   ]
  },
  {
   "cell_type": "markdown",
   "metadata": {},
   "source": [
    "#### Poisson Dağılımı\n",
    "\n",
    "Belirli bir zaman aralığında belirli bir alanda nadiren rastlanan olayların olasılıklarını hesaplamak için kullanılır"
   ]
  },
  {
   "cell_type": "code",
   "execution_count": 20,
   "metadata": {},
   "outputs": [],
   "source": [
    "# ilan girişlerinin hata olasılıkları bilinmek isteniyor\n",
    "# Dağılım biliniyor (Poisson) ve Lambda 0.1 (ortalama hata sayısı)\n",
    "# Hiç hata olmaması, 3 hata olması ve 5 hata olması olasılıkları nedir"
   ]
  },
  {
   "cell_type": "code",
   "execution_count": 21,
   "metadata": {},
   "outputs": [],
   "source": [
    "from scipy.stats import poisson"
   ]
  },
  {
   "cell_type": "code",
   "execution_count": 27,
   "metadata": {},
   "outputs": [
    {
     "name": "stdout",
     "output_type": "stream",
     "text": [
      "0.9048374180359595\n",
      "0.00015080623633932676\n",
      "7.54031181696634e-08\n"
     ]
    }
   ],
   "source": [
    "rv = poisson(mu = 0.1) # mu -> lambda değeridir\n",
    "\n",
    "print(rv.pmf(k=0)) # 0 hata olma\n",
    "print(rv.pmf(k=3)) # 3 hata olma\n",
    "print(rv.pmf(k=5)) # 5 hata olma sayısı"
   ]
  },
  {
   "cell_type": "markdown",
   "metadata": {},
   "source": [
    "#### Normal Dağılım\n",
    "\n",
    "Normal dağıldığı bilinen sürekli rassal değişkenler için olasılık hesaplaması için kullanılır"
   ]
  },
  {
   "cell_type": "code",
   "execution_count": 28,
   "metadata": {},
   "outputs": [],
   "source": [
    "from scipy.stats import norm"
   ]
  },
  {
   "cell_type": "code",
   "execution_count": 30,
   "metadata": {},
   "outputs": [
    {
     "data": {
      "text/plain": [
       "0.02275013194817921"
      ]
     },
     "execution_count": 30,
     "metadata": {},
     "output_type": "execute_result"
    }
   ],
   "source": [
    "1 - norm.cdf(90,80,5)  # 90'dan fazla, 80 ortalama 5 standart sapma\n",
    "# kümülatif yoğunluk fonksiyonu"
   ]
  },
  {
   "cell_type": "code",
   "execution_count": 32,
   "metadata": {},
   "outputs": [
    {
     "data": {
      "text/plain": [
       "0.9772498680518208"
      ]
     },
     "execution_count": 32,
     "metadata": {},
     "output_type": "execute_result"
    }
   ],
   "source": [
    "1 - norm.cdf(70,80,5)# 70'den fazla, 80 ortalama 5 standart sapma"
   ]
  },
  {
   "cell_type": "code",
   "execution_count": 33,
   "metadata": {},
   "outputs": [
    {
     "data": {
      "text/plain": [
       "0.08075665923377107"
      ]
     },
     "execution_count": 33,
     "metadata": {},
     "output_type": "execute_result"
    }
   ],
   "source": [
    "norm.cdf(73,80,5) # 73'den az olması"
   ]
  },
  {
   "cell_type": "code",
   "execution_count": 35,
   "metadata": {},
   "outputs": [
    {
     "data": {
      "text/plain": [
       "0.13590512198327787"
      ]
     },
     "execution_count": 35,
     "metadata": {},
     "output_type": "execute_result"
    }
   ],
   "source": [
    "norm.cdf(90,80,5) - norm.cdf(85,80,5) # 85 ile 90 arasında olması"
   ]
  },
  {
   "cell_type": "markdown",
   "metadata": {},
   "source": [
    "# Hipotez Testleri\n",
    "\n",
    "Bir savı, tahmini, inanışı vs test etmek için kullanılan istatistiksel bir tekniktir"
   ]
  },
  {
   "cell_type": "markdown",
   "metadata": {},
   "source": [
    "## Hipotezler ve Türleri\n",
    "\n",
    "- H0: µ = 50 ve H1: µ ≠ 50\n",
    "- H0: µ ≤ 50 ve H1: µ > 50\n",
    "- H0: µ ≥ 50 ve H1: µ < 50"
   ]
  },
  {
   "cell_type": "markdown",
   "metadata": {},
   "source": [
    "## p-value\n",
    "\n",
    "a = 0.05 -> kabul edilebilir hata değeri\n",
    "\n",
    "p < 0.05 ise H0 hipotezi reddedilir "
   ]
  },
  {
   "cell_type": "markdown",
   "metadata": {},
   "source": [
    "## Hipotez Testi Adımları\n",
    "\n",
    "- Hipotezler kurulur ve yönleri belirlenir\n",
    "- Anlamlılık düzeyinin ve tablo değerinin belirlenmesi\n",
    "- Test istatistiğinin belirlenmesi ve test istatistiğinin hesaplanması\n",
    "- Hesaplanan test istatistiği ile alfa'ya karşılık gelen tablo değerinin karşılaştırılması\n",
    "    - Test İstatistiği (Zh) > Tablo Değeri (Zt) ise H0 Red\n",
    "- Yorum"
   ]
  },
  {
   "cell_type": "markdown",
   "metadata": {},
   "source": [
    "## Tek Örneklem T Testi\n",
    "\n",
    "Popülasyon ortalaması ile varsayımsal bir değer arasında istatistiksel olarak anlamlı bir faklılık olup olmadığını test etmek için kullanılan parametrik bir testtir.\n",
    "\n",
    "- Anakütle standart sapması biliniyorsa z istatistiği kullanılır\n",
    "- Anakütle standart sapması bilinmiyorsa ve n > 30 ise z istatistiği kullanılır\n",
    "- Anakütle standart sapması bilinmiyor ve n < 30 ise t istatistiği kullanılır\n",
    "- n büyüdükçe t z'ye yaklaşır"
   ]
  },
  {
   "cell_type": "code",
   "execution_count": null,
   "metadata": {},
   "outputs": [],
   "source": []
  }
 ],
 "metadata": {
  "kernelspec": {
   "display_name": "Python 3",
   "language": "python",
   "name": "python3"
  },
  "language_info": {
   "codemirror_mode": {
    "name": "ipython",
    "version": 3
   },
   "file_extension": ".py",
   "mimetype": "text/x-python",
   "name": "python",
   "nbconvert_exporter": "python",
   "pygments_lexer": "ipython3",
   "version": "3.8.3"
  }
 },
 "nbformat": 4,
 "nbformat_minor": 4
}
