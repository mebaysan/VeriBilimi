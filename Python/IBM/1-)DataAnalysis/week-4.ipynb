{
 "cells": [
  {
   "cell_type": "markdown",
   "metadata": {},
   "source": [
    "## Model Development (Geliştirme)\n",
    "* Simle and Multiple Linear Regression\n",
    "* Model Evaulation (Değerlendirme) using Visualization\n",
    "* Polynomial Regression and Pipelines\n",
    "* R-squared and MSE for In-Sample Evaluation\n",
    "* Prediction and Decision Making"
   ]
  },
  {
   "cell_type": "code",
   "execution_count": 8,
   "metadata": {},
   "outputs": [],
   "source": [
    "import numpy as np\n",
    "import pandas as pd"
   ]
  },
  {
   "cell_type": "code",
   "execution_count": 94,
   "metadata": {},
   "outputs": [],
   "source": [
    "df = pd.read_csv('automobiles.csv')"
   ]
  },
  {
   "cell_type": "code",
   "execution_count": 95,
   "metadata": {},
   "outputs": [],
   "source": [
    "df['price'].replace('?',np.nan,inplace=True)\n",
    "df['price'] = df['price'].astype('float')\n",
    "df['price'].replace(np.nan,df['price'].mean(),inplace=True)"
   ]
  },
  {
   "cell_type": "code",
   "execution_count": 96,
   "metadata": {},
   "outputs": [],
   "source": [
    "df['horsepower'].replace('?',np.nan,inplace=True)\n",
    "df['horsepower'] = df['horsepower'].astype('float')\n",
    "df['horsepower'].replace(np.nan,df['horsepower'].mean(),inplace=True)"
   ]
  },
  {
   "cell_type": "code",
   "execution_count": 97,
   "metadata": {},
   "outputs": [],
   "source": [
    "df['curb-weight'].replace('?',np.nan,inplace=True)\n",
    "df['curb-weight'] = df['curb-weight'].astype('float')\n",
    "df['curb-weight'].replace(np.nan,df['curb-weight'].mean(),inplace=True)"
   ]
  },
  {
   "cell_type": "code",
   "execution_count": 98,
   "metadata": {},
   "outputs": [],
   "source": [
    "df['engine-size'].replace('?',np.nan,inplace=True)\n",
    "df['engine-size'] = df['engine-size'].astype('float')\n",
    "df['engine-size'].replace(np.nan,df['engine-size'].mean(),inplace=True)"
   ]
  },
  {
   "cell_type": "code",
   "execution_count": 99,
   "metadata": {},
   "outputs": [],
   "source": [
    "df['highway-mpg'].replace('?',np.nan,inplace=True)\n",
    "df['highway-mpg'] = df['highway-mpg'].astype('float')\n",
    "df['highway-mpg'].replace(np.nan,df['highway-mpg'].mean(),inplace=True)"
   ]
  },
  {
   "cell_type": "markdown",
   "metadata": {},
   "source": [
    "### Simle and Multiple Linear Regression\n",
    "* Simple Linear Regression -> Doğrusal Regresyon, kestirim yapmak için bir bağımsız değişken kullanıldığını ifade etmektedir. \n",
    "* Multiple Linear Regression -> Çoklu Doğrusal Regresyon ise kestirim yapmak için birden çok bağımsız değişken kullanıldığına ifade etmektedir. "
   ]
  },
  {
   "cell_type": "code",
   "execution_count": 190,
   "metadata": {},
   "outputs": [],
   "source": [
    "from sklearn.linear_model import LinearRegression"
   ]
  },
  {
   "cell_type": "code",
   "execution_count": 191,
   "metadata": {},
   "outputs": [],
   "source": [
    "lm = LinearRegression() # bir obje oluşturuyoruz"
   ]
  },
  {
   "cell_type": "code",
   "execution_count": 192,
   "metadata": {},
   "outputs": [],
   "source": [
    "X = df[['highway-mpg']] # Bağımsız (Kestirimci) değişken \n",
    "Y = df['price'] # Bağımlı (Hedef) değişken "
   ]
  },
  {
   "cell_type": "markdown",
   "metadata": {},
   "source": [
    "* y = b0 + b1 * x\n",
    "* y = Bağımlı (hedef) değişken\n",
    "* b0 = intercept (sabit)\n",
    "* b1 = slope (eğim)\n",
    "* x = Bağımsız (kestirimci) değişken"
   ]
  },
  {
   "cell_type": "code",
   "execution_count": 193,
   "metadata": {},
   "outputs": [
    {
     "data": {
      "text/plain": [
       "LinearRegression(copy_X=True, fit_intercept=True, n_jobs=None, normalize=False)"
      ]
     },
     "execution_count": 193,
     "metadata": {},
     "output_type": "execute_result"
    }
   ],
   "source": [
    "lm.fit(X,Y) # b0 ve b1 parametrelerini bulmak için fit metodu kullanılır"
   ]
  },
  {
   "cell_type": "code",
   "execution_count": 194,
   "metadata": {},
   "outputs": [],
   "source": [
    "Yhat = lm.predict(X) # kestirim sonucunu predict metodu ile elde ederiz. Çıktısı bir dizidir."
   ]
  },
  {
   "cell_type": "code",
   "execution_count": 195,
   "metadata": {},
   "outputs": [
    {
     "data": {
      "text/plain": [
       "37470.66014138312"
      ]
     },
     "execution_count": 195,
     "metadata": {},
     "output_type": "execute_result"
    }
   ],
   "source": [
    "lm.intercept_ # b0 sabiti (intercept) oluşturduğumuz lm nesnesinin (LinearRegression) bir özelliğidir "
   ]
  },
  {
   "cell_type": "code",
   "execution_count": 196,
   "metadata": {},
   "outputs": [
    {
     "data": {
      "text/plain": [
       "array([-789.02661986])"
      ]
     },
     "execution_count": 196,
     "metadata": {},
     "output_type": "execute_result"
    }
   ],
   "source": [
    "lm.coef_ # b1 eğim (slope) değeri de lm nesnesinin bir özelliğidir"
   ]
  },
  {
   "cell_type": "markdown",
   "metadata": {},
   "source": [
    "* Fiyat (price) ile şehir-dışı yakıt tüketimi (highway-mpg) arasındaki ilişkiye ait denklem\n",
    "    * <b> Price =  37470.66014138312 (lm.intercept_) - 789.02661986 (lm.coef_) * highway-mpg</b>\n",
    "    * ŷ = b0 + b1 * x (kestirim sonucu elde edildiğini belirtmek için y şapkalı yazılır)"
   ]
  },
  {
   "cell_type": "markdown",
   "metadata": {},
   "source": [
    "### Multiple Linear Regression\n",
    "* Bir hedef değişken (y) ile 2 veya daha fazla kestirimci (x) değişkeni arasındaki ilişkiyi açıklamak için kullanılır\n",
    "* ŷ = b0 + b1 * x1 + b2 * x2 + b3* x3 + .... b8 * x8\n",
    "* Sadece 2 kestirici değişken varsa hedef değerleri görselleştirebiliriz"
   ]
  },
  {
   "cell_type": "code",
   "execution_count": 197,
   "metadata": {},
   "outputs": [],
   "source": [
    "from sklearn.linear_model import LinearRegression"
   ]
  },
  {
   "cell_type": "code",
   "execution_count": 198,
   "metadata": {},
   "outputs": [],
   "source": [
    "lm = LinearRegression()"
   ]
  },
  {
   "cell_type": "code",
   "execution_count": 199,
   "metadata": {},
   "outputs": [],
   "source": [
    "Z = df[['horsepower','curb-weight','engine-size','highway-mpg']] # kestirici değişkenlerimizi seçiyoruz"
   ]
  },
  {
   "cell_type": "code",
   "execution_count": 200,
   "metadata": {},
   "outputs": [],
   "source": [
    "Y = df['price']"
   ]
  },
  {
   "cell_type": "code",
   "execution_count": 201,
   "metadata": {},
   "outputs": [
    {
     "data": {
      "text/plain": [
       "LinearRegression(copy_X=True, fit_intercept=True, n_jobs=None, normalize=False)"
      ]
     },
     "execution_count": 201,
     "metadata": {},
     "output_type": "execute_result"
    }
   ],
   "source": [
    "lm.fit(Z,df['price'])"
   ]
  },
  {
   "cell_type": "code",
   "execution_count": 202,
   "metadata": {},
   "outputs": [],
   "source": [
    "Yhat = lm.predict(Z)"
   ]
  },
  {
   "cell_type": "code",
   "execution_count": 203,
   "metadata": {},
   "outputs": [
    {
     "data": {
      "text/plain": [
       "-9239.379970934511"
      ]
     },
     "execution_count": 203,
     "metadata": {},
     "output_type": "execute_result"
    }
   ],
   "source": [
    "lm.intercept_"
   ]
  },
  {
   "cell_type": "code",
   "execution_count": 204,
   "metadata": {},
   "outputs": [
    {
     "data": {
      "text/plain": [
       "array([ 18.12178086,   3.80596513, 101.121117  , -65.10968116])"
      ]
     },
     "execution_count": 204,
     "metadata": {},
     "output_type": "execute_result"
    }
   ],
   "source": [
    "lm.coef_"
   ]
  },
  {
   "cell_type": "markdown",
   "metadata": {},
   "source": [
    "* <b> Price =  -9239.379970934511 + (18.12178086 * horsepower) + (3.80596513 * curb-weight) + (101.121117 * engine-size) + (-65.10968116 * highway-mpg)</b>\n",
    "* ŷ = b0 + (b1 * x1) + (b2 * x2) + (b3 * x3) + (b4 * x4) "
   ]
  },
  {
   "cell_type": "markdown",
   "metadata": {},
   "source": [
    "### Model Evaulation Using Visualization"
   ]
  },
  {
   "cell_type": "code",
   "execution_count": 207,
   "metadata": {},
   "outputs": [],
   "source": [
    "import seaborn as sns\n",
    "import matplotlib.pyplot as plt"
   ]
  },
  {
   "cell_type": "code",
   "execution_count": 208,
   "metadata": {},
   "outputs": [
    {
     "data": {
      "text/plain": [
       "(0, 48134.519482330856)"
      ]
     },
     "execution_count": 208,
     "metadata": {},
     "output_type": "execute_result"
    },
    {
     "data": {
      "image/png": "[encoded data removed]",
      "text/plain": [
       "<Figure size 432x288 with 1 Axes>"
      ]
     },
     "metadata": {
      "needs_background": "light"
     },
     "output_type": "display_data"
    }
   ],
   "source": [
    "sns.regplot(data=df,x='highway-mpg',y='price')\n",
    "plt.ylim(0,)"
   ]
  },
  {
   "cell_type": "code",
   "execution_count": 210,
   "metadata": {},
   "outputs": [
    {
     "data": {
      "text/plain": [
       "<matplotlib.axes._subplots.AxesSubplot at 0x7f87e4fd4510>"
      ]
     },
     "execution_count": 210,
     "metadata": {},
     "output_type": "execute_result"
    },
    {
     "data": {
      "image/png": "[encoded data removed]",
      "text/plain": [
       "<Figure size 432x288 with 1 Axes>"
      ]
     },
     "metadata": {
      "needs_background": "light"
     },
     "output_type": "display_data"
    }
   ],
   "source": [
    "sns.residplot(df['highway-mpg'],df['price']) # ilk parametre bağımsız değişken (kestirici), ikinci parametre ise bağımlı (hedef) değişkendir"
   ]
  },
  {
   "cell_type": "code",
   "execution_count": 211,
   "metadata": {},
   "outputs": [
    {
     "data": {
      "text/plain": [
       "<matplotlib.axes._subplots.AxesSubplot at 0x7f87e47126d0>"
      ]
     },
     "execution_count": 211,
     "metadata": {},
     "output_type": "execute_result"
    },
    {
     "data": {
      "image/png": "[encoded data removed]",
      "text/plain": [
       "<Figure size 432x288 with 1 Axes>"
      ]
     },
     "metadata": {
      "needs_background": "light"
     },
     "output_type": "display_data"
    }
   ],
   "source": [
    "ax1 = sns.distplot(df['price'], hist=False, color='r', label = 'Actual Value')\n",
    "sns.distplot(Yhat, hist=False, color = 'b', label = 'Fitted Values', ax=ax1)"
   ]
  },
  {
   "cell_type": "markdown",
   "metadata": {},
   "source": [
    "### Polynomial Regression and Pipelines\n",
    "* Polinom regresyonu, genel doğrusal regresyonun özel bir versiyonudur.\n",
    "* Bu metot eğri-doğrusal ilişkileri tanımlamakta oldukça faydalıdır.\n",
    "* Modeldeki kestirici değişkenlerin karesini veya daha bir yüksek dereceden üssünü alarak elde ettiğiniz veri dönüşümlerine <b> eğri-doğrusal ilişki </b> denir."
   ]
  },
  {
   "cell_type": "code",
   "execution_count": null,
   "metadata": {},
   "outputs": [],
   "source": []
  }
 ],
 "metadata": {
  "kernelspec": {
   "display_name": "Python 3",
   "language": "python",
   "name": "python3"
  },
  "language_info": {
   "codemirror_mode": {
    "name": "ipython",
    "version": 3
   },
   "file_extension": ".py",
   "mimetype": "text/x-python",
   "name": "python",
   "nbconvert_exporter": "python",
   "pygments_lexer": "ipython3",
   "version": "3.7.6"
  }
 },
 "nbformat": 4,
 "nbformat_minor": 4
}
