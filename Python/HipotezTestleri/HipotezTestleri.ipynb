{
 "cells": [
  {
   "cell_type": "markdown",
   "metadata": {},
   "source": [
    "# İstatistiksel Teste Giriş\n",
    "\n",
    "Testler hipotezleri çürütmek veya kanıtlamak için tasarlanmamıştır. Amaç; bir fikrin tatmin edici olmayan küçük bir olasılığa yol açması nedeniyle savunulamaz olduğunu göstermektir.\n",
    "\n",
    "Çürütmeye çalışılan hipotez her zaman değişimin olmadığı hipotez olarak seçilmiştir; mesela iki popülasyon arasında fark yoktur gibi. Bu nedenle genellikle temel(sıfır) hipotez olarak adlandırılıp `H0` notasyonu ile ifade edilirler."
   ]
  },
  {
   "cell_type": "markdown",
   "metadata": {},
   "source": [
    "## Hipotez Testi Süreci\n",
    "\n",
    "Neave (1976) tarafından sunulan 5 adımlı hipotez testi süreci:\n",
    "\n",
    "1. Pratik problemi hipotez şeklinde ifade edelim. Pratik açıdan daha önemli olduğundan önce alternatif hipoteze yani `H1` notasyonu ile gösterilen hipoteze odaklanılır. `H1` araştırma iddiasının bulunduğu hipotez olduğundan araştırılan durumu ifade etmelidir. Test sonucunda temel hipotezin reddedilmesiyle mevcut durum çürütüldüğünden; `H1` eylem hipotezi olarak adlandırılabilir.\n",
    "\n",
    "\n",
    "2. Veriden hareketle Test istatistiğini (T) hesaplayalım. İyi test istatistiklerinin sahip olması gereken iki özellik vardır.\n",
    "    * `H1`'in doğru olduğu durum ile `H0`'ın doğru olduğu durumlarda farklı davranma eğiliminde olmalıdır.\n",
    "    * Olasılık dağılımı `H0` doğru olduğu varsayımı altında hesaplanmalıdır. Olasılık dağılımı tablosunun mevcut olması arzu edilmektedir.\n",
    "\n",
    "\n",
    "3. Kritik bölgeyi seçelim. Bu adımda `H0` yerine `H1`'in doğru olduğunu güçlü bir şekilde gösterecek T değerinin türüne karar vermeliyiz. Kritik bölgeler 3 tür olabilir:\n",
    "    * Sağ taraf, test istatistiğinin değeri (sağ) kritik değere eşit ya da büyükse `H0` reddedilir.\n",
    "    * Sol taraf, test istatistiğinin değeri (sol) kritik değerden küçük veya eşit ise `H0` reddedilir.\n",
    "    * Çift taraflı, eğer istatistiğin değeri sağ kritik değere eşit veya ondan büyükse ya da sol kritik değere eşit veya ondan küçükse `H0` reddedilir.\n",
    "    * **Bir diğer ifadeyle T değeri kritik bölgede yer alıyorsa `H0` reddedilir. Eğer T değeri, kritik bölgenin dışındaysa `H0` reddedilmez.**\n",
    "    \n",
    "\n",
    "4. Kritik bölgenin büyüklüğüne karar verin. Hipotez testinde hatalı karar verme riski bulunmakta olup; bunun belirlenmesi gerekmektedir. `α` notasyonu testin anlamlılık düzeyini belirler. Gerçekte doğru olan temel hipotezin reddedilmesi durumunda alınan risk olarak ifade edilebilir. `Tip1 hata` olarak adlandırılabilir. Bu hatanın gerçekleşme olasılığı genellikle `0.01` ile `0.10` arasında seçilmektedir. Doğru olan `H0`'ın reddedilme olasılığı belirlenmiş olur. Aynı zamanda temel hipotez gerçekte yanlış olabilir ve yanlış olan hipotez reddedilemezse yine hatalı karar verilmiş olur. Bu ise `Tip2 hata` olarak adlandırlır. Bu hatanın olasılığı ise `β` ile gösterilir. Dolayısıyla bir hipotez testi sürecinde dört farklı sonuca ulaşmak mümkündür. Bu durumlar:\n",
    " \n",
    "|               |   H0 Doğru  |  H0 Yanlış  |\n",
    "|:-------------:|:-----------:|:-----------:|\n",
    "| H0'ı Reddetme | Doğru Karar |  Tip2 Hata  |\n",
    "|  H0'ı Reddet  |  Tip1 Hata  | Doğru Karar |\n",
    "\n",
    "\n",
    "5. Deney yapılmadan önce testin güç fonksiyonuna bakılır ve yeterince güçlü değilse model değiştirilebilir. Güç fonksiyonu, gerçek artışın bir fonksiyonu olarak çizilen sonuçtaki gözlenen artışın altında gerçek bir artış tespit etme olasılığıdır ve bu nedenle, artışın tespit edilme olasılığının yüksek olması için deneysel model seçilmelidir. Ayrıca muhtemel bir kaç tasarım arasından seçim gücü en yüksek olan testten yana olmalıdır. Testin gücü `1 - β` olarak bulunur. "
   ]
  },
  {
   "cell_type": "markdown",
   "metadata": {},
   "source": [
    "## Dayanıklılık\n",
    "\n",
    "Dayanıklı terimi 1953'te, dayandığı modelin altında yatan varsayımlardan ayrılmaya karşı duyarsız olan istatisiksel bir prosedürü belirtmek için kullanılmıştır. Bu tür prosedürler ortak kullanımdadır ve 'varyans analizi' alanında dayanıklılık çalışmaları yapılmıştır. Varyans analizi ile ilişkili varsayımlar, ölçümlerdeki hataların:\n",
    "* Normal Dağılması\n",
    "* İstatistiksel olarak bağımsız olması\n",
    "* Eşit varyanslara sahip olmasıdır\n",
    "\n",
    "\n",
    "**Bu notebookda ele alınan parametrik testlerin çoğu, dahil edilen kitlelerin normal dağılımları olduğu varsayımı ile yapılmıştır.** Bu nedenle bir test sadece normallik varsayımı ihlal edilmediğinde yapılmalıdır. Normallik varsayımı ihlal edildiğinde bu testlerin uygulanmasının etkisini kontrol etmek de testin gereklilikleri arasında yer almaktadır. \n",
    "\n",
    "Parametrik testlerde, test istatistiklerinin sıfır hipotezi altında olasılık dağılımı sadece örneklemin frekans dağılımına ilişkin ek bir varsayımla hesaplanabilir. Bu varsayım doğru değilse, test geçerliliğini kaybeder. Fakat bazı durumlarda varsayımın sapması, istatistiksel test üzerinde sadece küçük bir etkiye sahiptir ve bu da dayanıklı prosedürü gösterir. Parametrik bir test aynı zamanda, ilgili dağılımdan bağımsız testten daha fazla ayrım sunar.\n",
    "\n",
    "Parametrik olmayan test için, frekans dağılımına ilişkin bir varsayım yapılmamalıdır ve dolayısıyla herhangi bir gözlemin önceden belirlenmemiş bir değerden daha büyük olduğu olasılığı için tahminler kullanılabilir."
   ]
  },
  {
   "cell_type": "code",
   "execution_count": null,
   "metadata": {},
   "outputs": [],
   "source": []
  }
 ],
 "metadata": {
  "kernelspec": {
   "display_name": "Python 3",
   "language": "python",
   "name": "python3"
  },
  "language_info": {
   "codemirror_mode": {
    "name": "ipython",
    "version": 3
   },
   "file_extension": ".py",
   "mimetype": "text/x-python",
   "name": "python",
   "nbconvert_exporter": "python",
   "pygments_lexer": "ipython3",
   "version": "3.8.3"
  },
  "toc": {
   "base_numbering": 1,
   "nav_menu": {},
   "number_sections": true,
   "sideBar": true,
   "skip_h1_title": false,
   "title_cell": "Table of Contents",
   "title_sidebar": "Contents",
   "toc_cell": false,
   "toc_position": {},
   "toc_section_display": true,
   "toc_window_display": false
  }
 },
 "nbformat": 4,
 "nbformat_minor": 4
}
