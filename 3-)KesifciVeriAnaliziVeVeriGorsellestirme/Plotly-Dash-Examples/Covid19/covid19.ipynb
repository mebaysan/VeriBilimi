{
 "cells": [
  {
   "cell_type": "code",
   "execution_count": 221,
   "metadata": {},
   "outputs": [],
   "source": [
    "import pandas as pd\n",
    "import seaborn as sns\n",
    "import matplotlib.pyplot as plt\n",
    "import requests"
   ]
  },
  {
   "cell_type": "code",
   "execution_count": 222,
   "metadata": {},
   "outputs": [],
   "source": [
    "raw = requests.get(\"https://covid19.saglik.gov.tr/covid19api?getir=liste\") # api'den veriyi alıyoruz\n",
    "raw_json = raw.json() # dönen cevap içerisindeki json'u alıyoruz\n",
    "df = pd.DataFrame(raw_json) # json'dan bir DataFrame oluşturuyoruz"
   ]
  },
  {
   "cell_type": "code",
   "execution_count": 223,
   "metadata": {},
   "outputs": [
    {
     "data": {
      "text/html": [
       "<div>\n",
       "<style scoped>\n",
       "    .dataframe tbody tr th:only-of-type {\n",
       "        vertical-align: middle;\n",
       "    }\n",
       "\n",
       "    .dataframe tbody tr th {\n",
       "        vertical-align: top;\n",
       "    }\n",
       "\n",
       "    .dataframe thead th {\n",
       "        text-align: right;\n",
       "    }\n",
       "</style>\n",
       "<table border=\"1\" class=\"dataframe\">\n",
       "  <thead>\n",
       "    <tr style=\"text-align: right;\">\n",
       "      <th></th>\n",
       "      <th>tarih</th>\n",
       "      <th>gunluk_test</th>\n",
       "      <th>gunluk_vaka</th>\n",
       "      <th>gunluk_vefat</th>\n",
       "      <th>gunluk_iyilesen</th>\n",
       "      <th>toplam_test</th>\n",
       "      <th>toplam_vaka</th>\n",
       "      <th>toplam_vefat</th>\n",
       "      <th>toplam_iyilesen</th>\n",
       "      <th>toplam_yogun_bakim</th>\n",
       "      <th>toplam_entube</th>\n",
       "      <th>hastalarda_zaturre_oran</th>\n",
       "      <th>agir_hasta_sayisi</th>\n",
       "      <th>yatak_doluluk_orani</th>\n",
       "      <th>eriskin_yogun_bakim_doluluk_orani</th>\n",
       "      <th>ventilator_doluluk_orani</th>\n",
       "      <th>ortalama_filyasyon_suresi</th>\n",
       "      <th>ortalama_temasli_tespit_suresi</th>\n",
       "      <th>filyasyon_orani</th>\n",
       "    </tr>\n",
       "  </thead>\n",
       "  <tbody>\n",
       "    <tr>\n",
       "      <th>0</th>\n",
       "      <td>01.10.2020</td>\n",
       "      <td>113.546</td>\n",
       "      <td>1.407</td>\n",
       "      <td>67</td>\n",
       "      <td>1.402</td>\n",
       "      <td>10.493.807</td>\n",
       "      <td>320.070</td>\n",
       "      <td>8.262</td>\n",
       "      <td>281.151</td>\n",
       "      <td></td>\n",
       "      <td></td>\n",
       "      <td>6.4</td>\n",
       "      <td>1.507</td>\n",
       "      <td>49.3</td>\n",
       "      <td>67.1</td>\n",
       "      <td>32.3</td>\n",
       "      <td></td>\n",
       "      <td>8</td>\n",
       "      <td>99.1</td>\n",
       "    </tr>\n",
       "    <tr>\n",
       "      <th>1</th>\n",
       "      <td>30.09.2020</td>\n",
       "      <td>112.098</td>\n",
       "      <td>1.391</td>\n",
       "      <td>65</td>\n",
       "      <td>1.245</td>\n",
       "      <td>10.380.261</td>\n",
       "      <td>318.663</td>\n",
       "      <td>8.195</td>\n",
       "      <td>279.749</td>\n",
       "      <td></td>\n",
       "      <td></td>\n",
       "      <td>6.4</td>\n",
       "      <td>1.516</td>\n",
       "      <td></td>\n",
       "      <td></td>\n",
       "      <td></td>\n",
       "      <td></td>\n",
       "      <td></td>\n",
       "      <td></td>\n",
       "    </tr>\n",
       "    <tr>\n",
       "      <th>2</th>\n",
       "      <td>29.09.2020</td>\n",
       "      <td>114.940</td>\n",
       "      <td>1.427</td>\n",
       "      <td>68</td>\n",
       "      <td>1.452</td>\n",
       "      <td>10.268.163</td>\n",
       "      <td>317.272</td>\n",
       "      <td>8.130</td>\n",
       "      <td>278.504</td>\n",
       "      <td></td>\n",
       "      <td></td>\n",
       "      <td>6.5</td>\n",
       "      <td>1.583</td>\n",
       "      <td></td>\n",
       "      <td></td>\n",
       "      <td></td>\n",
       "      <td></td>\n",
       "      <td></td>\n",
       "      <td></td>\n",
       "    </tr>\n",
       "    <tr>\n",
       "      <th>3</th>\n",
       "      <td>28.09.2020</td>\n",
       "      <td>115.523</td>\n",
       "      <td>1.412</td>\n",
       "      <td>65</td>\n",
       "      <td>1.422</td>\n",
       "      <td>10.153.223</td>\n",
       "      <td>315.845</td>\n",
       "      <td>8.062</td>\n",
       "      <td>277.052</td>\n",
       "      <td></td>\n",
       "      <td></td>\n",
       "      <td>6.5</td>\n",
       "      <td>1.596</td>\n",
       "      <td></td>\n",
       "      <td></td>\n",
       "      <td></td>\n",
       "      <td></td>\n",
       "      <td></td>\n",
       "      <td></td>\n",
       "    </tr>\n",
       "    <tr>\n",
       "      <th>4</th>\n",
       "      <td>27.09.2020</td>\n",
       "      <td>101.119</td>\n",
       "      <td>1.467</td>\n",
       "      <td>68</td>\n",
       "      <td>1.116</td>\n",
       "      <td>10.037.700</td>\n",
       "      <td>314.433</td>\n",
       "      <td>7.997</td>\n",
       "      <td>275.630</td>\n",
       "      <td></td>\n",
       "      <td></td>\n",
       "      <td>6.5</td>\n",
       "      <td>1.583</td>\n",
       "      <td></td>\n",
       "      <td></td>\n",
       "      <td></td>\n",
       "      <td></td>\n",
       "      <td></td>\n",
       "      <td></td>\n",
       "    </tr>\n",
       "  </tbody>\n",
       "</table>\n",
       "</div>"
      ],
      "text/plain": [
       "        tarih gunluk_test gunluk_vaka gunluk_vefat gunluk_iyilesen  \\\n",
       "0  01.10.2020     113.546       1.407           67           1.402   \n",
       "1  30.09.2020     112.098       1.391           65           1.245   \n",
       "2  29.09.2020     114.940       1.427           68           1.452   \n",
       "3  28.09.2020     115.523       1.412           65           1.422   \n",
       "4  27.09.2020     101.119       1.467           68           1.116   \n",
       "\n",
       "  toplam_test toplam_vaka toplam_vefat toplam_iyilesen toplam_yogun_bakim  \\\n",
       "0  10.493.807     320.070        8.262         281.151                      \n",
       "1  10.380.261     318.663        8.195         279.749                      \n",
       "2  10.268.163     317.272        8.130         278.504                      \n",
       "3  10.153.223     315.845        8.062         277.052                      \n",
       "4  10.037.700     314.433        7.997         275.630                      \n",
       "\n",
       "  toplam_entube hastalarda_zaturre_oran agir_hasta_sayisi yatak_doluluk_orani  \\\n",
       "0                                   6.4             1.507                49.3   \n",
       "1                                   6.4             1.516                       \n",
       "2                                   6.5             1.583                       \n",
       "3                                   6.5             1.596                       \n",
       "4                                   6.5             1.583                       \n",
       "\n",
       "  eriskin_yogun_bakim_doluluk_orani ventilator_doluluk_orani  \\\n",
       "0                              67.1                     32.3   \n",
       "1                                                              \n",
       "2                                                              \n",
       "3                                                              \n",
       "4                                                              \n",
       "\n",
       "  ortalama_filyasyon_suresi ortalama_temasli_tespit_suresi filyasyon_orani  \n",
       "0                                                        8            99.1  \n",
       "1                                                                           \n",
       "2                                                                           \n",
       "3                                                                           \n",
       "4                                                                           "
      ]
     },
     "execution_count": 223,
     "metadata": {},
     "output_type": "execute_result"
    }
   ],
   "source": [
    "df.head() # veriye bir göz gezdirelim"
   ]
  },
  {
   "cell_type": "code",
   "execution_count": 224,
   "metadata": {},
   "outputs": [
    {
     "name": "stdout",
     "output_type": "stream",
     "text": [
      "<class 'pandas.core.frame.DataFrame'>\n",
      "RangeIndex: 204 entries, 0 to 203\n",
      "Data columns (total 19 columns):\n",
      " #   Column                             Non-Null Count  Dtype \n",
      "---  ------                             --------------  ----- \n",
      " 0   tarih                              204 non-null    object\n",
      " 1   gunluk_test                        204 non-null    object\n",
      " 2   gunluk_vaka                        204 non-null    object\n",
      " 3   gunluk_vefat                       204 non-null    object\n",
      " 4   gunluk_iyilesen                    204 non-null    object\n",
      " 5   toplam_test                        204 non-null    object\n",
      " 6   toplam_vaka                        204 non-null    object\n",
      " 7   toplam_vefat                       204 non-null    object\n",
      " 8   toplam_iyilesen                    204 non-null    object\n",
      " 9   toplam_yogun_bakim                 204 non-null    object\n",
      " 10  toplam_entube                      204 non-null    object\n",
      " 11  hastalarda_zaturre_oran            204 non-null    object\n",
      " 12  agir_hasta_sayisi                  204 non-null    object\n",
      " 13  yatak_doluluk_orani                204 non-null    object\n",
      " 14  eriskin_yogun_bakim_doluluk_orani  204 non-null    object\n",
      " 15  ventilator_doluluk_orani           204 non-null    object\n",
      " 16  ortalama_filyasyon_suresi          204 non-null    object\n",
      " 17  ortalama_temasli_tespit_suresi     204 non-null    object\n",
      " 18  filyasyon_orani                    204 non-null    object\n",
      "dtypes: object(19)\n",
      "memory usage: 30.4+ KB\n"
     ]
    }
   ],
   "source": [
    "df.info() # veri seti hakkında bilgi sahibi olalım"
   ]
  },
  {
   "cell_type": "code",
   "execution_count": 225,
   "metadata": {},
   "outputs": [],
   "source": [
    "cols = df.columns.tolist() # veri setine ait kolonları bir listeye atıyoruz\n",
    "cols.insert(1, cols.pop(cols.index('hastalarda_zaturre_oran'))) # bunu 2 satır aşağısı için yapıyoruz. Bu kolonu 2. sıraya çekeceğiz bu sayede aşağıda tip dönüşümleri yaparken takılmayacağız\n",
    "df = df.reindex(columns=cols) # veri setini yeniden indexliyoruz (kolon sırasını değiştiriyoruz)"
   ]
  },
  {
   "cell_type": "code",
   "execution_count": 226,
   "metadata": {},
   "outputs": [],
   "source": [
    "df['toplam_vaka'] = df['toplam_vaka'].apply(lambda x: str(f'{x}')).astype('string')\n",
    "# toplam_vaka kolonunun veri tipini string olarak güncelliyoruz"
   ]
  },
  {
   "cell_type": "code",
   "execution_count": 227,
   "metadata": {},
   "outputs": [],
   "source": [
    "for col_name in df.loc[:,'gunluk_test':].columns: # tüm satırları al VE gunluk_test kolonundan (dahil) son kolona kadar (dahil)\n",
    "    df[f'{col_name}'] = df[f'{col_name}'].str.replace('.','').astype('string') # kolondaki değerleri formatla ve veri tipini string'e çevir\n",
    "    df[f'{col_name}'] = pd.to_numeric(df[f'{col_name}']) # sayısal veri tipine dönüştürüyoruz "
   ]
  },
  {
   "cell_type": "code",
   "execution_count": 228,
   "metadata": {},
   "outputs": [
    {
     "name": "stdout",
     "output_type": "stream",
     "text": [
      "<class 'pandas.core.frame.DataFrame'>\n",
      "RangeIndex: 204 entries, 0 to 203\n",
      "Data columns (total 19 columns):\n",
      " #   Column                             Non-Null Count  Dtype  \n",
      "---  ------                             --------------  -----  \n",
      " 0   tarih                              204 non-null    object \n",
      " 1   hastalarda_zaturre_oran            204 non-null    object \n",
      " 2   gunluk_test                        188 non-null    float64\n",
      " 3   gunluk_vaka                        188 non-null    float64\n",
      " 4   gunluk_vefat                       188 non-null    float64\n",
      " 5   gunluk_iyilesen                    180 non-null    float64\n",
      " 6   toplam_test                        188 non-null    float64\n",
      " 7   toplam_vaka                        204 non-null    int64  \n",
      " 8   toplam_vefat                       198 non-null    float64\n",
      " 9   toplam_iyilesen                    188 non-null    float64\n",
      " 10  toplam_yogun_bakim                 123 non-null    float64\n",
      " 11  toplam_entube                      123 non-null    float64\n",
      " 12  agir_hasta_sayisi                  65 non-null     float64\n",
      " 13  yatak_doluluk_orani                1 non-null      float64\n",
      " 14  eriskin_yogun_bakim_doluluk_orani  1 non-null      float64\n",
      " 15  ventilator_doluluk_orani           1 non-null      float64\n",
      " 16  ortalama_filyasyon_suresi          0 non-null      float64\n",
      " 17  ortalama_temasli_tespit_suresi     1 non-null      float64\n",
      " 18  filyasyon_orani                    1 non-null      float64\n",
      "dtypes: float64(16), int64(1), object(2)\n",
      "memory usage: 30.4+ KB\n"
     ]
    }
   ],
   "source": [
    "df.info()"
   ]
  },
  {
   "cell_type": "code",
   "execution_count": 229,
   "metadata": {},
   "outputs": [
    {
     "data": {
      "text/plain": [
       "tarih                                False\n",
       "hastalarda_zaturre_oran              False\n",
       "gunluk_test                           True\n",
       "gunluk_vaka                           True\n",
       "gunluk_vefat                          True\n",
       "gunluk_iyilesen                       True\n",
       "toplam_test                           True\n",
       "toplam_vaka                          False\n",
       "toplam_vefat                          True\n",
       "toplam_iyilesen                       True\n",
       "toplam_yogun_bakim                    True\n",
       "toplam_entube                         True\n",
       "agir_hasta_sayisi                     True\n",
       "yatak_doluluk_orani                   True\n",
       "eriskin_yogun_bakim_doluluk_orani     True\n",
       "ventilator_doluluk_orani              True\n",
       "ortalama_filyasyon_suresi             True\n",
       "ortalama_temasli_tespit_suresi        True\n",
       "filyasyon_orani                       True\n",
       "dtype: bool"
      ]
     },
     "execution_count": 229,
     "metadata": {},
     "output_type": "execute_result"
    }
   ],
   "source": [
    "df.isna().any() # evet veri tipini sayısal'a çevirince aralarda NaN değerler oldu"
   ]
  },
  {
   "cell_type": "code",
   "execution_count": 230,
   "metadata": {},
   "outputs": [],
   "source": [
    "df.fillna(0,inplace=True) # NaN değerleri 0 olarak atamamızda bir sakınca yok, sonuçta bunlar o gün hiç hasta olmadığını belirtiyor. 0 atarsak mantıksal bir hata yapmış olmayız"
   ]
  },
  {
   "cell_type": "code",
   "execution_count": 231,
   "metadata": {},
   "outputs": [],
   "source": [
    "for col_name in df.loc[:,'gunluk_test':].columns:  # tekrar int'e çevirmek istediğimiz tüm kolonları geziyoruz\n",
    "    df[f'{col_name}'] = df[f'{col_name}'].astype('int') # veri tiplerini int'e çeviriyoruz ve mevcut kolon ile değiştiriyoruz"
   ]
  },
  {
   "cell_type": "code",
   "execution_count": 232,
   "metadata": {},
   "outputs": [
    {
     "name": "stdout",
     "output_type": "stream",
     "text": [
      "<class 'pandas.core.frame.DataFrame'>\n",
      "RangeIndex: 204 entries, 0 to 203\n",
      "Data columns (total 19 columns):\n",
      " #   Column                             Non-Null Count  Dtype \n",
      "---  ------                             --------------  ----- \n",
      " 0   tarih                              204 non-null    object\n",
      " 1   hastalarda_zaturre_oran            204 non-null    object\n",
      " 2   gunluk_test                        204 non-null    int64 \n",
      " 3   gunluk_vaka                        204 non-null    int64 \n",
      " 4   gunluk_vefat                       204 non-null    int64 \n",
      " 5   gunluk_iyilesen                    204 non-null    int64 \n",
      " 6   toplam_test                        204 non-null    int64 \n",
      " 7   toplam_vaka                        204 non-null    int64 \n",
      " 8   toplam_vefat                       204 non-null    int64 \n",
      " 9   toplam_iyilesen                    204 non-null    int64 \n",
      " 10  toplam_yogun_bakim                 204 non-null    int64 \n",
      " 11  toplam_entube                      204 non-null    int64 \n",
      " 12  agir_hasta_sayisi                  204 non-null    int64 \n",
      " 13  yatak_doluluk_orani                204 non-null    int64 \n",
      " 14  eriskin_yogun_bakim_doluluk_orani  204 non-null    int64 \n",
      " 15  ventilator_doluluk_orani           204 non-null    int64 \n",
      " 16  ortalama_filyasyon_suresi          204 non-null    int64 \n",
      " 17  ortalama_temasli_tespit_suresi     204 non-null    int64 \n",
      " 18  filyasyon_orani                    204 non-null    int64 \n",
      "dtypes: int64(17), object(2)\n",
      "memory usage: 30.4+ KB\n"
     ]
    }
   ],
   "source": [
    "df.info()"
   ]
  },
  {
   "cell_type": "code",
   "execution_count": 233,
   "metadata": {},
   "outputs": [],
   "source": [
    "df['hastalarda_zaturre_oran'] = df['hastalarda_zaturre_oran'].str.replace(',','.') # bu kolonu float yapmamız gerekmekte fakat ondalık kısımda '.' yerine  ',' olduğu için hata alacağız. Bu sebeple önce ','leri '.' ile replace ediyoruz"
   ]
  },
  {
   "cell_type": "code",
   "execution_count": 234,
   "metadata": {},
   "outputs": [],
   "source": [
    "df['hastalarda_zaturre_oran'] = pd.to_numeric(df['hastalarda_zaturre_oran']) # ardından sütunu sayısal'a çeviriyoruz"
   ]
  },
  {
   "cell_type": "code",
   "execution_count": 235,
   "metadata": {},
   "outputs": [
    {
     "name": "stdout",
     "output_type": "stream",
     "text": [
      "<class 'pandas.core.frame.DataFrame'>\n",
      "RangeIndex: 204 entries, 0 to 203\n",
      "Data columns (total 19 columns):\n",
      " #   Column                             Non-Null Count  Dtype  \n",
      "---  ------                             --------------  -----  \n",
      " 0   tarih                              204 non-null    object \n",
      " 1   hastalarda_zaturre_oran            65 non-null     float64\n",
      " 2   gunluk_test                        204 non-null    int64  \n",
      " 3   gunluk_vaka                        204 non-null    int64  \n",
      " 4   gunluk_vefat                       204 non-null    int64  \n",
      " 5   gunluk_iyilesen                    204 non-null    int64  \n",
      " 6   toplam_test                        204 non-null    int64  \n",
      " 7   toplam_vaka                        204 non-null    int64  \n",
      " 8   toplam_vefat                       204 non-null    int64  \n",
      " 9   toplam_iyilesen                    204 non-null    int64  \n",
      " 10  toplam_yogun_bakim                 204 non-null    int64  \n",
      " 11  toplam_entube                      204 non-null    int64  \n",
      " 12  agir_hasta_sayisi                  204 non-null    int64  \n",
      " 13  yatak_doluluk_orani                204 non-null    int64  \n",
      " 14  eriskin_yogun_bakim_doluluk_orani  204 non-null    int64  \n",
      " 15  ventilator_doluluk_orani           204 non-null    int64  \n",
      " 16  ortalama_filyasyon_suresi          204 non-null    int64  \n",
      " 17  ortalama_temasli_tespit_suresi     204 non-null    int64  \n",
      " 18  filyasyon_orani                    204 non-null    int64  \n",
      "dtypes: float64(1), int64(17), object(1)\n",
      "memory usage: 30.4+ KB\n"
     ]
    }
   ],
   "source": [
    "df.info()"
   ]
  },
  {
   "cell_type": "code",
   "execution_count": 236,
   "metadata": {},
   "outputs": [],
   "source": [
    "df['tarih'] = pd.to_datetime(df['tarih'],format='%d.%m.%Y') \n",
    "# tarih sütunumuzu da DateTime tip olarak güncelliyoruz. Format tipini belirtiyoruz. Pandas kendi datetime'ına çevirmeden önce bizim tarihimizin hangi yapıda olduğunu merak ediyor, 'gün.ay.yıl' olarak set ediyoruz"
   ]
  },
  {
   "cell_type": "code",
   "execution_count": 237,
   "metadata": {},
   "outputs": [
    {
     "name": "stdout",
     "output_type": "stream",
     "text": [
      "<class 'pandas.core.frame.DataFrame'>\n",
      "RangeIndex: 204 entries, 0 to 203\n",
      "Data columns (total 19 columns):\n",
      " #   Column                             Non-Null Count  Dtype         \n",
      "---  ------                             --------------  -----         \n",
      " 0   tarih                              204 non-null    datetime64[ns]\n",
      " 1   hastalarda_zaturre_oran            65 non-null     float64       \n",
      " 2   gunluk_test                        204 non-null    int64         \n",
      " 3   gunluk_vaka                        204 non-null    int64         \n",
      " 4   gunluk_vefat                       204 non-null    int64         \n",
      " 5   gunluk_iyilesen                    204 non-null    int64         \n",
      " 6   toplam_test                        204 non-null    int64         \n",
      " 7   toplam_vaka                        204 non-null    int64         \n",
      " 8   toplam_vefat                       204 non-null    int64         \n",
      " 9   toplam_iyilesen                    204 non-null    int64         \n",
      " 10  toplam_yogun_bakim                 204 non-null    int64         \n",
      " 11  toplam_entube                      204 non-null    int64         \n",
      " 12  agir_hasta_sayisi                  204 non-null    int64         \n",
      " 13  yatak_doluluk_orani                204 non-null    int64         \n",
      " 14  eriskin_yogun_bakim_doluluk_orani  204 non-null    int64         \n",
      " 15  ventilator_doluluk_orani           204 non-null    int64         \n",
      " 16  ortalama_filyasyon_suresi          204 non-null    int64         \n",
      " 17  ortalama_temasli_tespit_suresi     204 non-null    int64         \n",
      " 18  filyasyon_orani                    204 non-null    int64         \n",
      "dtypes: datetime64[ns](1), float64(1), int64(17)\n",
      "memory usage: 30.4 KB\n"
     ]
    }
   ],
   "source": [
    "df.info() # artık chart çıkartmak için hazırız ^^"
   ]
  },
  {
   "cell_type": "code",
   "execution_count": 263,
   "metadata": {},
   "outputs": [
    {
     "data": {
      "image/png": "[encoded data removed]",
      "text/plain": [
       "<Figure size 1800x720 with 1 Axes>"
      ]
     },
     "metadata": {},
     "output_type": "display_data"
    }
   ],
   "source": [
    "sns.lineplot(x='tarih',y='toplam_vaka',data=df)\n",
    "sns.set(rc={'figure.figsize':(25,10)},style='darkgrid')\n",
    "plt.xlabel('Tarih')\n",
    "plt.ylabel('Toplam Vaka Sayısı')\n",
    "plt.title('Covid-19 Zamana Göre Toplam Vaka Sayısı')\n",
    "plt.show()"
   ]
  }
 ],
 "metadata": {
  "kernelspec": {
   "display_name": "Python 3",
   "language": "python",
   "name": "python3"
  },
  "language_info": {
   "codemirror_mode": {
    "name": "ipython",
    "version": 3
   },
   "file_extension": ".py",
   "mimetype": "text/x-python",
   "name": "python",
   "nbconvert_exporter": "python",
   "pygments_lexer": "ipython3",
   "version": "3.7.6"
  }
 },
 "nbformat": 4,
 "nbformat_minor": 4
}
