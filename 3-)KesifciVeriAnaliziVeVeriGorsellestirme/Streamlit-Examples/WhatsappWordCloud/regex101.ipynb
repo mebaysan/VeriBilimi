{
 "cells": [
  {
   "cell_type": "markdown",
   "metadata": {},
   "source": [
    "# Genel Karakterler"
   ]
  },
  {
   "cell_type": "markdown",
   "metadata": {},
   "source": [
    "**Regex için büyük harf her zaman küçük harfin tersini verir**"
   ]
  },
  {
   "cell_type": "markdown",
   "metadata": {},
   "source": [
    "\\d -> 0 ile 9 arasındaki tüm rakamlar\n",
    "\n",
    "\\D -> rakam olmayan tüm ifadeleri verir"
   ]
  },
  {
   "cell_type": "markdown",
   "metadata": {},
   "source": [
    "\\w -> sayıları, rakamları ve alt çizgiyi (_) gösterir\n",
    "\n",
    "\\W ->  \\w dışındakileri verir. Özel karakterleri"
   ]
  },
  {
   "cell_type": "markdown",
   "metadata": {},
   "source": [
    "\\s -> boşlukları verir\n",
    "\n",
    "\\S -> boşluk harici tüm ifadeleri bize verir"
   ]
  },
  {
   "cell_type": "markdown",
   "metadata": {},
   "source": [
    "# Sınırlayıcı Karakterler"
   ]
  },
  {
   "cell_type": "markdown",
   "metadata": {},
   "source": [
    "\\b -> string başlangıcı veya sonuna bakar\n",
    "\n",
    "\\B -> başlangıç veya son olmayan yerlere bakar"
   ]
  },
  {
   "cell_type": "markdown",
   "metadata": {},
   "source": [
    "^ -> bir stringin (satır) nasıl başlayacağına bakar\n",
    "\n",
    "$ -> bir stringin (satır) nasıl bittiğine bakar"
   ]
  },
  {
   "cell_type": "markdown",
   "metadata": {},
   "source": [
    "# Veya"
   ]
  },
  {
   "cell_type": "markdown",
   "metadata": {},
   "source": [
    "| -> iki regex arasına konulur "
   ]
  },
  {
   "cell_type": "markdown",
   "metadata": {},
   "source": [
    "# Gruplandırma"
   ]
  },
  {
   "cell_type": "markdown",
   "metadata": {},
   "source": [
    "[0-9] -> 0 ile 9 arasındaki tüm rakamlar\n",
    "\n",
    "[a-z] -> a ile z arasındaki tüm küçük harfler\n",
    "\n",
    "[^a-z] -> a ile z arasındaki küçük harfler haricindeki değerler. Başa ^ gelirse 'değil' anlamını taşır\n",
    "\n",
    "[\\'|\\\"]\\w+[\\'|\\\"] -> 'naber' veya \"naber\""
   ]
  },
  {
   "cell_type": "markdown",
   "metadata": {},
   "source": [
    "( ) -> içindeki pattern'e uyanlar --> (\\d\\d\\d\\d) -> (0216)\n",
    "\n",
    "([\\'|\\\"]\\w+[\\'|\\\"])$ -> 'naber' veya \"naber\" ile bitenler"
   ]
  },
  {
   "cell_type": "markdown",
   "metadata": {},
   "source": [
    "# Miktar Belirleyiciler"
   ]
  },
  {
   "cell_type": "markdown",
   "metadata": {},
   "source": [
    "{} -> aynı regex'den içerideki sayı kadar gelsin  \n",
    "\n",
    "- \\d{2}/\\d+/\\d{2} = 11/28/19\n",
    "\n",
    "- \\d{2}:\\d{2} = 12:02\n",
    "\n",
    "- \\d{3,} -> 3 ve daha fazla basamaklı"
   ]
  },
  {
   "cell_type": "markdown",
   "metadata": {},
   "source": [
    "\\+ -> bir veya daha fazla aynısından gelebilir\n",
    "\n",
    "- (\\d+/){2} -> 11/28/ from 11/28/19"
   ]
  },
  {
   "cell_type": "markdown",
   "metadata": {},
   "source": [
    "*asd -> asd ile biten\n",
    "\n",
    "asd* -> asd ile başlayan"
   ]
  },
  {
   "cell_type": "markdown",
   "metadata": {},
   "source": [
    "? -> varlık ifade eder 0 ya da 1 olarak.\n",
    "- \\d{3,4}-?\\d{2}-?\\d{2} -> aralarda - olabilir veya olmayabilir"
   ]
  },
  {
   "cell_type": "markdown",
   "metadata": {},
   "source": [
    "# Python'da basit regex örneği "
   ]
  },
  {
   "cell_type": "code",
   "execution_count": 5,
   "metadata": {},
   "outputs": [],
   "source": [
    "import re"
   ]
  },
  {
   "cell_type": "code",
   "execution_count": 6,
   "metadata": {},
   "outputs": [],
   "source": [
    "text = '11/28/19, 10:07 - You were added'"
   ]
  },
  {
   "cell_type": "code",
   "execution_count": 16,
   "metadata": {},
   "outputs": [],
   "source": [
    "date_regex = re.compile('\\d+/\\d+/\\d+')"
   ]
  },
  {
   "cell_type": "code",
   "execution_count": 18,
   "metadata": {},
   "outputs": [],
   "source": [
    "date = date_regex.findall(text)"
   ]
  },
  {
   "cell_type": "code",
   "execution_count": 19,
   "metadata": {},
   "outputs": [
    {
     "data": {
      "text/plain": [
       "['11/28/19']"
      ]
     },
     "execution_count": 19,
     "metadata": {},
     "output_type": "execute_result"
    }
   ],
   "source": [
    "date"
   ]
  },
  {
   "cell_type": "code",
   "execution_count": null,
   "metadata": {},
   "outputs": [],
   "source": []
  }
 ],
 "metadata": {
  "kernelspec": {
   "display_name": "Python 3",
   "language": "python",
   "name": "python3"
  },
  "language_info": {
   "codemirror_mode": {
    "name": "ipython",
    "version": 3
   },
   "file_extension": ".py",
   "mimetype": "text/x-python",
   "name": "python",
   "nbconvert_exporter": "python",
   "pygments_lexer": "ipython3",
   "version": "3.7.6"
  }
 },
 "nbformat": 4,
 "nbformat_minor": 4
}
