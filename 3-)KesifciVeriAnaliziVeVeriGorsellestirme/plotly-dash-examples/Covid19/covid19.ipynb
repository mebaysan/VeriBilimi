{
 "cells": [
  {
   "cell_type": "code",
   "execution_count": 1,
   "metadata": {},
   "outputs": [],
   "source": [
    "import pandas as pd\n",
    "import seaborn as sns\n",
    "import matplotlib.pyplot as plt\n",
    "import requests"
   ]
  },
  {
   "cell_type": "code",
   "execution_count": 2,
   "metadata": {},
   "outputs": [],
   "source": [
    "raw = requests.get(\"https://covid19.saglik.gov.tr/covid19api?getir=liste\") # api'den veriyi alıyoruz\n",
    "raw_json = raw.json() # dönen cevap içerisindeki json'u alıyoruz\n",
    "df = pd.DataFrame(raw_json) # json'dan bir DataFrame oluşturuyoruz"
   ]
  },
  {
   "cell_type": "code",
   "execution_count": 3,
   "metadata": {},
   "outputs": [
    {
     "data": {
      "text/html": [
       "<div>\n",
       "<style scoped>\n",
       "    .dataframe tbody tr th:only-of-type {\n",
       "        vertical-align: middle;\n",
       "    }\n",
       "\n",
       "    .dataframe tbody tr th {\n",
       "        vertical-align: top;\n",
       "    }\n",
       "\n",
       "    .dataframe thead th {\n",
       "        text-align: right;\n",
       "    }\n",
       "</style>\n",
       "<table border=\"1\" class=\"dataframe\">\n",
       "  <thead>\n",
       "    <tr style=\"text-align: right;\">\n",
       "      <th></th>\n",
       "      <th>tarih</th>\n",
       "      <th>gunluk_test</th>\n",
       "      <th>gunluk_vaka</th>\n",
       "      <th>gunluk_vefat</th>\n",
       "      <th>gunluk_iyilesen</th>\n",
       "      <th>toplam_test</th>\n",
       "      <th>toplam_vaka</th>\n",
       "      <th>toplam_vefat</th>\n",
       "      <th>toplam_iyilesen</th>\n",
       "      <th>toplam_yogun_bakim</th>\n",
       "      <th>toplam_entube</th>\n",
       "      <th>hastalarda_zaturre_oran</th>\n",
       "      <th>agir_hasta_sayisi</th>\n",
       "    </tr>\n",
       "  </thead>\n",
       "  <tbody>\n",
       "    <tr>\n",
       "      <th>0</th>\n",
       "      <td>30.09.2020</td>\n",
       "      <td>112.098</td>\n",
       "      <td>1.391</td>\n",
       "      <td>65</td>\n",
       "      <td>1.245</td>\n",
       "      <td>10.380.261</td>\n",
       "      <td>318.663</td>\n",
       "      <td>8.195</td>\n",
       "      <td>279.749</td>\n",
       "      <td></td>\n",
       "      <td></td>\n",
       "      <td>6.4</td>\n",
       "      <td>1.516</td>\n",
       "    </tr>\n",
       "    <tr>\n",
       "      <th>1</th>\n",
       "      <td>29.09.2020</td>\n",
       "      <td>114.940</td>\n",
       "      <td>1.427</td>\n",
       "      <td>68</td>\n",
       "      <td>1.452</td>\n",
       "      <td>10.268.163</td>\n",
       "      <td>317.272</td>\n",
       "      <td>8.130</td>\n",
       "      <td>278.504</td>\n",
       "      <td></td>\n",
       "      <td></td>\n",
       "      <td>6.5</td>\n",
       "      <td>1.583</td>\n",
       "    </tr>\n",
       "    <tr>\n",
       "      <th>2</th>\n",
       "      <td>28.09.2020</td>\n",
       "      <td>115.523</td>\n",
       "      <td>1.412</td>\n",
       "      <td>65</td>\n",
       "      <td>1.422</td>\n",
       "      <td>10.153.223</td>\n",
       "      <td>315.845</td>\n",
       "      <td>8.062</td>\n",
       "      <td>277.052</td>\n",
       "      <td></td>\n",
       "      <td></td>\n",
       "      <td>6.5</td>\n",
       "      <td>1.596</td>\n",
       "    </tr>\n",
       "    <tr>\n",
       "      <th>3</th>\n",
       "      <td>27.09.2020</td>\n",
       "      <td>101.119</td>\n",
       "      <td>1.467</td>\n",
       "      <td>68</td>\n",
       "      <td>1.116</td>\n",
       "      <td>10.037.700</td>\n",
       "      <td>314.433</td>\n",
       "      <td>7.997</td>\n",
       "      <td>275.630</td>\n",
       "      <td></td>\n",
       "      <td></td>\n",
       "      <td>6.5</td>\n",
       "      <td>1.583</td>\n",
       "    </tr>\n",
       "    <tr>\n",
       "      <th>4</th>\n",
       "      <td>26.09.2020</td>\n",
       "      <td>102.009</td>\n",
       "      <td>1.511</td>\n",
       "      <td>71</td>\n",
       "      <td>1.232</td>\n",
       "      <td>9.936.581</td>\n",
       "      <td>312.966</td>\n",
       "      <td>7.929</td>\n",
       "      <td>274.514</td>\n",
       "      <td></td>\n",
       "      <td></td>\n",
       "      <td>6.6</td>\n",
       "      <td>1.615</td>\n",
       "    </tr>\n",
       "  </tbody>\n",
       "</table>\n",
       "</div>"
      ],
      "text/plain": [
       "        tarih gunluk_test gunluk_vaka gunluk_vefat gunluk_iyilesen  \\\n",
       "0  30.09.2020     112.098       1.391           65           1.245   \n",
       "1  29.09.2020     114.940       1.427           68           1.452   \n",
       "2  28.09.2020     115.523       1.412           65           1.422   \n",
       "3  27.09.2020     101.119       1.467           68           1.116   \n",
       "4  26.09.2020     102.009       1.511           71           1.232   \n",
       "\n",
       "  toplam_test toplam_vaka toplam_vefat toplam_iyilesen toplam_yogun_bakim  \\\n",
       "0  10.380.261     318.663        8.195         279.749                      \n",
       "1  10.268.163     317.272        8.130         278.504                      \n",
       "2  10.153.223     315.845        8.062         277.052                      \n",
       "3  10.037.700     314.433        7.997         275.630                      \n",
       "4   9.936.581     312.966        7.929         274.514                      \n",
       "\n",
       "  toplam_entube hastalarda_zaturre_oran agir_hasta_sayisi  \n",
       "0                                   6.4             1.516  \n",
       "1                                   6.5             1.583  \n",
       "2                                   6.5             1.596  \n",
       "3                                   6.5             1.583  \n",
       "4                                   6.6             1.615  "
      ]
     },
     "execution_count": 3,
     "metadata": {},
     "output_type": "execute_result"
    }
   ],
   "source": [
    "df.head() # veriye bir göz gezdirelim"
   ]
  },
  {
   "cell_type": "code",
   "execution_count": 4,
   "metadata": {},
   "outputs": [
    {
     "name": "stdout",
     "output_type": "stream",
     "text": [
      "<class 'pandas.core.frame.DataFrame'>\n",
      "RangeIndex: 203 entries, 0 to 202\n",
      "Data columns (total 13 columns):\n",
      " #   Column                   Non-Null Count  Dtype \n",
      "---  ------                   --------------  ----- \n",
      " 0   tarih                    203 non-null    object\n",
      " 1   gunluk_test              203 non-null    object\n",
      " 2   gunluk_vaka              203 non-null    object\n",
      " 3   gunluk_vefat             203 non-null    object\n",
      " 4   gunluk_iyilesen          203 non-null    object\n",
      " 5   toplam_test              203 non-null    object\n",
      " 6   toplam_vaka              203 non-null    object\n",
      " 7   toplam_vefat             203 non-null    object\n",
      " 8   toplam_iyilesen          203 non-null    object\n",
      " 9   toplam_yogun_bakim       203 non-null    object\n",
      " 10  toplam_entube            203 non-null    object\n",
      " 11  hastalarda_zaturre_oran  203 non-null    object\n",
      " 12  agir_hasta_sayisi        203 non-null    object\n",
      "dtypes: object(13)\n",
      "memory usage: 20.7+ KB\n"
     ]
    }
   ],
   "source": [
    "df.info() # veri seti hakkında bilgi sahibi olalım"
   ]
  },
  {
   "cell_type": "code",
   "execution_count": 5,
   "metadata": {},
   "outputs": [],
   "source": [
    "cols = df.columns.tolist() # veri setine ait kolonları bir listeye atıyoruz\n",
    "cols.insert(1, cols.pop(cols.index('hastalarda_zaturre_oran'))) # bunu 2 satır aşağısı için yapıyoruz. Bu kolonu 2. sıraya çekeceğiz bu sayede aşağıda tip dönüşümleri yaparken takılmayacağız\n",
    "df = df.reindex(columns=cols) # veri setini yeniden indexliyoruz (kolon sırasını değiştiriyoruz)"
   ]
  },
  {
   "cell_type": "code",
   "execution_count": 6,
   "metadata": {},
   "outputs": [],
   "source": [
    "df['toplam_vaka'] = df['toplam_vaka'].apply(lambda x: str(f'{x}')).astype('string')\n",
    "# toplam_vaka kolonunun veri tipini string olarak güncelliyoruz"
   ]
  },
  {
   "cell_type": "code",
   "execution_count": 7,
   "metadata": {},
   "outputs": [],
   "source": [
    "for col_name in df.loc[:,'gunluk_test':].columns: # tüm satırları al VE gunluk_test kolonundan (dahil) son kolona kadar (dahil)\n",
    "    df[f'{col_name}'] = df[f'{col_name}'].str.replace('.','').astype('string') # kolondaki değerleri formatla ve veri tipini string'e çevir\n",
    "    df[f'{col_name}'] = pd.to_numeric(df[f'{col_name}']) # sayısal veri tipine dönüştürüyoruz "
   ]
  },
  {
   "cell_type": "code",
   "execution_count": 8,
   "metadata": {},
   "outputs": [
    {
     "name": "stdout",
     "output_type": "stream",
     "text": [
      "<class 'pandas.core.frame.DataFrame'>\n",
      "RangeIndex: 203 entries, 0 to 202\n",
      "Data columns (total 13 columns):\n",
      " #   Column                   Non-Null Count  Dtype  \n",
      "---  ------                   --------------  -----  \n",
      " 0   tarih                    203 non-null    object \n",
      " 1   hastalarda_zaturre_oran  203 non-null    object \n",
      " 2   gunluk_test              187 non-null    float64\n",
      " 3   gunluk_vaka              187 non-null    float64\n",
      " 4   gunluk_vefat             187 non-null    float64\n",
      " 5   gunluk_iyilesen          179 non-null    float64\n",
      " 6   toplam_test              187 non-null    float64\n",
      " 7   toplam_vaka              203 non-null    int64  \n",
      " 8   toplam_vefat             197 non-null    float64\n",
      " 9   toplam_iyilesen          187 non-null    float64\n",
      " 10  toplam_yogun_bakim       123 non-null    float64\n",
      " 11  toplam_entube            123 non-null    float64\n",
      " 12  agir_hasta_sayisi        64 non-null     float64\n",
      "dtypes: float64(10), int64(1), object(2)\n",
      "memory usage: 20.7+ KB\n"
     ]
    }
   ],
   "source": [
    "df.info()"
   ]
  },
  {
   "cell_type": "code",
   "execution_count": 9,
   "metadata": {},
   "outputs": [
    {
     "data": {
      "text/plain": [
       "tarih                      False\n",
       "hastalarda_zaturre_oran    False\n",
       "gunluk_test                 True\n",
       "gunluk_vaka                 True\n",
       "gunluk_vefat                True\n",
       "gunluk_iyilesen             True\n",
       "toplam_test                 True\n",
       "toplam_vaka                False\n",
       "toplam_vefat                True\n",
       "toplam_iyilesen             True\n",
       "toplam_yogun_bakim          True\n",
       "toplam_entube               True\n",
       "agir_hasta_sayisi           True\n",
       "dtype: bool"
      ]
     },
     "execution_count": 9,
     "metadata": {},
     "output_type": "execute_result"
    }
   ],
   "source": [
    "df.isna().any() # evet veri tipini sayısal'a çevirince aralarda NaN değerler oldu"
   ]
  },
  {
   "cell_type": "code",
   "execution_count": 10,
   "metadata": {},
   "outputs": [],
   "source": [
    "df.fillna(0,inplace=True) # NaN değerleri 0 olarak atamamızda bir sakınca yok, sonuçta bunlar o gün hiç hasta olmadığını belirtiyor. 0 atarsak mantıksal bir hata yapmış olmayız"
   ]
  },
  {
   "cell_type": "code",
   "execution_count": 11,
   "metadata": {},
   "outputs": [],
   "source": [
    "for col_name in df.loc[:,'gunluk_test':].columns:  # tekrar int'e çevirmek istediğimiz tüm kolonları geziyoruz\n",
    "    df[f'{col_name}'] = df[f'{col_name}'].astype('int') # veri tiplerini int'e çeviriyoruz ve mevcut kolon ile değiştiriyoruz"
   ]
  },
  {
   "cell_type": "code",
   "execution_count": 12,
   "metadata": {},
   "outputs": [
    {
     "name": "stdout",
     "output_type": "stream",
     "text": [
      "<class 'pandas.core.frame.DataFrame'>\n",
      "RangeIndex: 203 entries, 0 to 202\n",
      "Data columns (total 13 columns):\n",
      " #   Column                   Non-Null Count  Dtype \n",
      "---  ------                   --------------  ----- \n",
      " 0   tarih                    203 non-null    object\n",
      " 1   hastalarda_zaturre_oran  203 non-null    object\n",
      " 2   gunluk_test              203 non-null    int64 \n",
      " 3   gunluk_vaka              203 non-null    int64 \n",
      " 4   gunluk_vefat             203 non-null    int64 \n",
      " 5   gunluk_iyilesen          203 non-null    int64 \n",
      " 6   toplam_test              203 non-null    int64 \n",
      " 7   toplam_vaka              203 non-null    int64 \n",
      " 8   toplam_vefat             203 non-null    int64 \n",
      " 9   toplam_iyilesen          203 non-null    int64 \n",
      " 10  toplam_yogun_bakim       203 non-null    int64 \n",
      " 11  toplam_entube            203 non-null    int64 \n",
      " 12  agir_hasta_sayisi        203 non-null    int64 \n",
      "dtypes: int64(11), object(2)\n",
      "memory usage: 20.7+ KB\n"
     ]
    }
   ],
   "source": [
    "df.info()"
   ]
  },
  {
   "cell_type": "code",
   "execution_count": 13,
   "metadata": {},
   "outputs": [],
   "source": [
    "df['hastalarda_zaturre_oran'] = df['hastalarda_zaturre_oran'].str.replace(',','.') # bu kolonu float yapmamız gerekmekte fakat ondalık kısımda '.' yerine  ',' olduğu için hata alacağız. Bu sebeple önce ','leri '.' ile replace ediyoruz"
   ]
  },
  {
   "cell_type": "code",
   "execution_count": 14,
   "metadata": {},
   "outputs": [],
   "source": [
    "df['hastalarda_zaturre_oran'] = pd.to_numeric(df['hastalarda_zaturre_oran']) # ardından sütunu sxayısal'a çeviriyoruz"
   ]
  },
  {
   "cell_type": "code",
   "execution_count": 15,
   "metadata": {},
   "outputs": [
    {
     "name": "stdout",
     "output_type": "stream",
     "text": [
      "<class 'pandas.core.frame.DataFrame'>\n",
      "RangeIndex: 203 entries, 0 to 202\n",
      "Data columns (total 13 columns):\n",
      " #   Column                   Non-Null Count  Dtype  \n",
      "---  ------                   --------------  -----  \n",
      " 0   tarih                    203 non-null    object \n",
      " 1   hastalarda_zaturre_oran  64 non-null     float64\n",
      " 2   gunluk_test              203 non-null    int64  \n",
      " 3   gunluk_vaka              203 non-null    int64  \n",
      " 4   gunluk_vefat             203 non-null    int64  \n",
      " 5   gunluk_iyilesen          203 non-null    int64  \n",
      " 6   toplam_test              203 non-null    int64  \n",
      " 7   toplam_vaka              203 non-null    int64  \n",
      " 8   toplam_vefat             203 non-null    int64  \n",
      " 9   toplam_iyilesen          203 non-null    int64  \n",
      " 10  toplam_yogun_bakim       203 non-null    int64  \n",
      " 11  toplam_entube            203 non-null    int64  \n",
      " 12  agir_hasta_sayisi        203 non-null    int64  \n",
      "dtypes: float64(1), int64(11), object(1)\n",
      "memory usage: 20.7+ KB\n"
     ]
    }
   ],
   "source": [
    "df.info()"
   ]
  },
  {
   "cell_type": "code",
   "execution_count": 16,
   "metadata": {},
   "outputs": [],
   "source": [
    "df['tarih'] = pd.to_datetime(df['tarih']) # tarih sütunumuzu da DateTime tip olarak güncelliyoruz"
   ]
  },
  {
   "cell_type": "code",
   "execution_count": 17,
   "metadata": {},
   "outputs": [
    {
     "name": "stdout",
     "output_type": "stream",
     "text": [
      "<class 'pandas.core.frame.DataFrame'>\n",
      "RangeIndex: 203 entries, 0 to 202\n",
      "Data columns (total 13 columns):\n",
      " #   Column                   Non-Null Count  Dtype         \n",
      "---  ------                   --------------  -----         \n",
      " 0   tarih                    203 non-null    datetime64[ns]\n",
      " 1   hastalarda_zaturre_oran  64 non-null     float64       \n",
      " 2   gunluk_test              203 non-null    int64         \n",
      " 3   gunluk_vaka              203 non-null    int64         \n",
      " 4   gunluk_vefat             203 non-null    int64         \n",
      " 5   gunluk_iyilesen          203 non-null    int64         \n",
      " 6   toplam_test              203 non-null    int64         \n",
      " 7   toplam_vaka              203 non-null    int64         \n",
      " 8   toplam_vefat             203 non-null    int64         \n",
      " 9   toplam_iyilesen          203 non-null    int64         \n",
      " 10  toplam_yogun_bakim       203 non-null    int64         \n",
      " 11  toplam_entube            203 non-null    int64         \n",
      " 12  agir_hasta_sayisi        203 non-null    int64         \n",
      "dtypes: datetime64[ns](1), float64(1), int64(11)\n",
      "memory usage: 20.7 KB\n"
     ]
    }
   ],
   "source": [
    "df.info() # artık chart çıkartmak için hazırız ^^"
   ]
  },
  {
   "cell_type": "code",
   "execution_count": 18,
   "metadata": {},
   "outputs": [
    {
     "data": {
      "image/png": "[encoded data removed]",
      "text/plain": [
       "<Figure size 432x288 with 1 Axes>"
      ]
     },
     "metadata": {
      "needs_background": "light"
     },
     "output_type": "display_data"
    }
   ],
   "source": [
    "sns.lineplot(x='tarih',y='toplam_vaka',data=df)\n",
    "sns.set(rc={'figure.figsize':(25,10)},style='darkgrid')\n",
    "plt.xlabel('Tarih')\n",
    "plt.ylabel('Toplam Vaka Sayısı')\n",
    "plt.title('Covid-19 Zamana Göre Toplam Vaka Sayısı')\n",
    "plt.show()"
   ]
  },
  {
   "cell_type": "code",
   "execution_count": 19,
   "metadata": {},
   "outputs": [
    {
     "data": {
      "text/plain": [
       "count                     203\n",
       "unique                    203\n",
       "top       2020-03-13 00:00:00\n",
       "freq                        1\n",
       "first     2020-01-04 00:00:00\n",
       "last      2020-12-09 00:00:00\n",
       "Name: tarih, dtype: object"
      ]
     },
     "execution_count": 19,
     "metadata": {},
     "output_type": "execute_result"
    }
   ],
   "source": [
    "df['tarih'].describe()\n"
   ]
  },
  {
   "cell_type": "code",
   "execution_count": 20,
   "metadata": {},
   "outputs": [
    {
     "data": {
      "text/html": [
       "<div>\n",
       "<style scoped>\n",
       "    .dataframe tbody tr th:only-of-type {\n",
       "        vertical-align: middle;\n",
       "    }\n",
       "\n",
       "    .dataframe tbody tr th {\n",
       "        vertical-align: top;\n",
       "    }\n",
       "\n",
       "    .dataframe thead th {\n",
       "        text-align: right;\n",
       "    }\n",
       "</style>\n",
       "<table border=\"1\" class=\"dataframe\">\n",
       "  <thead>\n",
       "    <tr style=\"text-align: right;\">\n",
       "      <th></th>\n",
       "      <th>tarih</th>\n",
       "      <th>hastalarda_zaturre_oran</th>\n",
       "      <th>gunluk_test</th>\n",
       "      <th>gunluk_vaka</th>\n",
       "      <th>gunluk_vefat</th>\n",
       "      <th>gunluk_iyilesen</th>\n",
       "      <th>toplam_test</th>\n",
       "      <th>toplam_vaka</th>\n",
       "      <th>toplam_vefat</th>\n",
       "      <th>toplam_iyilesen</th>\n",
       "      <th>toplam_yogun_bakim</th>\n",
       "      <th>toplam_entube</th>\n",
       "      <th>agir_hasta_sayisi</th>\n",
       "    </tr>\n",
       "  </thead>\n",
       "  <tbody>\n",
       "    <tr>\n",
       "      <th>0</th>\n",
       "      <td>2020-09-30</td>\n",
       "      <td>6.4</td>\n",
       "      <td>112098</td>\n",
       "      <td>1391</td>\n",
       "      <td>65</td>\n",
       "      <td>1245</td>\n",
       "      <td>10380261</td>\n",
       "      <td>318663</td>\n",
       "      <td>8195</td>\n",
       "      <td>279749</td>\n",
       "      <td>0</td>\n",
       "      <td>0</td>\n",
       "      <td>1516</td>\n",
       "    </tr>\n",
       "    <tr>\n",
       "      <th>1</th>\n",
       "      <td>2020-09-29</td>\n",
       "      <td>6.5</td>\n",
       "      <td>114940</td>\n",
       "      <td>1427</td>\n",
       "      <td>68</td>\n",
       "      <td>1452</td>\n",
       "      <td>10268163</td>\n",
       "      <td>317272</td>\n",
       "      <td>8130</td>\n",
       "      <td>278504</td>\n",
       "      <td>0</td>\n",
       "      <td>0</td>\n",
       "      <td>1583</td>\n",
       "    </tr>\n",
       "    <tr>\n",
       "      <th>2</th>\n",
       "      <td>2020-09-28</td>\n",
       "      <td>6.5</td>\n",
       "      <td>115523</td>\n",
       "      <td>1412</td>\n",
       "      <td>65</td>\n",
       "      <td>1422</td>\n",
       "      <td>10153223</td>\n",
       "      <td>315845</td>\n",
       "      <td>8062</td>\n",
       "      <td>277052</td>\n",
       "      <td>0</td>\n",
       "      <td>0</td>\n",
       "      <td>1596</td>\n",
       "    </tr>\n",
       "    <tr>\n",
       "      <th>3</th>\n",
       "      <td>2020-09-27</td>\n",
       "      <td>6.5</td>\n",
       "      <td>101119</td>\n",
       "      <td>1467</td>\n",
       "      <td>68</td>\n",
       "      <td>1116</td>\n",
       "      <td>10037700</td>\n",
       "      <td>314433</td>\n",
       "      <td>7997</td>\n",
       "      <td>275630</td>\n",
       "      <td>0</td>\n",
       "      <td>0</td>\n",
       "      <td>1583</td>\n",
       "    </tr>\n",
       "    <tr>\n",
       "      <th>4</th>\n",
       "      <td>2020-09-26</td>\n",
       "      <td>6.6</td>\n",
       "      <td>102009</td>\n",
       "      <td>1511</td>\n",
       "      <td>71</td>\n",
       "      <td>1232</td>\n",
       "      <td>9936581</td>\n",
       "      <td>312966</td>\n",
       "      <td>7929</td>\n",
       "      <td>274514</td>\n",
       "      <td>0</td>\n",
       "      <td>0</td>\n",
       "      <td>1615</td>\n",
       "    </tr>\n",
       "    <tr>\n",
       "      <th>...</th>\n",
       "      <td>...</td>\n",
       "      <td>...</td>\n",
       "      <td>...</td>\n",
       "      <td>...</td>\n",
       "      <td>...</td>\n",
       "      <td>...</td>\n",
       "      <td>...</td>\n",
       "      <td>...</td>\n",
       "      <td>...</td>\n",
       "      <td>...</td>\n",
       "      <td>...</td>\n",
       "      <td>...</td>\n",
       "      <td>...</td>\n",
       "    </tr>\n",
       "    <tr>\n",
       "      <th>198</th>\n",
       "      <td>2020-03-15</td>\n",
       "      <td>NaN</td>\n",
       "      <td>0</td>\n",
       "      <td>0</td>\n",
       "      <td>0</td>\n",
       "      <td>0</td>\n",
       "      <td>0</td>\n",
       "      <td>18</td>\n",
       "      <td>0</td>\n",
       "      <td>0</td>\n",
       "      <td>0</td>\n",
       "      <td>0</td>\n",
       "      <td>0</td>\n",
       "    </tr>\n",
       "    <tr>\n",
       "      <th>199</th>\n",
       "      <td>2020-03-14</td>\n",
       "      <td>NaN</td>\n",
       "      <td>0</td>\n",
       "      <td>0</td>\n",
       "      <td>0</td>\n",
       "      <td>0</td>\n",
       "      <td>0</td>\n",
       "      <td>6</td>\n",
       "      <td>0</td>\n",
       "      <td>0</td>\n",
       "      <td>0</td>\n",
       "      <td>0</td>\n",
       "      <td>0</td>\n",
       "    </tr>\n",
       "    <tr>\n",
       "      <th>200</th>\n",
       "      <td>2020-03-13</td>\n",
       "      <td>NaN</td>\n",
       "      <td>0</td>\n",
       "      <td>0</td>\n",
       "      <td>0</td>\n",
       "      <td>0</td>\n",
       "      <td>0</td>\n",
       "      <td>5</td>\n",
       "      <td>0</td>\n",
       "      <td>0</td>\n",
       "      <td>0</td>\n",
       "      <td>0</td>\n",
       "      <td>0</td>\n",
       "    </tr>\n",
       "    <tr>\n",
       "      <th>201</th>\n",
       "      <td>2020-12-03</td>\n",
       "      <td>NaN</td>\n",
       "      <td>0</td>\n",
       "      <td>0</td>\n",
       "      <td>0</td>\n",
       "      <td>0</td>\n",
       "      <td>0</td>\n",
       "      <td>1</td>\n",
       "      <td>0</td>\n",
       "      <td>0</td>\n",
       "      <td>0</td>\n",
       "      <td>0</td>\n",
       "      <td>0</td>\n",
       "    </tr>\n",
       "    <tr>\n",
       "      <th>202</th>\n",
       "      <td>2020-11-03</td>\n",
       "      <td>NaN</td>\n",
       "      <td>0</td>\n",
       "      <td>0</td>\n",
       "      <td>0</td>\n",
       "      <td>0</td>\n",
       "      <td>0</td>\n",
       "      <td>1</td>\n",
       "      <td>0</td>\n",
       "      <td>0</td>\n",
       "      <td>0</td>\n",
       "      <td>0</td>\n",
       "      <td>0</td>\n",
       "    </tr>\n",
       "  </tbody>\n",
       "</table>\n",
       "<p>203 rows × 13 columns</p>\n",
       "</div>"
      ],
      "text/plain": [
       "         tarih  hastalarda_zaturre_oran  gunluk_test  gunluk_vaka  \\\n",
       "0   2020-09-30                      6.4       112098         1391   \n",
       "1   2020-09-29                      6.5       114940         1427   \n",
       "2   2020-09-28                      6.5       115523         1412   \n",
       "3   2020-09-27                      6.5       101119         1467   \n",
       "4   2020-09-26                      6.6       102009         1511   \n",
       "..         ...                      ...          ...          ...   \n",
       "198 2020-03-15                      NaN            0            0   \n",
       "199 2020-03-14                      NaN            0            0   \n",
       "200 2020-03-13                      NaN            0            0   \n",
       "201 2020-12-03                      NaN            0            0   \n",
       "202 2020-11-03                      NaN            0            0   \n",
       "\n",
       "     gunluk_vefat  gunluk_iyilesen  toplam_test  toplam_vaka  toplam_vefat  \\\n",
       "0              65             1245     10380261       318663          8195   \n",
       "1              68             1452     10268163       317272          8130   \n",
       "2              65             1422     10153223       315845          8062   \n",
       "3              68             1116     10037700       314433          7997   \n",
       "4              71             1232      9936581       312966          7929   \n",
       "..            ...              ...          ...          ...           ...   \n",
       "198             0                0            0           18             0   \n",
       "199             0                0            0            6             0   \n",
       "200             0                0            0            5             0   \n",
       "201             0                0            0            1             0   \n",
       "202             0                0            0            1             0   \n",
       "\n",
       "     toplam_iyilesen  toplam_yogun_bakim  toplam_entube  agir_hasta_sayisi  \n",
       "0             279749                   0              0               1516  \n",
       "1             278504                   0              0               1583  \n",
       "2             277052                   0              0               1596  \n",
       "3             275630                   0              0               1583  \n",
       "4             274514                   0              0               1615  \n",
       "..               ...                 ...            ...                ...  \n",
       "198                0                   0              0                  0  \n",
       "199                0                   0              0                  0  \n",
       "200                0                   0              0                  0  \n",
       "201                0                   0              0                  0  \n",
       "202                0                   0              0                  0  \n",
       "\n",
       "[203 rows x 13 columns]"
      ]
     },
     "execution_count": 20,
     "metadata": {},
     "output_type": "execute_result"
    }
   ],
   "source": [
    "df"
   ]
  },
  {
   "cell_type": "code",
   "execution_count": 33,
   "metadata": {},
   "outputs": [
    {
     "data": {
      "text/plain": [
       "Timestamp('2020-09-30 00:00:00')"
      ]
     },
     "execution_count": 33,
     "metadata": {},
     "output_type": "execute_result"
    }
   ],
   "source": [
    "df['tarih'][df.first_valid_index()] # ilk indexi alır, yani son eklenen gün (bu veri seti için)"
   ]
  },
  {
   "cell_type": "code",
   "execution_count": 35,
   "metadata": {},
   "outputs": [
    {
     "data": {
      "text/plain": [
       "Timestamp('2020-11-03 00:00:00')"
      ]
     },
     "execution_count": 35,
     "metadata": {},
     "output_type": "execute_result"
    }
   ],
   "source": [
    "df['tarih'][df.last_valid_index()] # son indexi alır, yani ilk eklenen gün (bu veri seti için)"
   ]
  },
  {
   "cell_type": "code",
   "execution_count": null,
   "metadata": {},
   "outputs": [],
   "source": []
  }
 ],
 "metadata": {
  "kernelspec": {
   "display_name": "Python 3",
   "language": "python",
   "name": "python3"
  },
  "language_info": {
   "codemirror_mode": {
    "name": "ipython",
    "version": 3
   },
   "file_extension": ".py",
   "mimetype": "text/x-python",
   "name": "python",
   "nbconvert_exporter": "python",
   "pygments_lexer": "ipython3",
   "version": "3.7.6"
  }
 },
 "nbformat": 4,
 "nbformat_minor": 4
}
