{
 "cells": [
  {
   "cell_type": "code",
   "execution_count": 1,
   "metadata": {},
   "outputs": [],
   "source": [
    "import pandas as pd\n",
    "import seaborn as sns\n",
    "import matplotlib.pyplot as plt\n",
    "import requests"
   ]
  },
  {
   "cell_type": "code",
   "execution_count": 2,
   "metadata": {},
   "outputs": [],
   "source": [
    "raw= requests.get(\"https://covid19.saglik.gov.tr/covid19api?getir=liste\") # api'den veriyi alıyoruz\n",
    "raw_json = raw.json() # dönen cevap içerisindeki json'u alıyoruz\n",
    "df = pd.DataFrame(raw_json) # json'dan bir DataFrame oluşturuyoruz"
   ]
  },
  {
   "cell_type": "code",
   "execution_count": 3,
   "metadata": {
    "collapsed": true,
    "jupyter": {
     "outputs_hidden": true
    }
   },
   "outputs": [
    {
     "data": {
      "text/html": [
       "<div>\n",
       "<style scoped>\n",
       "    .dataframe tbody tr th:only-of-type {\n",
       "        vertical-align: middle;\n",
       "    }\n",
       "\n",
       "    .dataframe tbody tr th {\n",
       "        vertical-align: top;\n",
       "    }\n",
       "\n",
       "    .dataframe thead th {\n",
       "        text-align: right;\n",
       "    }\n",
       "</style>\n",
       "<table border=\"1\" class=\"dataframe\">\n",
       "  <thead>\n",
       "    <tr style=\"text-align: right;\">\n",
       "      <th></th>\n",
       "      <th>tarih</th>\n",
       "      <th>gunluk_test</th>\n",
       "      <th>gunluk_vaka</th>\n",
       "      <th>gunluk_vefat</th>\n",
       "      <th>gunluk_iyilesen</th>\n",
       "      <th>toplam_test</th>\n",
       "      <th>toplam_vaka</th>\n",
       "      <th>toplam_vefat</th>\n",
       "      <th>toplam_iyilesen</th>\n",
       "      <th>toplam_yogun_bakim</th>\n",
       "      <th>toplam_entube</th>\n",
       "      <th>hastalarda_zaturre_oran</th>\n",
       "      <th>agir_hasta_sayisi</th>\n",
       "    </tr>\n",
       "  </thead>\n",
       "  <tbody>\n",
       "    <tr>\n",
       "      <th>0</th>\n",
       "      <td>26.09.2020</td>\n",
       "      <td>102.009</td>\n",
       "      <td>1.511</td>\n",
       "      <td>71</td>\n",
       "      <td>1.232</td>\n",
       "      <td>9.936.581</td>\n",
       "      <td>312.966</td>\n",
       "      <td>7.929</td>\n",
       "      <td>274.514</td>\n",
       "      <td></td>\n",
       "      <td></td>\n",
       "      <td>6.6</td>\n",
       "      <td>1.615</td>\n",
       "    </tr>\n",
       "    <tr>\n",
       "      <th>1</th>\n",
       "      <td>25.09.2020</td>\n",
       "      <td>112.885</td>\n",
       "      <td>1.665</td>\n",
       "      <td>73</td>\n",
       "      <td>1.318</td>\n",
       "      <td>9.834.572</td>\n",
       "      <td>311.455</td>\n",
       "      <td>7.858</td>\n",
       "      <td>273.282</td>\n",
       "      <td></td>\n",
       "      <td></td>\n",
       "      <td>6.6</td>\n",
       "      <td>1.601</td>\n",
       "    </tr>\n",
       "    <tr>\n",
       "      <th>2</th>\n",
       "      <td>24.09.2020</td>\n",
       "      <td>113.317</td>\n",
       "      <td>1.721</td>\n",
       "      <td>74</td>\n",
       "      <td>1.241</td>\n",
       "      <td>9.721.687</td>\n",
       "      <td>309.790</td>\n",
       "      <td>7.785</td>\n",
       "      <td>271.964</td>\n",
       "      <td></td>\n",
       "      <td></td>\n",
       "      <td>6.6</td>\n",
       "      <td>1.573</td>\n",
       "    </tr>\n",
       "    <tr>\n",
       "      <th>3</th>\n",
       "      <td>23.09.2020</td>\n",
       "      <td>112.102</td>\n",
       "      <td>1.767</td>\n",
       "      <td>72</td>\n",
       "      <td>1.027</td>\n",
       "      <td>9.608.370</td>\n",
       "      <td>308.069</td>\n",
       "      <td>7.711</td>\n",
       "      <td>270.723</td>\n",
       "      <td></td>\n",
       "      <td></td>\n",
       "      <td>6.7</td>\n",
       "      <td>1.561</td>\n",
       "    </tr>\n",
       "    <tr>\n",
       "      <th>4</th>\n",
       "      <td>22.09.2020</td>\n",
       "      <td>114.311</td>\n",
       "      <td>1.692</td>\n",
       "      <td>65</td>\n",
       "      <td>1.261</td>\n",
       "      <td>9.496.268</td>\n",
       "      <td>306.302</td>\n",
       "      <td>7.639</td>\n",
       "      <td>269.696</td>\n",
       "      <td></td>\n",
       "      <td></td>\n",
       "      <td>6.7</td>\n",
       "      <td>1.522</td>\n",
       "    </tr>\n",
       "  </tbody>\n",
       "</table>\n",
       "</div>"
      ],
      "text/plain": [
       "        tarih gunluk_test gunluk_vaka gunluk_vefat gunluk_iyilesen  \\\n",
       "0  26.09.2020     102.009       1.511           71           1.232   \n",
       "1  25.09.2020     112.885       1.665           73           1.318   \n",
       "2  24.09.2020     113.317       1.721           74           1.241   \n",
       "3  23.09.2020     112.102       1.767           72           1.027   \n",
       "4  22.09.2020     114.311       1.692           65           1.261   \n",
       "\n",
       "  toplam_test toplam_vaka toplam_vefat toplam_iyilesen toplam_yogun_bakim  \\\n",
       "0   9.936.581     312.966        7.929         274.514                      \n",
       "1   9.834.572     311.455        7.858         273.282                      \n",
       "2   9.721.687     309.790        7.785         271.964                      \n",
       "3   9.608.370     308.069        7.711         270.723                      \n",
       "4   9.496.268     306.302        7.639         269.696                      \n",
       "\n",
       "  toplam_entube hastalarda_zaturre_oran agir_hasta_sayisi  \n",
       "0                                   6.6             1.615  \n",
       "1                                   6.6             1.601  \n",
       "2                                   6.6             1.573  \n",
       "3                                   6.7             1.561  \n",
       "4                                   6.7             1.522  "
      ]
     },
     "execution_count": 3,
     "metadata": {},
     "output_type": "execute_result"
    }
   ],
   "source": [
    "df.head() # veriye bir göz gezdirelim"
   ]
  },
  {
   "cell_type": "code",
   "execution_count": 4,
   "metadata": {
    "collapsed": true,
    "jupyter": {
     "outputs_hidden": true
    }
   },
   "outputs": [
    {
     "name": "stdout",
     "output_type": "stream",
     "text": [
      "<class 'pandas.core.frame.DataFrame'>\n",
      "RangeIndex: 199 entries, 0 to 198\n",
      "Data columns (total 13 columns):\n",
      " #   Column                   Non-Null Count  Dtype \n",
      "---  ------                   --------------  ----- \n",
      " 0   tarih                    199 non-null    object\n",
      " 1   gunluk_test              199 non-null    object\n",
      " 2   gunluk_vaka              199 non-null    object\n",
      " 3   gunluk_vefat             199 non-null    object\n",
      " 4   gunluk_iyilesen          199 non-null    object\n",
      " 5   toplam_test              199 non-null    object\n",
      " 6   toplam_vaka              199 non-null    object\n",
      " 7   toplam_vefat             199 non-null    object\n",
      " 8   toplam_iyilesen          199 non-null    object\n",
      " 9   toplam_yogun_bakim       199 non-null    object\n",
      " 10  toplam_entube            199 non-null    object\n",
      " 11  hastalarda_zaturre_oran  199 non-null    object\n",
      " 12  agir_hasta_sayisi        199 non-null    object\n",
      "dtypes: object(13)\n",
      "memory usage: 20.3+ KB\n"
     ]
    }
   ],
   "source": [
    "df.info() # veri seti hakkında bilgi sahibi olalım"
   ]
  },
  {
   "cell_type": "code",
   "execution_count": 5,
   "metadata": {},
   "outputs": [],
   "source": [
    "cols = df.columns.tolist() # veri setine ait kolonları bir listeye atıyoruz\n",
    "cols.insert(1, cols.pop(cols.index('hastalarda_zaturre_oran'))) # bunu 2 satır aşağısı için yapıyoruz. Bu kolonu 2. sıraya çekeceğiz bu sayede aşağıda tip dönüşümleri yaparken takılmayacağız\n",
    "df = df.reindex(columns=cols) # veri setini yeniden indexliyoruz (kolon sırasını değiştiriyoruz)"
   ]
  },
  {
   "cell_type": "code",
   "execution_count": 6,
   "metadata": {},
   "outputs": [],
   "source": [
    "df['toplam_vaka'] = df['toplam_vaka'].apply(lambda x: str(f'{x}')).astype('string')\n",
    "# toplam_vaka kolonunun veri tipini string olarak güncelliyoruz"
   ]
  },
  {
   "cell_type": "code",
   "execution_count": 7,
   "metadata": {},
   "outputs": [],
   "source": [
    "for col_name in df.loc[:,'gunluk_test':].columns: # tüm satırları al VE gunluk_test kolonundan (dahil) son kolona kadar (dahil)\n",
    "    df[f'{col_name}'] = df[f'{col_name}'].str.replace('.','').astype('string') # kolondaki değerleri formatla ve veri tipini string'e çevir\n",
    "    df[f'{col_name}'] = pd.to_numeric(df[f'{col_name}']) # sayısal veri tipine dönüştürüyoruz "
   ]
  },
  {
   "cell_type": "code",
   "execution_count": 8,
   "metadata": {
    "collapsed": true,
    "jupyter": {
     "outputs_hidden": true
    }
   },
   "outputs": [
    {
     "name": "stdout",
     "output_type": "stream",
     "text": [
      "<class 'pandas.core.frame.DataFrame'>\n",
      "RangeIndex: 199 entries, 0 to 198\n",
      "Data columns (total 13 columns):\n",
      " #   Column                   Non-Null Count  Dtype  \n",
      "---  ------                   --------------  -----  \n",
      " 0   tarih                    199 non-null    object \n",
      " 1   hastalarda_zaturre_oran  199 non-null    object \n",
      " 2   gunluk_test              183 non-null    float64\n",
      " 3   gunluk_vaka              183 non-null    float64\n",
      " 4   gunluk_vefat             183 non-null    float64\n",
      " 5   gunluk_iyilesen          175 non-null    float64\n",
      " 6   toplam_test              183 non-null    float64\n",
      " 7   toplam_vaka              199 non-null    int64  \n",
      " 8   toplam_vefat             193 non-null    float64\n",
      " 9   toplam_iyilesen          183 non-null    float64\n",
      " 10  toplam_yogun_bakim       123 non-null    float64\n",
      " 11  toplam_entube            123 non-null    float64\n",
      " 12  agir_hasta_sayisi        60 non-null     float64\n",
      "dtypes: float64(10), int64(1), object(2)\n",
      "memory usage: 20.3+ KB\n"
     ]
    }
   ],
   "source": [
    "df.info()"
   ]
  },
  {
   "cell_type": "code",
   "execution_count": 9,
   "metadata": {
    "collapsed": true,
    "jupyter": {
     "outputs_hidden": true
    }
   },
   "outputs": [
    {
     "data": {
      "text/plain": [
       "tarih                      False\n",
       "hastalarda_zaturre_oran    False\n",
       "gunluk_test                 True\n",
       "gunluk_vaka                 True\n",
       "gunluk_vefat                True\n",
       "gunluk_iyilesen             True\n",
       "toplam_test                 True\n",
       "toplam_vaka                False\n",
       "toplam_vefat                True\n",
       "toplam_iyilesen             True\n",
       "toplam_yogun_bakim          True\n",
       "toplam_entube               True\n",
       "agir_hasta_sayisi           True\n",
       "dtype: bool"
      ]
     },
     "execution_count": 9,
     "metadata": {},
     "output_type": "execute_result"
    }
   ],
   "source": [
    "df.isna().any() # evet veri tipini sayısal'a çevirince aralarda NaN değerler oldu"
   ]
  },
  {
   "cell_type": "code",
   "execution_count": 10,
   "metadata": {},
   "outputs": [],
   "source": [
    "df.fillna(0,inplace=True) # NaN değerleri 0 olarak atamamızda bir sakınca yok, sonuçta bunlar o gün hiç hasta olmadığını belirtiyor. 0 atarsak mantıksal bir hata yapmış olmayız"
   ]
  },
  {
   "cell_type": "code",
   "execution_count": 11,
   "metadata": {},
   "outputs": [],
   "source": [
    "for col_name in df.loc[:,'gunluk_test':].columns:  # tekrar int'e çevirmek istediğimiz tüm kolonları geziyoruz\n",
    "    df[f'{col_name}'] = df[f'{col_name}'].astype('int') # veri tiplerini int'e çeviriyoruz ve mevcut kolon ile değiştiriyoruz"
   ]
  },
  {
   "cell_type": "code",
   "execution_count": 12,
   "metadata": {
    "collapsed": true,
    "jupyter": {
     "outputs_hidden": true
    }
   },
   "outputs": [
    {
     "name": "stdout",
     "output_type": "stream",
     "text": [
      "<class 'pandas.core.frame.DataFrame'>\n",
      "RangeIndex: 199 entries, 0 to 198\n",
      "Data columns (total 13 columns):\n",
      " #   Column                   Non-Null Count  Dtype \n",
      "---  ------                   --------------  ----- \n",
      " 0   tarih                    199 non-null    object\n",
      " 1   hastalarda_zaturre_oran  199 non-null    object\n",
      " 2   gunluk_test              199 non-null    int64 \n",
      " 3   gunluk_vaka              199 non-null    int64 \n",
      " 4   gunluk_vefat             199 non-null    int64 \n",
      " 5   gunluk_iyilesen          199 non-null    int64 \n",
      " 6   toplam_test              199 non-null    int64 \n",
      " 7   toplam_vaka              199 non-null    int64 \n",
      " 8   toplam_vefat             199 non-null    int64 \n",
      " 9   toplam_iyilesen          199 non-null    int64 \n",
      " 10  toplam_yogun_bakim       199 non-null    int64 \n",
      " 11  toplam_entube            199 non-null    int64 \n",
      " 12  agir_hasta_sayisi        199 non-null    int64 \n",
      "dtypes: int64(11), object(2)\n",
      "memory usage: 20.3+ KB\n"
     ]
    }
   ],
   "source": [
    "df.info()"
   ]
  },
  {
   "cell_type": "code",
   "execution_count": 13,
   "metadata": {},
   "outputs": [],
   "source": [
    "df['hastalarda_zaturre_oran'] = df['hastalarda_zaturre_oran'].str.replace(',','.') # bu kolonu float yapmamız gerekmekte fakat ondalık kısımda '.' yerine  ',' olduğu için hata alacağız. Bu sebeple önce ','leri '.' ile replace ediyoruz"
   ]
  },
  {
   "cell_type": "code",
   "execution_count": 14,
   "metadata": {},
   "outputs": [],
   "source": [
    "df['hastalarda_zaturre_oran'] = pd.to_numeric(df['hastalarda_zaturre_oran']) # ardından sütunu sxayısal'a çeviriyoruz"
   ]
  },
  {
   "cell_type": "code",
   "execution_count": 15,
   "metadata": {
    "collapsed": true,
    "jupyter": {
     "outputs_hidden": true
    }
   },
   "outputs": [
    {
     "name": "stdout",
     "output_type": "stream",
     "text": [
      "<class 'pandas.core.frame.DataFrame'>\n",
      "RangeIndex: 199 entries, 0 to 198\n",
      "Data columns (total 13 columns):\n",
      " #   Column                   Non-Null Count  Dtype  \n",
      "---  ------                   --------------  -----  \n",
      " 0   tarih                    199 non-null    object \n",
      " 1   hastalarda_zaturre_oran  60 non-null     float64\n",
      " 2   gunluk_test              199 non-null    int64  \n",
      " 3   gunluk_vaka              199 non-null    int64  \n",
      " 4   gunluk_vefat             199 non-null    int64  \n",
      " 5   gunluk_iyilesen          199 non-null    int64  \n",
      " 6   toplam_test              199 non-null    int64  \n",
      " 7   toplam_vaka              199 non-null    int64  \n",
      " 8   toplam_vefat             199 non-null    int64  \n",
      " 9   toplam_iyilesen          199 non-null    int64  \n",
      " 10  toplam_yogun_bakim       199 non-null    int64  \n",
      " 11  toplam_entube            199 non-null    int64  \n",
      " 12  agir_hasta_sayisi        199 non-null    int64  \n",
      "dtypes: float64(1), int64(11), object(1)\n",
      "memory usage: 20.3+ KB\n"
     ]
    }
   ],
   "source": [
    "df.info()"
   ]
  },
  {
   "cell_type": "code",
   "execution_count": 16,
   "metadata": {},
   "outputs": [],
   "source": [
    "df['tarih'] = pd.to_datetime(df['tarih']) # tarih sütunumuzu da DateTime tip olarak güncelliyoruz"
   ]
  },
  {
   "cell_type": "code",
   "execution_count": 17,
   "metadata": {
    "collapsed": true,
    "jupyter": {
     "outputs_hidden": true
    }
   },
   "outputs": [
    {
     "name": "stdout",
     "output_type": "stream",
     "text": [
      "<class 'pandas.core.frame.DataFrame'>\n",
      "RangeIndex: 199 entries, 0 to 198\n",
      "Data columns (total 13 columns):\n",
      " #   Column                   Non-Null Count  Dtype         \n",
      "---  ------                   --------------  -----         \n",
      " 0   tarih                    199 non-null    datetime64[ns]\n",
      " 1   hastalarda_zaturre_oran  60 non-null     float64       \n",
      " 2   gunluk_test              199 non-null    int64         \n",
      " 3   gunluk_vaka              199 non-null    int64         \n",
      " 4   gunluk_vefat             199 non-null    int64         \n",
      " 5   gunluk_iyilesen          199 non-null    int64         \n",
      " 6   toplam_test              199 non-null    int64         \n",
      " 7   toplam_vaka              199 non-null    int64         \n",
      " 8   toplam_vefat             199 non-null    int64         \n",
      " 9   toplam_iyilesen          199 non-null    int64         \n",
      " 10  toplam_yogun_bakim       199 non-null    int64         \n",
      " 11  toplam_entube            199 non-null    int64         \n",
      " 12  agir_hasta_sayisi        199 non-null    int64         \n",
      "dtypes: datetime64[ns](1), float64(1), int64(11)\n",
      "memory usage: 20.3 KB\n"
     ]
    }
   ],
   "source": [
    "df.info() # artık chart çıkartmak için hazırız ^^"
   ]
  },
  {
   "cell_type": "code",
   "execution_count": 18,
   "metadata": {},
   "outputs": [
    {
     "data": {
      "image/png": "[encoded data removed]",
      "text/plain": [
       "<Figure size 432x288 with 1 Axes>"
      ]
     },
     "metadata": {
      "needs_background": "light"
     },
     "output_type": "display_data"
    }
   ],
   "source": [
    "sns.lineplot(x='tarih',y='toplam_vaka',data=df)\n",
    "sns.set(rc={'figure.figsize':(25,10)},style='darkgrid')\n",
    "plt.xlabel('Tarih')\n",
    "plt.ylabel('Toplam Vaka Sayısı')\n",
    "plt.title('Covid-19 Zamana Göre Toplam Vaka Sayısı')\n",
    "plt.show()"
   ]
  },
  {
   "cell_type": "code",
   "execution_count": null,
   "metadata": {},
   "outputs": [],
   "source": []
  }
 ],
 "metadata": {
  "kernelspec": {
   "display_name": "Python 3",
   "language": "python",
   "name": "python3"
  },
  "language_info": {
   "codemirror_mode": {
    "name": "ipython",
    "version": 3
   },
   "file_extension": ".py",
   "mimetype": "text/x-python",
   "name": "python",
   "nbconvert_exporter": "python",
   "pygments_lexer": "ipython3",
   "version": "3.7.6"
  }
 },
 "nbformat": 4,
 "nbformat_minor": 4
}
